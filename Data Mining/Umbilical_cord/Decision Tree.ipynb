{
 "cells": [
  {
   "cell_type": "code",
   "execution_count": 1,
   "id": "753b8a4d-76fd-45fd-8747-5faaa47b4e45",
   "metadata": {},
   "outputs": [],
   "source": [
    "# Import Libraries\n",
    "import pandas as pd\n",
    "import numpy as np\n",
    "import klib\n",
    "import seaborn as sns\n",
    "import matplotlib.pyplot as plt\n",
    "\n",
    "from sklearn.impute import SimpleImputer\n",
    "from sklearn.preprocessing import LabelEncoder, OneHotEncoder\n",
    "from sklearn.compose import ColumnTransformer\n",
    "from sklearn.ensemble import IsolationForest\n",
    "from sklearn.model_selection import train_test_split\n",
    "from sklearn.tree import DecisionTreeClassifier\n",
    "from sklearn import metrics\n",
    "\n",
    "plt.style.use('seaborn')"
   ]
  },
  {
   "cell_type": "code",
   "execution_count": 2,
   "id": "1fe966a5-5e86-4779-80af-dc5be40e2765",
   "metadata": {},
   "outputs": [],
   "source": [
    "df = pd.read_csv('Umbilical_cord.csv')"
   ]
  },
  {
   "cell_type": "code",
   "execution_count": 3,
   "id": "78391e35-23ae-40a0-b21e-14e9e33e7f55",
   "metadata": {},
   "outputs": [
    {
     "data": {
      "text/html": [
       "<div>\n",
       "<style scoped>\n",
       "    .dataframe tbody tr th:only-of-type {\n",
       "        vertical-align: middle;\n",
       "    }\n",
       "\n",
       "    .dataframe tbody tr th {\n",
       "        vertical-align: top;\n",
       "    }\n",
       "\n",
       "    .dataframe thead th {\n",
       "        text-align: right;\n",
       "    }\n",
       "</style>\n",
       "<table border=\"1\" class=\"dataframe\">\n",
       "  <thead>\n",
       "    <tr style=\"text-align: right;\">\n",
       "      <th></th>\n",
       "      <th>V1</th>\n",
       "      <th>V2</th>\n",
       "      <th>V3</th>\n",
       "      <th>V4</th>\n",
       "      <th>V5</th>\n",
       "      <th>class</th>\n",
       "    </tr>\n",
       "  </thead>\n",
       "  <tbody>\n",
       "    <tr>\n",
       "      <th>0</th>\n",
       "      <td>0.445238</td>\n",
       "      <td>0.505075</td>\n",
       "      <td>-0.820383</td>\n",
       "      <td>0.995991</td>\n",
       "      <td>0.032069</td>\n",
       "      <td>1</td>\n",
       "    </tr>\n",
       "    <tr>\n",
       "      <th>1</th>\n",
       "      <td>0.498504</td>\n",
       "      <td>0.439431</td>\n",
       "      <td>-0.542831</td>\n",
       "      <td>0.931170</td>\n",
       "      <td>0.550642</td>\n",
       "      <td>1</td>\n",
       "    </tr>\n",
       "    <tr>\n",
       "      <th>2</th>\n",
       "      <td>0.510062</td>\n",
       "      <td>0.439431</td>\n",
       "      <td>-0.542831</td>\n",
       "      <td>0.931170</td>\n",
       "      <td>0.550642</td>\n",
       "      <td>1</td>\n",
       "    </tr>\n",
       "    <tr>\n",
       "      <th>3</th>\n",
       "      <td>0.239149</td>\n",
       "      <td>0.463595</td>\n",
       "      <td>-0.744533</td>\n",
       "      <td>0.997584</td>\n",
       "      <td>0.019329</td>\n",
       "      <td>1</td>\n",
       "    </tr>\n",
       "    <tr>\n",
       "      <th>4</th>\n",
       "      <td>0.348374</td>\n",
       "      <td>0.464238</td>\n",
       "      <td>-0.599760</td>\n",
       "      <td>0.951383</td>\n",
       "      <td>0.388940</td>\n",
       "      <td>1</td>\n",
       "    </tr>\n",
       "    <tr>\n",
       "      <th>...</th>\n",
       "      <td>...</td>\n",
       "      <td>...</td>\n",
       "      <td>...</td>\n",
       "      <td>...</td>\n",
       "      <td>...</td>\n",
       "      <td>...</td>\n",
       "    </tr>\n",
       "    <tr>\n",
       "      <th>146</th>\n",
       "      <td>0.640631</td>\n",
       "      <td>0.548613</td>\n",
       "      <td>-0.585006</td>\n",
       "      <td>0.950092</td>\n",
       "      <td>0.399267</td>\n",
       "      <td>3</td>\n",
       "    </tr>\n",
       "    <tr>\n",
       "      <th>147</th>\n",
       "      <td>0.738230</td>\n",
       "      <td>NaN</td>\n",
       "      <td>-0.592338</td>\n",
       "      <td>0.950737</td>\n",
       "      <td>0.394103</td>\n",
       "      <td>3</td>\n",
       "    </tr>\n",
       "    <tr>\n",
       "      <th>148</th>\n",
       "      <td>0.640631</td>\n",
       "      <td>0.448613</td>\n",
       "      <td>-0.585006</td>\n",
       "      <td>0.950092</td>\n",
       "      <td>0.399267</td>\n",
       "      <td>3</td>\n",
       "    </tr>\n",
       "    <tr>\n",
       "      <th>149</th>\n",
       "      <td>0.838230</td>\n",
       "      <td>0.449279</td>\n",
       "      <td>-0.592338</td>\n",
       "      <td>NaN</td>\n",
       "      <td>0.394103</td>\n",
       "      <td>3</td>\n",
       "    </tr>\n",
       "    <tr>\n",
       "      <th>150</th>\n",
       "      <td>0.395254</td>\n",
       "      <td>0.529118</td>\n",
       "      <td>-0.499564</td>\n",
       "      <td>0.917122</td>\n",
       "      <td>0.513023</td>\n",
       "      <td>3</td>\n",
       "    </tr>\n",
       "  </tbody>\n",
       "</table>\n",
       "<p>151 rows × 6 columns</p>\n",
       "</div>"
      ],
      "text/plain": [
       "           V1        V2        V3        V4        V5  class\n",
       "0    0.445238  0.505075 -0.820383  0.995991  0.032069      1\n",
       "1    0.498504  0.439431 -0.542831  0.931170  0.550642      1\n",
       "2    0.510062  0.439431 -0.542831  0.931170  0.550642      1\n",
       "3    0.239149  0.463595 -0.744533  0.997584  0.019329      1\n",
       "4    0.348374  0.464238 -0.599760  0.951383  0.388940      1\n",
       "..        ...       ...       ...       ...       ...    ...\n",
       "146  0.640631  0.548613 -0.585006  0.950092  0.399267      3\n",
       "147  0.738230       NaN -0.592338  0.950737  0.394103      3\n",
       "148  0.640631  0.448613 -0.585006  0.950092  0.399267      3\n",
       "149  0.838230  0.449279 -0.592338       NaN  0.394103      3\n",
       "150  0.395254  0.529118 -0.499564  0.917122  0.513023      3\n",
       "\n",
       "[151 rows x 6 columns]"
      ]
     },
     "execution_count": 3,
     "metadata": {},
     "output_type": "execute_result"
    }
   ],
   "source": [
    "df"
   ]
  },
  {
   "cell_type": "markdown",
   "id": "26b10028-bbe0-48cd-938c-510b0cd27bcc",
   "metadata": {},
   "source": [
    "## **Data Analysis**"
   ]
  },
  {
   "cell_type": "code",
   "execution_count": 4,
   "id": "c7daaa2b-c7d9-4064-83dd-4a5a6dadaacb",
   "metadata": {},
   "outputs": [
    {
     "data": {
      "text/html": [
       "<div>\n",
       "<style scoped>\n",
       "    .dataframe tbody tr th:only-of-type {\n",
       "        vertical-align: middle;\n",
       "    }\n",
       "\n",
       "    .dataframe tbody tr th {\n",
       "        vertical-align: top;\n",
       "    }\n",
       "\n",
       "    .dataframe thead th {\n",
       "        text-align: right;\n",
       "    }\n",
       "</style>\n",
       "<table border=\"1\" class=\"dataframe\">\n",
       "  <thead>\n",
       "    <tr style=\"text-align: right;\">\n",
       "      <th></th>\n",
       "      <th>V1</th>\n",
       "      <th>V2</th>\n",
       "      <th>V3</th>\n",
       "      <th>V4</th>\n",
       "      <th>V5</th>\n",
       "      <th>class</th>\n",
       "    </tr>\n",
       "  </thead>\n",
       "  <tbody>\n",
       "    <tr>\n",
       "      <th>0</th>\n",
       "      <td>0.445238</td>\n",
       "      <td>0.505075</td>\n",
       "      <td>-0.820383</td>\n",
       "      <td>0.995991</td>\n",
       "      <td>0.032069</td>\n",
       "      <td>1</td>\n",
       "    </tr>\n",
       "    <tr>\n",
       "      <th>1</th>\n",
       "      <td>0.498504</td>\n",
       "      <td>0.439431</td>\n",
       "      <td>-0.542831</td>\n",
       "      <td>0.931170</td>\n",
       "      <td>0.550642</td>\n",
       "      <td>1</td>\n",
       "    </tr>\n",
       "    <tr>\n",
       "      <th>2</th>\n",
       "      <td>0.510062</td>\n",
       "      <td>0.439431</td>\n",
       "      <td>-0.542831</td>\n",
       "      <td>0.931170</td>\n",
       "      <td>0.550642</td>\n",
       "      <td>1</td>\n",
       "    </tr>\n",
       "    <tr>\n",
       "      <th>3</th>\n",
       "      <td>0.239149</td>\n",
       "      <td>0.463595</td>\n",
       "      <td>-0.744533</td>\n",
       "      <td>0.997584</td>\n",
       "      <td>0.019329</td>\n",
       "      <td>1</td>\n",
       "    </tr>\n",
       "    <tr>\n",
       "      <th>4</th>\n",
       "      <td>0.348374</td>\n",
       "      <td>0.464238</td>\n",
       "      <td>-0.599760</td>\n",
       "      <td>0.951383</td>\n",
       "      <td>0.388940</td>\n",
       "      <td>1</td>\n",
       "    </tr>\n",
       "  </tbody>\n",
       "</table>\n",
       "</div>"
      ],
      "text/plain": [
       "         V1        V2        V3        V4        V5  class\n",
       "0  0.445238  0.505075 -0.820383  0.995991  0.032069      1\n",
       "1  0.498504  0.439431 -0.542831  0.931170  0.550642      1\n",
       "2  0.510062  0.439431 -0.542831  0.931170  0.550642      1\n",
       "3  0.239149  0.463595 -0.744533  0.997584  0.019329      1\n",
       "4  0.348374  0.464238 -0.599760  0.951383  0.388940      1"
      ]
     },
     "execution_count": 4,
     "metadata": {},
     "output_type": "execute_result"
    }
   ],
   "source": [
    "df.head()"
   ]
  },
  {
   "cell_type": "code",
   "execution_count": 5,
   "id": "65f764a9-7eae-414f-9252-9d2066794e03",
   "metadata": {},
   "outputs": [
    {
     "data": {
      "text/html": [
       "<div>\n",
       "<style scoped>\n",
       "    .dataframe tbody tr th:only-of-type {\n",
       "        vertical-align: middle;\n",
       "    }\n",
       "\n",
       "    .dataframe tbody tr th {\n",
       "        vertical-align: top;\n",
       "    }\n",
       "\n",
       "    .dataframe thead th {\n",
       "        text-align: right;\n",
       "    }\n",
       "</style>\n",
       "<table border=\"1\" class=\"dataframe\">\n",
       "  <thead>\n",
       "    <tr style=\"text-align: right;\">\n",
       "      <th></th>\n",
       "      <th>V1</th>\n",
       "      <th>V2</th>\n",
       "      <th>V3</th>\n",
       "      <th>V4</th>\n",
       "      <th>V5</th>\n",
       "      <th>class</th>\n",
       "    </tr>\n",
       "  </thead>\n",
       "  <tbody>\n",
       "    <tr>\n",
       "      <th>146</th>\n",
       "      <td>0.640631</td>\n",
       "      <td>0.548613</td>\n",
       "      <td>-0.585006</td>\n",
       "      <td>0.950092</td>\n",
       "      <td>0.399267</td>\n",
       "      <td>3</td>\n",
       "    </tr>\n",
       "    <tr>\n",
       "      <th>147</th>\n",
       "      <td>0.738230</td>\n",
       "      <td>NaN</td>\n",
       "      <td>-0.592338</td>\n",
       "      <td>0.950737</td>\n",
       "      <td>0.394103</td>\n",
       "      <td>3</td>\n",
       "    </tr>\n",
       "    <tr>\n",
       "      <th>148</th>\n",
       "      <td>0.640631</td>\n",
       "      <td>0.448613</td>\n",
       "      <td>-0.585006</td>\n",
       "      <td>0.950092</td>\n",
       "      <td>0.399267</td>\n",
       "      <td>3</td>\n",
       "    </tr>\n",
       "    <tr>\n",
       "      <th>149</th>\n",
       "      <td>0.838230</td>\n",
       "      <td>0.449279</td>\n",
       "      <td>-0.592338</td>\n",
       "      <td>NaN</td>\n",
       "      <td>0.394103</td>\n",
       "      <td>3</td>\n",
       "    </tr>\n",
       "    <tr>\n",
       "      <th>150</th>\n",
       "      <td>0.395254</td>\n",
       "      <td>0.529118</td>\n",
       "      <td>-0.499564</td>\n",
       "      <td>0.917122</td>\n",
       "      <td>0.513023</td>\n",
       "      <td>3</td>\n",
       "    </tr>\n",
       "  </tbody>\n",
       "</table>\n",
       "</div>"
      ],
      "text/plain": [
       "           V1        V2        V3        V4        V5  class\n",
       "146  0.640631  0.548613 -0.585006  0.950092  0.399267      3\n",
       "147  0.738230       NaN -0.592338  0.950737  0.394103      3\n",
       "148  0.640631  0.448613 -0.585006  0.950092  0.399267      3\n",
       "149  0.838230  0.449279 -0.592338       NaN  0.394103      3\n",
       "150  0.395254  0.529118 -0.499564  0.917122  0.513023      3"
      ]
     },
     "execution_count": 5,
     "metadata": {},
     "output_type": "execute_result"
    }
   ],
   "source": [
    "df.tail()"
   ]
  },
  {
   "cell_type": "code",
   "execution_count": 6,
   "id": "10fc46e4-bbff-4d7d-a714-d76f73b78667",
   "metadata": {},
   "outputs": [
    {
     "name": "stdout",
     "output_type": "stream",
     "text": [
      "<class 'pandas.core.frame.DataFrame'>\n",
      "RangeIndex: 151 entries, 0 to 150\n",
      "Data columns (total 6 columns):\n",
      " #   Column  Non-Null Count  Dtype  \n",
      "---  ------  --------------  -----  \n",
      " 0   V1      150 non-null    float64\n",
      " 1   V2      137 non-null    float64\n",
      " 2   V3      149 non-null    float64\n",
      " 3   V4      139 non-null    float64\n",
      " 4   V5      150 non-null    float64\n",
      " 5   class   151 non-null    int64  \n",
      "dtypes: float64(5), int64(1)\n",
      "memory usage: 7.2 KB\n"
     ]
    }
   ],
   "source": [
    "df.info()"
   ]
  },
  {
   "cell_type": "code",
   "execution_count": 7,
   "id": "81a9b089-983a-43f4-9591-bc2cc63a1d35",
   "metadata": {},
   "outputs": [
    {
     "data": {
      "text/html": [
       "<div>\n",
       "<style scoped>\n",
       "    .dataframe tbody tr th:only-of-type {\n",
       "        vertical-align: middle;\n",
       "    }\n",
       "\n",
       "    .dataframe tbody tr th {\n",
       "        vertical-align: top;\n",
       "    }\n",
       "\n",
       "    .dataframe thead th {\n",
       "        text-align: right;\n",
       "    }\n",
       "</style>\n",
       "<table border=\"1\" class=\"dataframe\">\n",
       "  <thead>\n",
       "    <tr style=\"text-align: right;\">\n",
       "      <th></th>\n",
       "      <th>V1</th>\n",
       "      <th>V2</th>\n",
       "      <th>V3</th>\n",
       "      <th>V4</th>\n",
       "      <th>V5</th>\n",
       "      <th>class</th>\n",
       "    </tr>\n",
       "  </thead>\n",
       "  <tbody>\n",
       "    <tr>\n",
       "      <th>count</th>\n",
       "      <td>150.000000</td>\n",
       "      <td>137.000000</td>\n",
       "      <td>149.000000</td>\n",
       "      <td>139.000000</td>\n",
       "      <td>150.000000</td>\n",
       "      <td>151.000000</td>\n",
       "    </tr>\n",
       "    <tr>\n",
       "      <th>mean</th>\n",
       "      <td>0.338273</td>\n",
       "      <td>0.496872</td>\n",
       "      <td>-0.722455</td>\n",
       "      <td>0.972831</td>\n",
       "      <td>0.221039</td>\n",
       "      <td>1.344371</td>\n",
       "    </tr>\n",
       "    <tr>\n",
       "      <th>std</th>\n",
       "      <td>0.151900</td>\n",
       "      <td>0.058576</td>\n",
       "      <td>0.124096</td>\n",
       "      <td>0.019652</td>\n",
       "      <td>0.154744</td>\n",
       "      <td>0.589309</td>\n",
       "    </tr>\n",
       "    <tr>\n",
       "      <th>min</th>\n",
       "      <td>0.105265</td>\n",
       "      <td>0.415673</td>\n",
       "      <td>-0.892557</td>\n",
       "      <td>0.909939</td>\n",
       "      <td>0.018468</td>\n",
       "      <td>1.000000</td>\n",
       "    </tr>\n",
       "    <tr>\n",
       "      <th>25%</th>\n",
       "      <td>0.239297</td>\n",
       "      <td>0.466318</td>\n",
       "      <td>-0.817893</td>\n",
       "      <td>0.964420</td>\n",
       "      <td>0.117814</td>\n",
       "      <td>1.000000</td>\n",
       "    </tr>\n",
       "    <tr>\n",
       "      <th>50%</th>\n",
       "      <td>0.325238</td>\n",
       "      <td>0.484382</td>\n",
       "      <td>-0.756827</td>\n",
       "      <td>0.980293</td>\n",
       "      <td>0.159195</td>\n",
       "      <td>1.000000</td>\n",
       "    </tr>\n",
       "    <tr>\n",
       "      <th>75%</th>\n",
       "      <td>0.422891</td>\n",
       "      <td>0.511126</td>\n",
       "      <td>-0.625878</td>\n",
       "      <td>0.985404</td>\n",
       "      <td>0.304688</td>\n",
       "      <td>2.000000</td>\n",
       "    </tr>\n",
       "    <tr>\n",
       "      <th>max</th>\n",
       "      <td>0.957631</td>\n",
       "      <td>0.849507</td>\n",
       "      <td>-0.224390</td>\n",
       "      <td>0.997692</td>\n",
       "      <td>0.720484</td>\n",
       "      <td>3.000000</td>\n",
       "    </tr>\n",
       "  </tbody>\n",
       "</table>\n",
       "</div>"
      ],
      "text/plain": [
       "               V1          V2          V3          V4          V5       class\n",
       "count  150.000000  137.000000  149.000000  139.000000  150.000000  151.000000\n",
       "mean     0.338273    0.496872   -0.722455    0.972831    0.221039    1.344371\n",
       "std      0.151900    0.058576    0.124096    0.019652    0.154744    0.589309\n",
       "min      0.105265    0.415673   -0.892557    0.909939    0.018468    1.000000\n",
       "25%      0.239297    0.466318   -0.817893    0.964420    0.117814    1.000000\n",
       "50%      0.325238    0.484382   -0.756827    0.980293    0.159195    1.000000\n",
       "75%      0.422891    0.511126   -0.625878    0.985404    0.304688    2.000000\n",
       "max      0.957631    0.849507   -0.224390    0.997692    0.720484    3.000000"
      ]
     },
     "execution_count": 7,
     "metadata": {},
     "output_type": "execute_result"
    }
   ],
   "source": [
    "df.describe()"
   ]
  },
  {
   "cell_type": "code",
   "execution_count": 8,
   "id": "461c2ef1-a242-44f6-8029-a2c2e01066f6",
   "metadata": {},
   "outputs": [
    {
     "data": {
      "text/plain": [
       "V1       float64\n",
       "V2       float64\n",
       "V3       float64\n",
       "V4       float64\n",
       "V5       float64\n",
       "class      int64\n",
       "dtype: object"
      ]
     },
     "execution_count": 8,
     "metadata": {},
     "output_type": "execute_result"
    }
   ],
   "source": [
    "df.dtypes"
   ]
  },
  {
   "cell_type": "code",
   "execution_count": 9,
   "id": "64b5db5c-2d31-4c3e-8172-b1f81f668ddc",
   "metadata": {},
   "outputs": [
    {
     "data": {
      "text/html": [
       "<div>\n",
       "<style scoped>\n",
       "    .dataframe tbody tr th:only-of-type {\n",
       "        vertical-align: middle;\n",
       "    }\n",
       "\n",
       "    .dataframe tbody tr th {\n",
       "        vertical-align: top;\n",
       "    }\n",
       "\n",
       "    .dataframe thead th {\n",
       "        text-align: right;\n",
       "    }\n",
       "</style>\n",
       "<table border=\"1\" class=\"dataframe\">\n",
       "  <thead>\n",
       "    <tr style=\"text-align: right;\">\n",
       "      <th></th>\n",
       "      <th>Feature</th>\n",
       "      <th>Data_type</th>\n",
       "      <th>Null_num</th>\n",
       "      <th>Null_pct</th>\n",
       "      <th>Unique_num</th>\n",
       "      <th>Unique_sample</th>\n",
       "    </tr>\n",
       "  </thead>\n",
       "  <tbody>\n",
       "    <tr>\n",
       "      <th>0</th>\n",
       "      <td>V1</td>\n",
       "      <td>float64</td>\n",
       "      <td>1</td>\n",
       "      <td>0.662252</td>\n",
       "      <td>[0.445238462, 0.498503907, 0.510062189, 0.2391...</td>\n",
       "      <td>[0.445238462, 0.498503907, 0.510062189, 0.2391...</td>\n",
       "    </tr>\n",
       "    <tr>\n",
       "      <th>1</th>\n",
       "      <td>V2</td>\n",
       "      <td>float64</td>\n",
       "      <td>14</td>\n",
       "      <td>9.271523</td>\n",
       "      <td>[0.505075484, 0.439430528, 0.463595125, 0.4642...</td>\n",
       "      <td>[0.505075484, 0.439430528, 0.463595125, 0.4642...</td>\n",
       "    </tr>\n",
       "    <tr>\n",
       "      <th>2</th>\n",
       "      <td>V3</td>\n",
       "      <td>float64</td>\n",
       "      <td>2</td>\n",
       "      <td>1.324503</td>\n",
       "      <td>[-0.820383398, -0.542830517, -0.744533353, -0....</td>\n",
       "      <td>[-0.820383398, -0.542830517, -0.744533353, -0....</td>\n",
       "    </tr>\n",
       "    <tr>\n",
       "      <th>3</th>\n",
       "      <td>V4</td>\n",
       "      <td>float64</td>\n",
       "      <td>12</td>\n",
       "      <td>7.947020</td>\n",
       "      <td>[0.995991373, 0.931169794, 0.997583871, 0.9513...</td>\n",
       "      <td>[0.995991373, 0.931169794, 0.997583871, 0.9513...</td>\n",
       "    </tr>\n",
       "    <tr>\n",
       "      <th>4</th>\n",
       "      <td>V5</td>\n",
       "      <td>float64</td>\n",
       "      <td>1</td>\n",
       "      <td>0.662252</td>\n",
       "      <td>[0.032069017, 0.55064165, 0.019329032, 0.38893...</td>\n",
       "      <td>[0.032069017, 0.55064165, 0.019329032, 0.38893...</td>\n",
       "    </tr>\n",
       "    <tr>\n",
       "      <th>5</th>\n",
       "      <td>class</td>\n",
       "      <td>int64</td>\n",
       "      <td>0</td>\n",
       "      <td>0.000000</td>\n",
       "      <td>[1, 2, 3]</td>\n",
       "      <td>[1, 2, 3]</td>\n",
       "    </tr>\n",
       "  </tbody>\n",
       "</table>\n",
       "</div>"
      ],
      "text/plain": [
       "  Feature Data_type  Null_num  Null_pct  \\\n",
       "0      V1   float64         1  0.662252   \n",
       "1      V2   float64        14  9.271523   \n",
       "2      V3   float64         2  1.324503   \n",
       "3      V4   float64        12  7.947020   \n",
       "4      V5   float64         1  0.662252   \n",
       "5   class     int64         0  0.000000   \n",
       "\n",
       "                                          Unique_num  \\\n",
       "0  [0.445238462, 0.498503907, 0.510062189, 0.2391...   \n",
       "1  [0.505075484, 0.439430528, 0.463595125, 0.4642...   \n",
       "2  [-0.820383398, -0.542830517, -0.744533353, -0....   \n",
       "3  [0.995991373, 0.931169794, 0.997583871, 0.9513...   \n",
       "4  [0.032069017, 0.55064165, 0.019329032, 0.38893...   \n",
       "5                                          [1, 2, 3]   \n",
       "\n",
       "                                       Unique_sample  \n",
       "0  [0.445238462, 0.498503907, 0.510062189, 0.2391...  \n",
       "1  [0.505075484, 0.439430528, 0.463595125, 0.4642...  \n",
       "2  [-0.820383398, -0.542830517, -0.744533353, -0....  \n",
       "3  [0.995991373, 0.931169794, 0.997583871, 0.9513...  \n",
       "4  [0.032069017, 0.55064165, 0.019329032, 0.38893...  \n",
       "5                                          [1, 2, 3]  "
      ]
     },
     "execution_count": 9,
     "metadata": {},
     "output_type": "execute_result"
    }
   ],
   "source": [
    "list_item = []\n",
    "for col in df.columns:\n",
    "    list_item.append([col,                                    # Feature\n",
    "                      df[col].dtype,                          # Data_type\n",
    "                      df[col].isna().sum(),                   # Null_num\n",
    "                      100*df[col].isna().sum()/len(df[col]),  # Null_pct\n",
    "                      df[col].unique(),                       # Unique_num\n",
    "                      df[col].unique()[:4]])                  # Unique_sample\n",
    "desc_df = pd.DataFrame(data=list_item, columns='Feature Data_type Null_num Null_pct Unique_num Unique_sample'.split()) \n",
    "desc_df"
   ]
  },
  {
   "cell_type": "markdown",
   "id": "741e540f-4b4f-4c0e-b73b-02b0e60ba488",
   "metadata": {},
   "source": [
    "## **Data Preprocessing**"
   ]
  },
  {
   "cell_type": "markdown",
   "id": "a0723552-89f0-4c81-80bd-01921d4b73fc",
   "metadata": {
    "tags": []
   },
   "source": [
    "### Missing Value"
   ]
  },
  {
   "cell_type": "code",
   "execution_count": 10,
   "id": "35029120-bc85-43bf-9c6e-a935f8f8f9af",
   "metadata": {},
   "outputs": [
    {
     "data": {
      "text/plain": [
       "V1        1\n",
       "V2       14\n",
       "V3        2\n",
       "V4       12\n",
       "V5        1\n",
       "class     0\n",
       "dtype: int64"
      ]
     },
     "execution_count": 10,
     "metadata": {},
     "output_type": "execute_result"
    }
   ],
   "source": [
    "df.isna().sum()"
   ]
  },
  {
   "cell_type": "code",
   "execution_count": 11,
   "id": "e2b43a23-759e-4b5f-9b3c-be2de75886f6",
   "metadata": {},
   "outputs": [],
   "source": [
    "# Impute menggunakan nilai median\n",
    "imputer = SimpleImputer(missing_values=np.nan, strategy='median')\n",
    "df.iloc[:, :-1] = imputer.fit_transform(df.iloc[:, :-1])"
   ]
  },
  {
   "cell_type": "code",
   "execution_count": 12,
   "id": "f1c89578-deda-48de-9c4b-a43d3f7b2dea",
   "metadata": {},
   "outputs": [
    {
     "data": {
      "text/plain": [
       "V1       0\n",
       "V2       0\n",
       "V3       0\n",
       "V4       0\n",
       "V5       0\n",
       "class    0\n",
       "dtype: int64"
      ]
     },
     "execution_count": 12,
     "metadata": {},
     "output_type": "execute_result"
    }
   ],
   "source": [
    "df.isna().sum()"
   ]
  },
  {
   "cell_type": "code",
   "execution_count": 13,
   "id": "f19e340d-b700-4746-818b-1555c1fa85f2",
   "metadata": {},
   "outputs": [
    {
     "data": {
      "text/html": [
       "<div>\n",
       "<style scoped>\n",
       "    .dataframe tbody tr th:only-of-type {\n",
       "        vertical-align: middle;\n",
       "    }\n",
       "\n",
       "    .dataframe tbody tr th {\n",
       "        vertical-align: top;\n",
       "    }\n",
       "\n",
       "    .dataframe thead th {\n",
       "        text-align: right;\n",
       "    }\n",
       "</style>\n",
       "<table border=\"1\" class=\"dataframe\">\n",
       "  <thead>\n",
       "    <tr style=\"text-align: right;\">\n",
       "      <th></th>\n",
       "      <th>V1</th>\n",
       "      <th>V2</th>\n",
       "      <th>V3</th>\n",
       "      <th>V4</th>\n",
       "      <th>V5</th>\n",
       "      <th>class</th>\n",
       "    </tr>\n",
       "  </thead>\n",
       "  <tbody>\n",
       "    <tr>\n",
       "      <th>0</th>\n",
       "      <td>0.445238</td>\n",
       "      <td>0.505075</td>\n",
       "      <td>-0.820383</td>\n",
       "      <td>0.995991</td>\n",
       "      <td>0.032069</td>\n",
       "      <td>1</td>\n",
       "    </tr>\n",
       "    <tr>\n",
       "      <th>1</th>\n",
       "      <td>0.498504</td>\n",
       "      <td>0.439431</td>\n",
       "      <td>-0.542831</td>\n",
       "      <td>0.931170</td>\n",
       "      <td>0.550642</td>\n",
       "      <td>1</td>\n",
       "    </tr>\n",
       "    <tr>\n",
       "      <th>2</th>\n",
       "      <td>0.510062</td>\n",
       "      <td>0.439431</td>\n",
       "      <td>-0.542831</td>\n",
       "      <td>0.931170</td>\n",
       "      <td>0.550642</td>\n",
       "      <td>1</td>\n",
       "    </tr>\n",
       "    <tr>\n",
       "      <th>3</th>\n",
       "      <td>0.239149</td>\n",
       "      <td>0.463595</td>\n",
       "      <td>-0.744533</td>\n",
       "      <td>0.997584</td>\n",
       "      <td>0.019329</td>\n",
       "      <td>1</td>\n",
       "    </tr>\n",
       "    <tr>\n",
       "      <th>4</th>\n",
       "      <td>0.348374</td>\n",
       "      <td>0.464238</td>\n",
       "      <td>-0.599760</td>\n",
       "      <td>0.951383</td>\n",
       "      <td>0.388940</td>\n",
       "      <td>1</td>\n",
       "    </tr>\n",
       "    <tr>\n",
       "      <th>...</th>\n",
       "      <td>...</td>\n",
       "      <td>...</td>\n",
       "      <td>...</td>\n",
       "      <td>...</td>\n",
       "      <td>...</td>\n",
       "      <td>...</td>\n",
       "    </tr>\n",
       "    <tr>\n",
       "      <th>146</th>\n",
       "      <td>0.640631</td>\n",
       "      <td>0.548613</td>\n",
       "      <td>-0.585006</td>\n",
       "      <td>0.950092</td>\n",
       "      <td>0.399267</td>\n",
       "      <td>3</td>\n",
       "    </tr>\n",
       "    <tr>\n",
       "      <th>147</th>\n",
       "      <td>0.738230</td>\n",
       "      <td>0.484382</td>\n",
       "      <td>-0.592338</td>\n",
       "      <td>0.950737</td>\n",
       "      <td>0.394103</td>\n",
       "      <td>3</td>\n",
       "    </tr>\n",
       "    <tr>\n",
       "      <th>148</th>\n",
       "      <td>0.640631</td>\n",
       "      <td>0.448613</td>\n",
       "      <td>-0.585006</td>\n",
       "      <td>0.950092</td>\n",
       "      <td>0.399267</td>\n",
       "      <td>3</td>\n",
       "    </tr>\n",
       "    <tr>\n",
       "      <th>149</th>\n",
       "      <td>0.838230</td>\n",
       "      <td>0.449279</td>\n",
       "      <td>-0.592338</td>\n",
       "      <td>0.980293</td>\n",
       "      <td>0.394103</td>\n",
       "      <td>3</td>\n",
       "    </tr>\n",
       "    <tr>\n",
       "      <th>150</th>\n",
       "      <td>0.395254</td>\n",
       "      <td>0.529118</td>\n",
       "      <td>-0.499564</td>\n",
       "      <td>0.917122</td>\n",
       "      <td>0.513023</td>\n",
       "      <td>3</td>\n",
       "    </tr>\n",
       "  </tbody>\n",
       "</table>\n",
       "<p>151 rows × 6 columns</p>\n",
       "</div>"
      ],
      "text/plain": [
       "           V1        V2        V3        V4        V5  class\n",
       "0    0.445238  0.505075 -0.820383  0.995991  0.032069      1\n",
       "1    0.498504  0.439431 -0.542831  0.931170  0.550642      1\n",
       "2    0.510062  0.439431 -0.542831  0.931170  0.550642      1\n",
       "3    0.239149  0.463595 -0.744533  0.997584  0.019329      1\n",
       "4    0.348374  0.464238 -0.599760  0.951383  0.388940      1\n",
       "..        ...       ...       ...       ...       ...    ...\n",
       "146  0.640631  0.548613 -0.585006  0.950092  0.399267      3\n",
       "147  0.738230  0.484382 -0.592338  0.950737  0.394103      3\n",
       "148  0.640631  0.448613 -0.585006  0.950092  0.399267      3\n",
       "149  0.838230  0.449279 -0.592338  0.980293  0.394103      3\n",
       "150  0.395254  0.529118 -0.499564  0.917122  0.513023      3\n",
       "\n",
       "[151 rows x 6 columns]"
      ]
     },
     "execution_count": 13,
     "metadata": {},
     "output_type": "execute_result"
    }
   ],
   "source": [
    "df"
   ]
  },
  {
   "cell_type": "markdown",
   "id": "b5c8b873-6c4d-4d5e-80b8-242e17e92a17",
   "metadata": {},
   "source": [
    "### Divide into independent and dependent variables"
   ]
  },
  {
   "cell_type": "code",
   "execution_count": 14,
   "id": "6ed67a61-ccce-45ee-a9ff-ef765c49b36d",
   "metadata": {},
   "outputs": [],
   "source": [
    "X = df.iloc[:, :-1]\n",
    "y = df['class']"
   ]
  },
  {
   "cell_type": "markdown",
   "id": "cc379321-69dd-4c56-a033-ea889f3b7619",
   "metadata": {},
   "source": [
    "### Analisis Korelasi Fitur"
   ]
  },
  {
   "cell_type": "code",
   "execution_count": 15,
   "id": "362e662f-bfb1-4e27-8e70-4003f06570cb",
   "metadata": {},
   "outputs": [
    {
     "data": {
      "text/plain": [
       "<AxesSubplot:title={'center':'Feature-correlation (pearson)'}>"
      ]
     },
     "execution_count": 15,
     "metadata": {},
     "output_type": "execute_result"
    },
    {
     "data": {
      "image/png": "[encoded data removed]",
      "text/plain": [
       "<Figure size 576x576 with 2 Axes>"
      ]
     },
     "metadata": {},
     "output_type": "display_data"
    }
   ],
   "source": [
    "# Korelasi pada data yang belum dilakukan categorical encoding\n",
    "klib.corr_plot(X, annot=True, figsize=(8,8))"
   ]
  },
  {
   "cell_type": "markdown",
   "id": "4cc511e2-d561-4671-8d69-47367980b7a3",
   "metadata": {},
   "source": [
    "### Outlier Detection"
   ]
  },
  {
   "cell_type": "code",
   "execution_count": 16,
   "id": "e6982262-05e6-4356-916e-0d5c0311de48",
   "metadata": {},
   "outputs": [],
   "source": [
    "X = X.values\n",
    "iso = IsolationForest(contamination=0.1)\n",
    "iso_yhat = iso.fit_predict(X)"
   ]
  },
  {
   "cell_type": "code",
   "execution_count": 17,
   "id": "25b0fe3c-5d26-439e-88e3-e107710ffc12",
   "metadata": {},
   "outputs": [],
   "source": [
    "mask = iso_yhat != -1\n",
    "X, y = X[mask, :], y[mask]"
   ]
  },
  {
   "cell_type": "markdown",
   "id": "9a9c7157-ab13-4584-86c5-64adece29e32",
   "metadata": {},
   "source": [
    "### Train Test Split"
   ]
  },
  {
   "cell_type": "code",
   "execution_count": 18,
   "id": "4f6a39c9-4dac-4700-8a60-aa5c5e879a11",
   "metadata": {},
   "outputs": [],
   "source": [
    "# Train test split untuk data sebelum outlier detection\n",
    "X_train, X_test, y_train, y_test = train_test_split(X, y, test_size=0.2, random_state=42, stratify=y)"
   ]
  },
  {
   "cell_type": "code",
   "execution_count": 19,
   "id": "b6b1e216-6bb5-40e6-8805-cc36fb1be00a",
   "metadata": {},
   "outputs": [
    {
     "data": {
      "text/plain": [
       "(108, 5)"
      ]
     },
     "execution_count": 19,
     "metadata": {},
     "output_type": "execute_result"
    }
   ],
   "source": [
    "X_train.shape"
   ]
  },
  {
   "cell_type": "markdown",
   "id": "30edd6b9-20b7-4eb1-b30e-2874da74c8a1",
   "metadata": {},
   "source": [
    "## **Modelling - Decision Tree**"
   ]
  },
  {
   "cell_type": "code",
   "execution_count": 20,
   "id": "7ce18d12-c286-444f-86a8-07e7f1c61b54",
   "metadata": {},
   "outputs": [
    {
     "data": {
      "text/plain": [
       "DecisionTreeClassifier(random_state=42)"
      ]
     },
     "execution_count": 20,
     "metadata": {},
     "output_type": "execute_result"
    }
   ],
   "source": [
    "dt = DecisionTreeClassifier(criterion='gini', random_state=42)\n",
    "dt.fit(X_train, y_train)"
   ]
  },
  {
   "cell_type": "markdown",
   "id": "262ff1c7-6378-4da1-b812-570de93bdb45",
   "metadata": {},
   "source": [
    "## **Testing**"
   ]
  },
  {
   "cell_type": "code",
   "execution_count": 21,
   "id": "d4a69bdb-d388-413d-ba81-6077a34ad19d",
   "metadata": {},
   "outputs": [
    {
     "name": "stdout",
     "output_type": "stream",
     "text": [
      "Accuracy of model is 0.9285714285714286\n"
     ]
    }
   ],
   "source": [
    "y_pred = dt.predict(X_test)\n",
    "print(f'Accuracy of model is {metrics.accuracy_score(y_test, y_pred)}')"
   ]
  },
  {
   "cell_type": "markdown",
   "id": "fc7970f6-f4ae-4e47-9208-37bfc383fc9b",
   "metadata": {},
   "source": [
    "## **Discussion**"
   ]
  },
  {
   "cell_type": "code",
   "execution_count": 22,
   "id": "12abcf92-4916-4247-8e08-d681677e6569",
   "metadata": {},
   "outputs": [
    {
     "name": "stdout",
     "output_type": "stream",
     "text": [
      "Precision = [1.         1.         0.33333333]\n",
      "Recall = [0.9 1.  1. ]\n"
     ]
    }
   ],
   "source": [
    "from sklearn.metrics import confusion_matrix, precision_score, recall_score, classification_report\n",
    "cm = confusion_matrix(y_test, y_pred)\n",
    "\n",
    "print(f'Precision = {precision_score(y_test, y_pred, average=None)}')\n",
    "print(f'Recall = {recall_score(y_test, y_pred, average=None)}')\n",
    "\n",
    "accuracy = np.trace(cm) / float(np.sum(cm))\n",
    "misclass = 1 - accuracy"
   ]
  },
  {
   "cell_type": "code",
   "execution_count": 23,
   "id": "4e8adb1b-39d4-4b52-b70a-9acb1b454ac0",
   "metadata": {},
   "outputs": [
    {
     "name": "stdout",
     "output_type": "stream",
     "text": [
      "              precision    recall  f1-score   support\n",
      "\n",
      "           1       1.00      0.90      0.95        20\n",
      "           2       1.00      1.00      1.00         7\n",
      "           3       0.33      1.00      0.50         1\n",
      "\n",
      "    accuracy                           0.93        28\n",
      "   macro avg       0.78      0.97      0.82        28\n",
      "weighted avg       0.98      0.93      0.94        28\n",
      "\n"
     ]
    }
   ],
   "source": [
    "target_names = ['1', '2', '3']\n",
    "print(classification_report(y_test, y_pred, target_names=target_names))"
   ]
  },
  {
   "cell_type": "code",
   "execution_count": 24,
   "id": "69364b4e-a3d5-438e-aa48-8bf6dbe4b4fd",
   "metadata": {},
   "outputs": [
    {
     "data": {
      "text/plain": [
       "<AxesSubplot:>"
      ]
     },
     "execution_count": 24,
     "metadata": {},
     "output_type": "execute_result"
    },
    {
     "data": {
      "image/png": "[encoded data removed]",
      "text/plain": [
       "<Figure size 576x396 with 2 Axes>"
      ]
     },
     "metadata": {},
     "output_type": "display_data"
    }
   ],
   "source": [
    "sns.heatmap(cm, annot=True, cmap='Blues')"
   ]
  },
  {
   "cell_type": "code",
   "execution_count": null,
   "id": "7ee6bbb6-a18e-4555-8ef2-b3222bb0d8db",
   "metadata": {},
   "outputs": [],
   "source": []
  }
 ],
 "metadata": {
  "kernelspec": {
   "display_name": "Python 3 (ipykernel)",
   "language": "python",
   "name": "python3"
  },
  "language_info": {
   "codemirror_mode": {
    "name": "ipython",
    "version": 3
   },
   "file_extension": ".py",
   "mimetype": "text/x-python",
   "name": "python",
   "nbconvert_exporter": "python",
   "pygments_lexer": "ipython3",
   "version": "3.9.7"
  }
 },
 "nbformat": 4,
 "nbformat_minor": 5
}
