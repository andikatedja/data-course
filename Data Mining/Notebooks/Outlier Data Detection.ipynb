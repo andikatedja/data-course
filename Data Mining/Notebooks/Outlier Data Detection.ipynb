{
 "cells": [
  {
   "cell_type": "code",
   "execution_count": 1,
   "id": "edb0ebaf",
   "metadata": {},
   "outputs": [],
   "source": [
    "import numpy as np\n",
    "import pandas as pd\n",
    "import matplotlib.pyplot as plt\n",
    "import seaborn as sns\n",
    "import klib\n",
    "\n",
    "plt.style.use('seaborn')\n",
    "\n",
    "from sklearn.model_selection import train_test_split\n",
    "from sklearn.linear_model import LinearRegression\n",
    "from sklearn.metrics import mean_absolute_error"
   ]
  },
  {
   "cell_type": "code",
   "execution_count": 2,
   "id": "f5df01b8",
   "metadata": {},
   "outputs": [],
   "source": [
    "df = pd.read_csv('housing.csv')"
   ]
  },
  {
   "cell_type": "code",
   "execution_count": 5,
   "id": "27cb1e4e",
   "metadata": {},
   "outputs": [
    {
     "data": {
      "text/html": [
       "<div>\n",
       "<style scoped>\n",
       "    .dataframe tbody tr th:only-of-type {\n",
       "        vertical-align: middle;\n",
       "    }\n",
       "\n",
       "    .dataframe tbody tr th {\n",
       "        vertical-align: top;\n",
       "    }\n",
       "\n",
       "    .dataframe thead th {\n",
       "        text-align: right;\n",
       "    }\n",
       "</style>\n",
       "<table border=\"1\" class=\"dataframe\">\n",
       "  <thead>\n",
       "    <tr style=\"text-align: right;\">\n",
       "      <th></th>\n",
       "      <th>Crim</th>\n",
       "      <th>Zn</th>\n",
       "      <th>Indus</th>\n",
       "      <th>Chas</th>\n",
       "      <th>Nox</th>\n",
       "      <th>Rm</th>\n",
       "      <th>Age</th>\n",
       "      <th>Dis</th>\n",
       "      <th>Rad</th>\n",
       "      <th>Tax</th>\n",
       "      <th>PtRatio</th>\n",
       "      <th>B</th>\n",
       "      <th>Lstat</th>\n",
       "      <th>Medv</th>\n",
       "    </tr>\n",
       "  </thead>\n",
       "  <tbody>\n",
       "    <tr>\n",
       "      <th>0</th>\n",
       "      <td>0.00632</td>\n",
       "      <td>18.0</td>\n",
       "      <td>2.31</td>\n",
       "      <td>0</td>\n",
       "      <td>0.538</td>\n",
       "      <td>6.575</td>\n",
       "      <td>65.2</td>\n",
       "      <td>4.0900</td>\n",
       "      <td>1</td>\n",
       "      <td>296</td>\n",
       "      <td>15.3</td>\n",
       "      <td>396.90</td>\n",
       "      <td>4.98</td>\n",
       "      <td>24.0</td>\n",
       "    </tr>\n",
       "    <tr>\n",
       "      <th>1</th>\n",
       "      <td>0.02731</td>\n",
       "      <td>0.0</td>\n",
       "      <td>7.07</td>\n",
       "      <td>0</td>\n",
       "      <td>0.469</td>\n",
       "      <td>6.421</td>\n",
       "      <td>78.9</td>\n",
       "      <td>4.9671</td>\n",
       "      <td>2</td>\n",
       "      <td>242</td>\n",
       "      <td>17.8</td>\n",
       "      <td>396.90</td>\n",
       "      <td>9.14</td>\n",
       "      <td>21.6</td>\n",
       "    </tr>\n",
       "    <tr>\n",
       "      <th>2</th>\n",
       "      <td>0.02729</td>\n",
       "      <td>0.0</td>\n",
       "      <td>7.07</td>\n",
       "      <td>0</td>\n",
       "      <td>0.469</td>\n",
       "      <td>7.185</td>\n",
       "      <td>61.1</td>\n",
       "      <td>4.9671</td>\n",
       "      <td>2</td>\n",
       "      <td>242</td>\n",
       "      <td>17.8</td>\n",
       "      <td>392.83</td>\n",
       "      <td>4.03</td>\n",
       "      <td>34.7</td>\n",
       "    </tr>\n",
       "    <tr>\n",
       "      <th>3</th>\n",
       "      <td>0.03237</td>\n",
       "      <td>0.0</td>\n",
       "      <td>2.18</td>\n",
       "      <td>0</td>\n",
       "      <td>0.458</td>\n",
       "      <td>6.998</td>\n",
       "      <td>45.8</td>\n",
       "      <td>6.0622</td>\n",
       "      <td>3</td>\n",
       "      <td>222</td>\n",
       "      <td>18.7</td>\n",
       "      <td>394.63</td>\n",
       "      <td>2.94</td>\n",
       "      <td>33.4</td>\n",
       "    </tr>\n",
       "    <tr>\n",
       "      <th>4</th>\n",
       "      <td>0.06905</td>\n",
       "      <td>0.0</td>\n",
       "      <td>2.18</td>\n",
       "      <td>0</td>\n",
       "      <td>0.458</td>\n",
       "      <td>7.147</td>\n",
       "      <td>54.2</td>\n",
       "      <td>6.0622</td>\n",
       "      <td>3</td>\n",
       "      <td>222</td>\n",
       "      <td>18.7</td>\n",
       "      <td>396.90</td>\n",
       "      <td>5.33</td>\n",
       "      <td>36.2</td>\n",
       "    </tr>\n",
       "  </tbody>\n",
       "</table>\n",
       "</div>"
      ],
      "text/plain": [
       "      Crim    Zn  Indus  Chas    Nox     Rm   Age     Dis  Rad  Tax  PtRatio  \\\n",
       "0  0.00632  18.0   2.31     0  0.538  6.575  65.2  4.0900    1  296     15.3   \n",
       "1  0.02731   0.0   7.07     0  0.469  6.421  78.9  4.9671    2  242     17.8   \n",
       "2  0.02729   0.0   7.07     0  0.469  7.185  61.1  4.9671    2  242     17.8   \n",
       "3  0.03237   0.0   2.18     0  0.458  6.998  45.8  6.0622    3  222     18.7   \n",
       "4  0.06905   0.0   2.18     0  0.458  7.147  54.2  6.0622    3  222     18.7   \n",
       "\n",
       "        B  Lstat  Medv  \n",
       "0  396.90   4.98  24.0  \n",
       "1  396.90   9.14  21.6  \n",
       "2  392.83   4.03  34.7  \n",
       "3  394.63   2.94  33.4  \n",
       "4  396.90   5.33  36.2  "
      ]
     },
     "execution_count": 5,
     "metadata": {},
     "output_type": "execute_result"
    }
   ],
   "source": [
    "df.head()"
   ]
  },
  {
   "cell_type": "code",
   "execution_count": 6,
   "id": "5480763e",
   "metadata": {},
   "outputs": [
    {
     "data": {
      "text/plain": [
       "<bound method DataFrame.info of         Crim    Zn  Indus  Chas    Nox     Rm   Age     Dis  Rad  Tax  \\\n",
       "0    0.00632  18.0   2.31     0  0.538  6.575  65.2  4.0900    1  296   \n",
       "1    0.02731   0.0   7.07     0  0.469  6.421  78.9  4.9671    2  242   \n",
       "2    0.02729   0.0   7.07     0  0.469  7.185  61.1  4.9671    2  242   \n",
       "3    0.03237   0.0   2.18     0  0.458  6.998  45.8  6.0622    3  222   \n",
       "4    0.06905   0.0   2.18     0  0.458  7.147  54.2  6.0622    3  222   \n",
       "..       ...   ...    ...   ...    ...    ...   ...     ...  ...  ...   \n",
       "501  0.06263   0.0  11.93     0  0.573  6.593  69.1  2.4786    1  273   \n",
       "502  0.04527   0.0  11.93     0  0.573  6.120  76.7  2.2875    1  273   \n",
       "503  0.06076   0.0  11.93     0  0.573  6.976  91.0  2.1675    1  273   \n",
       "504  0.10959   0.0  11.93     0  0.573  6.794  89.3  2.3889    1  273   \n",
       "505  0.04741   0.0  11.93     0  0.573  6.030  80.8  2.5050    1  273   \n",
       "\n",
       "     PtRatio       B  Lstat  Medv  \n",
       "0       15.3  396.90   4.98  24.0  \n",
       "1       17.8  396.90   9.14  21.6  \n",
       "2       17.8  392.83   4.03  34.7  \n",
       "3       18.7  394.63   2.94  33.4  \n",
       "4       18.7  396.90   5.33  36.2  \n",
       "..       ...     ...    ...   ...  \n",
       "501     21.0  391.99   9.67  22.4  \n",
       "502     21.0  396.90   9.08  20.6  \n",
       "503     21.0  396.90   5.64  23.9  \n",
       "504     21.0  393.45   6.48  22.0  \n",
       "505     21.0  396.90   7.88  11.9  \n",
       "\n",
       "[506 rows x 14 columns]>"
      ]
     },
     "execution_count": 6,
     "metadata": {},
     "output_type": "execute_result"
    }
   ],
   "source": [
    "df.info"
   ]
  },
  {
   "cell_type": "code",
   "execution_count": 7,
   "id": "9ab0f204",
   "metadata": {},
   "outputs": [
    {
     "name": "stdout",
     "output_type": "stream",
     "text": [
      "Jumlah baris : 506\n",
      "Jumlah kolom : 14\n"
     ]
    }
   ],
   "source": [
    "print(f'Jumlah baris : {df.shape[0]}')\n",
    "print(f'Jumlah kolom : {df.shape[1]}')"
   ]
  },
  {
   "cell_type": "code",
   "execution_count": 8,
   "id": "74100ec2",
   "metadata": {},
   "outputs": [
    {
     "data": {
      "text/html": [
       "<div>\n",
       "<style scoped>\n",
       "    .dataframe tbody tr th:only-of-type {\n",
       "        vertical-align: middle;\n",
       "    }\n",
       "\n",
       "    .dataframe tbody tr th {\n",
       "        vertical-align: top;\n",
       "    }\n",
       "\n",
       "    .dataframe thead th {\n",
       "        text-align: right;\n",
       "    }\n",
       "</style>\n",
       "<table border=\"1\" class=\"dataframe\">\n",
       "  <thead>\n",
       "    <tr style=\"text-align: right;\">\n",
       "      <th></th>\n",
       "      <th>Feature</th>\n",
       "      <th>Data_type</th>\n",
       "      <th>Null_num</th>\n",
       "      <th>Null_pct</th>\n",
       "      <th>Unique_num</th>\n",
       "      <th>Unique_sample</th>\n",
       "    </tr>\n",
       "  </thead>\n",
       "  <tbody>\n",
       "    <tr>\n",
       "      <th>0</th>\n",
       "      <td>Crim</td>\n",
       "      <td>float64</td>\n",
       "      <td>0</td>\n",
       "      <td>0.0</td>\n",
       "      <td>[0.00632, 0.02731, 0.02729, 0.03237, 0.06905, ...</td>\n",
       "      <td>[0.00632, 0.02731, 0.02729, 0.03237]</td>\n",
       "    </tr>\n",
       "    <tr>\n",
       "      <th>1</th>\n",
       "      <td>Zn</td>\n",
       "      <td>float64</td>\n",
       "      <td>0</td>\n",
       "      <td>0.0</td>\n",
       "      <td>[18.0, 0.0, 12.5, 75.0, 21.0, 90.0, 85.0, 100....</td>\n",
       "      <td>[18.0, 0.0, 12.5, 75.0]</td>\n",
       "    </tr>\n",
       "    <tr>\n",
       "      <th>2</th>\n",
       "      <td>Indus</td>\n",
       "      <td>float64</td>\n",
       "      <td>0</td>\n",
       "      <td>0.0</td>\n",
       "      <td>[2.31, 7.07, 2.18, 7.87, 8.14, 5.96, 2.95, 6.9...</td>\n",
       "      <td>[2.31, 7.07, 2.18, 7.87]</td>\n",
       "    </tr>\n",
       "    <tr>\n",
       "      <th>3</th>\n",
       "      <td>Chas</td>\n",
       "      <td>int64</td>\n",
       "      <td>0</td>\n",
       "      <td>0.0</td>\n",
       "      <td>[0, 1]</td>\n",
       "      <td>[0, 1]</td>\n",
       "    </tr>\n",
       "    <tr>\n",
       "      <th>4</th>\n",
       "      <td>Nox</td>\n",
       "      <td>float64</td>\n",
       "      <td>0</td>\n",
       "      <td>0.0</td>\n",
       "      <td>[0.538, 0.469, 0.458, 0.524, 0.499, 0.428, 0.4...</td>\n",
       "      <td>[0.538, 0.469, 0.458, 0.524]</td>\n",
       "    </tr>\n",
       "    <tr>\n",
       "      <th>5</th>\n",
       "      <td>Rm</td>\n",
       "      <td>float64</td>\n",
       "      <td>0</td>\n",
       "      <td>0.0</td>\n",
       "      <td>[6.575, 6.421, 7.185, 6.998, 7.147, 6.43, 6.01...</td>\n",
       "      <td>[6.575, 6.421, 7.185, 6.998]</td>\n",
       "    </tr>\n",
       "    <tr>\n",
       "      <th>6</th>\n",
       "      <td>Age</td>\n",
       "      <td>float64</td>\n",
       "      <td>0</td>\n",
       "      <td>0.0</td>\n",
       "      <td>[65.2, 78.9, 61.1, 45.8, 54.2, 58.7, 66.6, 96....</td>\n",
       "      <td>[65.2, 78.9, 61.1, 45.8]</td>\n",
       "    </tr>\n",
       "    <tr>\n",
       "      <th>7</th>\n",
       "      <td>Dis</td>\n",
       "      <td>float64</td>\n",
       "      <td>0</td>\n",
       "      <td>0.0</td>\n",
       "      <td>[4.09, 4.9671, 6.0622, 5.5605, 5.9505, 6.0821,...</td>\n",
       "      <td>[4.09, 4.9671, 6.0622, 5.5605]</td>\n",
       "    </tr>\n",
       "    <tr>\n",
       "      <th>8</th>\n",
       "      <td>Rad</td>\n",
       "      <td>int64</td>\n",
       "      <td>0</td>\n",
       "      <td>0.0</td>\n",
       "      <td>[1, 2, 3, 5, 4, 8, 6, 7, 24]</td>\n",
       "      <td>[1, 2, 3, 5]</td>\n",
       "    </tr>\n",
       "    <tr>\n",
       "      <th>9</th>\n",
       "      <td>Tax</td>\n",
       "      <td>int64</td>\n",
       "      <td>0</td>\n",
       "      <td>0.0</td>\n",
       "      <td>[296, 242, 222, 311, 307, 279, 252, 233, 243, ...</td>\n",
       "      <td>[296, 242, 222, 311]</td>\n",
       "    </tr>\n",
       "    <tr>\n",
       "      <th>10</th>\n",
       "      <td>PtRatio</td>\n",
       "      <td>float64</td>\n",
       "      <td>0</td>\n",
       "      <td>0.0</td>\n",
       "      <td>[15.3, 17.8, 18.7, 15.2, 21.0, 19.2, 18.3, 17....</td>\n",
       "      <td>[15.3, 17.8, 18.7, 15.2]</td>\n",
       "    </tr>\n",
       "    <tr>\n",
       "      <th>11</th>\n",
       "      <td>B</td>\n",
       "      <td>float64</td>\n",
       "      <td>0</td>\n",
       "      <td>0.0</td>\n",
       "      <td>[396.9, 392.83, 394.63, 394.12, 395.6, 386.63,...</td>\n",
       "      <td>[396.9, 392.83, 394.63, 394.12]</td>\n",
       "    </tr>\n",
       "    <tr>\n",
       "      <th>12</th>\n",
       "      <td>Lstat</td>\n",
       "      <td>float64</td>\n",
       "      <td>0</td>\n",
       "      <td>0.0</td>\n",
       "      <td>[4.98, 9.14, 4.03, 2.94, 5.33, 5.21, 12.43, 19...</td>\n",
       "      <td>[4.98, 9.14, 4.03, 2.94]</td>\n",
       "    </tr>\n",
       "    <tr>\n",
       "      <th>13</th>\n",
       "      <td>Medv</td>\n",
       "      <td>float64</td>\n",
       "      <td>0</td>\n",
       "      <td>0.0</td>\n",
       "      <td>[24.0, 21.6, 34.7, 33.4, 36.2, 28.7, 22.9, 27....</td>\n",
       "      <td>[24.0, 21.6, 34.7, 33.4]</td>\n",
       "    </tr>\n",
       "  </tbody>\n",
       "</table>\n",
       "</div>"
      ],
      "text/plain": [
       "    Feature Data_type  Null_num  Null_pct  \\\n",
       "0      Crim   float64         0       0.0   \n",
       "1        Zn   float64         0       0.0   \n",
       "2     Indus   float64         0       0.0   \n",
       "3      Chas     int64         0       0.0   \n",
       "4       Nox   float64         0       0.0   \n",
       "5        Rm   float64         0       0.0   \n",
       "6       Age   float64         0       0.0   \n",
       "7       Dis   float64         0       0.0   \n",
       "8       Rad     int64         0       0.0   \n",
       "9       Tax     int64         0       0.0   \n",
       "10  PtRatio   float64         0       0.0   \n",
       "11        B   float64         0       0.0   \n",
       "12    Lstat   float64         0       0.0   \n",
       "13     Medv   float64         0       0.0   \n",
       "\n",
       "                                           Unique_num  \\\n",
       "0   [0.00632, 0.02731, 0.02729, 0.03237, 0.06905, ...   \n",
       "1   [18.0, 0.0, 12.5, 75.0, 21.0, 90.0, 85.0, 100....   \n",
       "2   [2.31, 7.07, 2.18, 7.87, 8.14, 5.96, 2.95, 6.9...   \n",
       "3                                              [0, 1]   \n",
       "4   [0.538, 0.469, 0.458, 0.524, 0.499, 0.428, 0.4...   \n",
       "5   [6.575, 6.421, 7.185, 6.998, 7.147, 6.43, 6.01...   \n",
       "6   [65.2, 78.9, 61.1, 45.8, 54.2, 58.7, 66.6, 96....   \n",
       "7   [4.09, 4.9671, 6.0622, 5.5605, 5.9505, 6.0821,...   \n",
       "8                        [1, 2, 3, 5, 4, 8, 6, 7, 24]   \n",
       "9   [296, 242, 222, 311, 307, 279, 252, 233, 243, ...   \n",
       "10  [15.3, 17.8, 18.7, 15.2, 21.0, 19.2, 18.3, 17....   \n",
       "11  [396.9, 392.83, 394.63, 394.12, 395.6, 386.63,...   \n",
       "12  [4.98, 9.14, 4.03, 2.94, 5.33, 5.21, 12.43, 19...   \n",
       "13  [24.0, 21.6, 34.7, 33.4, 36.2, 28.7, 22.9, 27....   \n",
       "\n",
       "                           Unique_sample  \n",
       "0   [0.00632, 0.02731, 0.02729, 0.03237]  \n",
       "1                [18.0, 0.0, 12.5, 75.0]  \n",
       "2               [2.31, 7.07, 2.18, 7.87]  \n",
       "3                                 [0, 1]  \n",
       "4           [0.538, 0.469, 0.458, 0.524]  \n",
       "5           [6.575, 6.421, 7.185, 6.998]  \n",
       "6               [65.2, 78.9, 61.1, 45.8]  \n",
       "7         [4.09, 4.9671, 6.0622, 5.5605]  \n",
       "8                           [1, 2, 3, 5]  \n",
       "9                   [296, 242, 222, 311]  \n",
       "10              [15.3, 17.8, 18.7, 15.2]  \n",
       "11       [396.9, 392.83, 394.63, 394.12]  \n",
       "12              [4.98, 9.14, 4.03, 2.94]  \n",
       "13              [24.0, 21.6, 34.7, 33.4]  "
      ]
     },
     "execution_count": 8,
     "metadata": {},
     "output_type": "execute_result"
    }
   ],
   "source": [
    "list_item =[]\n",
    "for col in df.columns:\n",
    "    list_item.append([col,df[col].dtype, df[col].isna().sum(), 100*df[col].isna().sum()/len(df[col]),df[col].unique(), df[col].unique()[:4]])\n",
    "desc_df = pd.DataFrame(data=list_item, columns='Feature Data_type Null_num Null_pct Unique_num Unique_sample'.split())\n",
    "desc_df"
   ]
  },
  {
   "cell_type": "markdown",
   "id": "56ed9b93-5e3a-4414-aef7-36e904cedb84",
   "metadata": {},
   "source": [
    "### Create dependent and independent variable"
   ]
  },
  {
   "cell_type": "code",
   "execution_count": 29,
   "id": "cdf5c1ce",
   "metadata": {},
   "outputs": [
    {
     "name": "stdout",
     "output_type": "stream",
     "text": [
      "(506, 13) (506,)\n"
     ]
    }
   ],
   "source": [
    "data = df.values\n",
    "X, y = data[:, :-1], data[:, -1]\n",
    "print(X.shape, y.shape)"
   ]
  },
  {
   "cell_type": "markdown",
   "id": "0206c0aa-4b6d-48df-8638-6dd7cfd49b68",
   "metadata": {},
   "source": [
    "### Split data into train and test"
   ]
  },
  {
   "cell_type": "code",
   "execution_count": 30,
   "id": "21f38b0a-2078-43be-a7f0-1d545d3f60c2",
   "metadata": {},
   "outputs": [],
   "source": [
    "X_train, X_test, y_train, y_test = train_test_split(X, y, test_size=0.33, random_state=1)"
   ]
  },
  {
   "cell_type": "code",
   "execution_count": 31,
   "id": "cf2b01ca",
   "metadata": {},
   "outputs": [
    {
     "name": "stdout",
     "output_type": "stream",
     "text": [
      "(339, 13) (167, 13) (339,) (167,)\n"
     ]
    }
   ],
   "source": [
    "print(X_train.shape, X_test.shape, y_train.shape, y_test.shape)"
   ]
  },
  {
   "cell_type": "markdown",
   "id": "ed7c3723-4e3e-48c6-b3c5-d67af239bb64",
   "metadata": {},
   "source": [
    "### Fit linear regression model to training Data"
   ]
  },
  {
   "cell_type": "code",
   "execution_count": 32,
   "id": "867f1ad8-e7f4-4e62-963b-2b0a42b8a58b",
   "metadata": {},
   "outputs": [
    {
     "data": {
      "text/plain": [
       "LinearRegression()"
      ]
     },
     "execution_count": 32,
     "metadata": {},
     "output_type": "execute_result"
    }
   ],
   "source": [
    "model = LinearRegression()\n",
    "model.fit(X_train, y_train)"
   ]
  },
  {
   "cell_type": "markdown",
   "id": "2136b03c-b7f0-492a-bc69-5fb81b8ae27e",
   "metadata": {},
   "source": [
    "### Predict the test data using linear regression model"
   ]
  },
  {
   "cell_type": "code",
   "execution_count": 33,
   "id": "a663c375-d934-4b37-9859-5b6b609e45fa",
   "metadata": {},
   "outputs": [],
   "source": [
    "yhat = model.predict(X_test)"
   ]
  },
  {
   "cell_type": "markdown",
   "id": "e6bc1467-63a7-415c-9503-ab2c167bc73a",
   "metadata": {},
   "source": [
    "*Evaluating using MAE*"
   ]
  },
  {
   "cell_type": "code",
   "execution_count": 34,
   "id": "943a87cf-ec44-41ba-bf10-fdc73609e1ef",
   "metadata": {},
   "outputs": [
    {
     "name": "stdout",
     "output_type": "stream",
     "text": [
      "MAE : 3.4174722788016645\n"
     ]
    }
   ],
   "source": [
    "mae = mean_absolute_error(y_test, yhat)\n",
    "print(f'MAE : {mae}')"
   ]
  },
  {
   "cell_type": "markdown",
   "id": "a4769b2e-c6e5-4d30-8394-03ad0211cdf6",
   "metadata": {},
   "source": [
    "## Identify outliers in the training dataset"
   ]
  },
  {
   "cell_type": "code",
   "execution_count": 35,
   "id": "407f88e6-2bf6-4ae1-a42e-bf63d769fe5d",
   "metadata": {},
   "outputs": [],
   "source": [
    "from sklearn.ensemble import IsolationForest\n",
    "from sklearn.metrics import mean_absolute_error\n",
    "\n",
    "iso = IsolationForest(contamination=0.1)\n",
    "yhat = iso.fit_predict(X_train)"
   ]
  },
  {
   "cell_type": "markdown",
   "id": "4542bad3-1af5-4175-b396-7238fdaecf59",
   "metadata": {},
   "source": [
    "### Select all rows that are not outliers"
   ]
  },
  {
   "cell_type": "code",
   "execution_count": 36,
   "id": "d88baa96-81d4-4439-938e-3be1cb39e87c",
   "metadata": {},
   "outputs": [],
   "source": [
    "mask = yhat != -1\n",
    "X_train, y_train = X_train[mask, :], y_train[mask]"
   ]
  },
  {
   "cell_type": "markdown",
   "id": "3adaccbf-230b-4a71-b9fe-8b8e20496f21",
   "metadata": {},
   "source": [
    "### Summarize the shape of the updated training dataset"
   ]
  },
  {
   "cell_type": "code",
   "execution_count": 37,
   "id": "981fcb42-386b-41a4-9746-f888f98534ea",
   "metadata": {},
   "outputs": [
    {
     "name": "stdout",
     "output_type": "stream",
     "text": [
      "(305, 13) (305,)\n"
     ]
    }
   ],
   "source": [
    "print(X_train.shape, y_train.shape)"
   ]
  },
  {
   "cell_type": "markdown",
   "id": "b1accca7-376f-41ef-b9ac-35d102eba3ec",
   "metadata": {},
   "source": [
    "### Fit the model"
   ]
  },
  {
   "cell_type": "code",
   "execution_count": 38,
   "id": "d7312d10-2acd-443e-a224-ae37bf943070",
   "metadata": {},
   "outputs": [
    {
     "data": {
      "text/plain": [
       "LinearRegression()"
      ]
     },
     "execution_count": 38,
     "metadata": {},
     "output_type": "execute_result"
    }
   ],
   "source": [
    "model = LinearRegression()\n",
    "model.fit(X_train, y_train)"
   ]
  },
  {
   "cell_type": "markdown",
   "id": "257976af-0502-4ef2-a3bb-68efe236a683",
   "metadata": {},
   "source": [
    "### Evaluate the model"
   ]
  },
  {
   "cell_type": "code",
   "execution_count": 39,
   "id": "f22b4764-cbed-46b2-a1aa-b3677dfc26c6",
   "metadata": {},
   "outputs": [],
   "source": [
    "yhat = model.predict(X_test)"
   ]
  },
  {
   "cell_type": "markdown",
   "id": "474cb529-cbd5-4374-9297-20de264cf2a7",
   "metadata": {},
   "source": [
    "### Evaluate predictions"
   ]
  },
  {
   "cell_type": "code",
   "execution_count": 40,
   "id": "987df7b7-e6d4-4e8c-a626-22e19f422429",
   "metadata": {},
   "outputs": [
    {
     "name": "stdout",
     "output_type": "stream",
     "text": [
      "MAE : 3.274660222904996\n"
     ]
    }
   ],
   "source": [
    "mae = mean_absolute_error(y_test, yhat)\n",
    "print(f'MAE : {mae}')"
   ]
  },
  {
   "cell_type": "code",
   "execution_count": null,
   "id": "2886dbf3-de34-4b1c-a4d3-b08bdbf21a11",
   "metadata": {},
   "outputs": [],
   "source": []
  }
 ],
 "metadata": {
  "kernelspec": {
   "display_name": "Python 3 (ipykernel)",
   "language": "python",
   "name": "python3"
  },
  "language_info": {
   "codemirror_mode": {
    "name": "ipython",
    "version": 3
   },
   "file_extension": ".py",
   "mimetype": "text/x-python",
   "name": "python",
   "nbconvert_exporter": "python",
   "pygments_lexer": "ipython3",
   "version": "3.9.7"
  },
  "toc-autonumbering": false,
  "toc-showcode": false,
  "toc-showmarkdowntxt": false
 },
 "nbformat": 4,
 "nbformat_minor": 5
}
