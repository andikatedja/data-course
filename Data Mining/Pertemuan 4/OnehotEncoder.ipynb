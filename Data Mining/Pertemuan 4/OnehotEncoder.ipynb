{
 "cells": [
  {
   "cell_type": "markdown",
   "id": "5ffe7f5b",
   "metadata": {},
   "source": [
    "**Import Pandas Library**"
   ]
  },
  {
   "cell_type": "code",
   "execution_count": 1,
   "id": "84303057",
   "metadata": {},
   "outputs": [],
   "source": [
    "import pandas as pd"
   ]
  },
  {
   "cell_type": "markdown",
   "id": "292eb4d7",
   "metadata": {},
   "source": [
    "**import the Data we have into data frame**"
   ]
  },
  {
   "cell_type": "code",
   "execution_count": 2,
   "id": "f63d1614",
   "metadata": {},
   "outputs": [],
   "source": [
    "dataset = pd.read_csv('datacategorical.csv')"
   ]
  },
  {
   "cell_type": "code",
   "execution_count": 3,
   "id": "8cbdf1a7",
   "metadata": {},
   "outputs": [
    {
     "data": {
      "text/plain": [
       "(9, 4)"
      ]
     },
     "execution_count": 3,
     "metadata": {},
     "output_type": "execute_result"
    }
   ],
   "source": [
    "dataset.shape"
   ]
  },
  {
   "cell_type": "code",
   "execution_count": 4,
   "id": "e1f7f46d",
   "metadata": {},
   "outputs": [
    {
     "data": {
      "text/html": [
       "<div>\n",
       "<style scoped>\n",
       "    .dataframe tbody tr th:only-of-type {\n",
       "        vertical-align: middle;\n",
       "    }\n",
       "\n",
       "    .dataframe tbody tr th {\n",
       "        vertical-align: top;\n",
       "    }\n",
       "\n",
       "    .dataframe thead th {\n",
       "        text-align: right;\n",
       "    }\n",
       "</style>\n",
       "<table border=\"1\" class=\"dataframe\">\n",
       "  <thead>\n",
       "    <tr style=\"text-align: right;\">\n",
       "      <th></th>\n",
       "      <th>Country</th>\n",
       "      <th>Age</th>\n",
       "      <th>Salary</th>\n",
       "      <th>Purchased</th>\n",
       "    </tr>\n",
       "  </thead>\n",
       "  <tbody>\n",
       "    <tr>\n",
       "      <th>0</th>\n",
       "      <td>France</td>\n",
       "      <td>33</td>\n",
       "      <td>1000</td>\n",
       "      <td>No</td>\n",
       "    </tr>\n",
       "    <tr>\n",
       "      <th>1</th>\n",
       "      <td>Spain</td>\n",
       "      <td>22</td>\n",
       "      <td>1233</td>\n",
       "      <td>Yes</td>\n",
       "    </tr>\n",
       "    <tr>\n",
       "      <th>2</th>\n",
       "      <td>Germany</td>\n",
       "      <td>14</td>\n",
       "      <td>4500</td>\n",
       "      <td>Yes</td>\n",
       "    </tr>\n",
       "    <tr>\n",
       "      <th>3</th>\n",
       "      <td>Germany</td>\n",
       "      <td>56</td>\n",
       "      <td>3455</td>\n",
       "      <td>Yes</td>\n",
       "    </tr>\n",
       "    <tr>\n",
       "      <th>4</th>\n",
       "      <td>Spain</td>\n",
       "      <td>34</td>\n",
       "      <td>5000</td>\n",
       "      <td>Yes</td>\n",
       "    </tr>\n",
       "    <tr>\n",
       "      <th>5</th>\n",
       "      <td>Spain</td>\n",
       "      <td>34</td>\n",
       "      <td>3400</td>\n",
       "      <td>Yes</td>\n",
       "    </tr>\n",
       "    <tr>\n",
       "      <th>6</th>\n",
       "      <td>France</td>\n",
       "      <td>44</td>\n",
       "      <td>2300</td>\n",
       "      <td>No</td>\n",
       "    </tr>\n",
       "    <tr>\n",
       "      <th>7</th>\n",
       "      <td>France</td>\n",
       "      <td>62</td>\n",
       "      <td>2233</td>\n",
       "      <td>No</td>\n",
       "    </tr>\n",
       "    <tr>\n",
       "      <th>8</th>\n",
       "      <td>France</td>\n",
       "      <td>23</td>\n",
       "      <td>1222</td>\n",
       "      <td>No</td>\n",
       "    </tr>\n",
       "  </tbody>\n",
       "</table>\n",
       "</div>"
      ],
      "text/plain": [
       "   Country  Age  Salary Purchased\n",
       "0   France   33    1000        No\n",
       "1    Spain   22    1233       Yes\n",
       "2  Germany   14    4500       Yes\n",
       "3  Germany   56    3455       Yes\n",
       "4    Spain   34    5000       Yes\n",
       "5    Spain   34    3400       Yes\n",
       "6   France   44    2300        No\n",
       "7   France   62    2233        No\n",
       "8   France   23    1222        No"
      ]
     },
     "execution_count": 4,
     "metadata": {},
     "output_type": "execute_result"
    }
   ],
   "source": [
    "dataset"
   ]
  },
  {
   "cell_type": "markdown",
   "id": "d724eadb",
   "metadata": {},
   "source": [
    "**Inisialisation for independent and dependent variable**"
   ]
  },
  {
   "cell_type": "code",
   "execution_count": 5,
   "id": "12ba9730",
   "metadata": {},
   "outputs": [],
   "source": [
    "X=dataset.iloc[:,[0,1,2]].values\n",
    "Y=dataset.iloc[:,3].values"
   ]
  },
  {
   "cell_type": "code",
   "execution_count": 6,
   "id": "82ce5945",
   "metadata": {},
   "outputs": [
    {
     "data": {
      "text/plain": [
       "array([['France', 33, 1000],\n",
       "       ['Spain', 22, 1233],\n",
       "       ['Germany', 14, 4500],\n",
       "       ['Germany', 56, 3455],\n",
       "       ['Spain', 34, 5000],\n",
       "       ['Spain', 34, 3400],\n",
       "       ['France', 44, 2300],\n",
       "       ['France', 62, 2233],\n",
       "       ['France', 23, 1222]], dtype=object)"
      ]
     },
     "execution_count": 6,
     "metadata": {},
     "output_type": "execute_result"
    }
   ],
   "source": [
    "X"
   ]
  },
  {
   "cell_type": "code",
   "execution_count": 7,
   "id": "4c4bf0d9",
   "metadata": {},
   "outputs": [
    {
     "data": {
      "text/plain": [
       "array(['No', 'Yes', 'Yes', 'Yes', 'Yes', 'Yes', 'No', 'No', 'No'],\n",
       "      dtype=object)"
      ]
     },
     "execution_count": 7,
     "metadata": {},
     "output_type": "execute_result"
    }
   ],
   "source": [
    "Y"
   ]
  },
  {
   "cell_type": "markdown",
   "id": "da3bc6cc",
   "metadata": {},
   "source": [
    "**Handling for categorical data using OneHotEncoder**"
   ]
  },
  {
   "cell_type": "code",
   "execution_count": 9,
   "id": "0ac6f0d2",
   "metadata": {},
   "outputs": [],
   "source": [
    "from sklearn.compose import ColumnTransformer\n",
    "from sklearn.preprocessing import OneHotEncoder\n",
    "import numpy as np\n",
    "ct = ColumnTransformer(transformers=[('encoder', OneHotEncoder(), [0])], remainder='passthrough')\n",
    "X = np.array(ct.fit_transform(X))"
   ]
  },
  {
   "cell_type": "code",
   "execution_count": 10,
   "id": "38356ca2",
   "metadata": {},
   "outputs": [
    {
     "data": {
      "text/plain": [
       "array([[1.0, 0.0, 0.0, 33, 1000],\n",
       "       [0.0, 0.0, 1.0, 22, 1233],\n",
       "       [0.0, 1.0, 0.0, 14, 4500],\n",
       "       [0.0, 1.0, 0.0, 56, 3455],\n",
       "       [0.0, 0.0, 1.0, 34, 5000],\n",
       "       [0.0, 0.0, 1.0, 34, 3400],\n",
       "       [1.0, 0.0, 0.0, 44, 2300],\n",
       "       [1.0, 0.0, 0.0, 62, 2233],\n",
       "       [1.0, 0.0, 0.0, 23, 1222]], dtype=object)"
      ]
     },
     "execution_count": 10,
     "metadata": {},
     "output_type": "execute_result"
    }
   ],
   "source": [
    "X"
   ]
  },
  {
   "cell_type": "code",
   "execution_count": 11,
   "id": "423e9abc",
   "metadata": {},
   "outputs": [
    {
     "data": {
      "text/plain": [
       "array(['No', 'Yes', 'Yes', 'Yes', 'Yes', 'Yes', 'No', 'No', 'No'],\n",
       "      dtype=object)"
      ]
     },
     "execution_count": 11,
     "metadata": {},
     "output_type": "execute_result"
    }
   ],
   "source": [
    "Y"
   ]
  },
  {
   "cell_type": "code",
   "execution_count": null,
   "id": "26d80419",
   "metadata": {},
   "outputs": [],
   "source": []
  }
 ],
 "metadata": {
  "kernelspec": {
   "display_name": "Python 3 (ipykernel)",
   "language": "python",
   "name": "python3"
  },
  "language_info": {
   "codemirror_mode": {
    "name": "ipython",
    "version": 3
   },
   "file_extension": ".py",
   "mimetype": "text/x-python",
   "name": "python",
   "nbconvert_exporter": "python",
   "pygments_lexer": "ipython3",
   "version": "3.9.7"
  }
 },
 "nbformat": 4,
 "nbformat_minor": 5
}
