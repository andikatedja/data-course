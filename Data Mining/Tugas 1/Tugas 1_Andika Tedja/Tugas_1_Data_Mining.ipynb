{
  "nbformat": 4,
  "nbformat_minor": 5,
  "metadata": {
    "kernelspec": {
      "display_name": "Python 3 (ipykernel)",
      "language": "python",
      "name": "python3"
    },
    "language_info": {
      "codemirror_mode": {
        "name": "ipython",
        "version": 3
      },
      "file_extension": ".py",
      "mimetype": "text/x-python",
      "name": "python",
      "nbconvert_exporter": "python",
      "pygments_lexer": "ipython3",
      "version": "3.9.7"
    },
    "colab": {
      "name": "Tugas 1 Data Mining.ipynb",
      "provenance": [],
      "collapsed_sections": []
    }
  },
  "cells": [
    {
      "cell_type": "markdown",
      "metadata": {
        "id": "1c51075c-f7fb-4b84-ac7e-084fef7ae8d8"
      },
      "source": [
        "# **Tugas 1 Data Mining - Preprocessing Data**\n",
        "**Nama Kelompok**\n",
        "\n",
        "1. Gusti Ayu Putu Putri Febriyanti (180030278)\n",
        "2. Putu Andika Tedja Permana (180030302)\n",
        "3. Dewa Ayu Rista Ristiyanti (180030562)\n",
        "4. Komang Bhargo Bhaskara (180031226)\n"
      ],
      "id": "1c51075c-f7fb-4b84-ac7e-084fef7ae8d8"
    },
    {
      "cell_type": "code",
      "metadata": {
        "id": "fe3e1683-d996-41dd-9077-61c0b31654cf"
      },
      "source": [
        "import numpy as np\n",
        "import pandas as pd\n",
        "import matplotlib.pyplot as plt\n",
        "import seaborn as sns\n",
        "\n",
        "!pip install klib --quiet # install klib jika belum terinstall\n",
        "import klib\n",
        "\n",
        "plt.style.use('seaborn')"
      ],
      "id": "fe3e1683-d996-41dd-9077-61c0b31654cf",
      "execution_count": 1,
      "outputs": []
    },
    {
      "cell_type": "markdown",
      "metadata": {
        "id": "SoU8ldP2QnE2"
      },
      "source": [
        "**Loading Dataset**"
      ],
      "id": "SoU8ldP2QnE2"
    },
    {
      "cell_type": "code",
      "metadata": {
        "id": "nUpzpnhgRGV8"
      },
      "source": [
        "df = pd.read_csv('UmbilicalCord.csv')"
      ],
      "id": "nUpzpnhgRGV8",
      "execution_count": 2,
      "outputs": []
    },
    {
      "cell_type": "markdown",
      "metadata": {
        "id": "80a193d1-a2c2-4f3a-b943-9a533998e4b2"
      },
      "source": [
        "## **Analisis Dataset**\n",
        "Melakukan analisis terhadap dataset dengan menampilkan: head, tail, info, describe, jenis data, dan unique sample"
      ],
      "id": "80a193d1-a2c2-4f3a-b943-9a533998e4b2"
    },
    {
      "cell_type": "code",
      "metadata": {
        "id": "a1665e00-4610-401f-9531-a7e88e8f1b72",
        "colab": {
          "base_uri": "https://localhost:8080/",
          "height": 204
        },
        "outputId": "ddb9d961-7fa3-4c01-b426-2c87eff04676"
      },
      "source": [
        "df.head()"
      ],
      "id": "a1665e00-4610-401f-9531-a7e88e8f1b72",
      "execution_count": 3,
      "outputs": [
        {
          "output_type": "execute_result",
          "data": {
            "text/html": [
              "<div>\n",
              "<style scoped>\n",
              "    .dataframe tbody tr th:only-of-type {\n",
              "        vertical-align: middle;\n",
              "    }\n",
              "\n",
              "    .dataframe tbody tr th {\n",
              "        vertical-align: top;\n",
              "    }\n",
              "\n",
              "    .dataframe thead th {\n",
              "        text-align: right;\n",
              "    }\n",
              "</style>\n",
              "<table border=\"1\" class=\"dataframe\">\n",
              "  <thead>\n",
              "    <tr style=\"text-align: right;\">\n",
              "      <th></th>\n",
              "      <th>V1</th>\n",
              "      <th>V2</th>\n",
              "      <th>V3</th>\n",
              "      <th>V4</th>\n",
              "      <th>V4.1</th>\n",
              "      <th>V5</th>\n",
              "      <th>class</th>\n",
              "    </tr>\n",
              "  </thead>\n",
              "  <tbody>\n",
              "    <tr>\n",
              "      <th>0</th>\n",
              "      <td>0.445238</td>\n",
              "      <td>0.505075</td>\n",
              "      <td>-0.820383</td>\n",
              "      <td>0.995991</td>\n",
              "      <td>Yes</td>\n",
              "      <td>0.032069</td>\n",
              "      <td>1</td>\n",
              "    </tr>\n",
              "    <tr>\n",
              "      <th>1</th>\n",
              "      <td>0.498504</td>\n",
              "      <td>0.439431</td>\n",
              "      <td>-0.542831</td>\n",
              "      <td>0.931170</td>\n",
              "      <td>No</td>\n",
              "      <td>0.550642</td>\n",
              "      <td>1</td>\n",
              "    </tr>\n",
              "    <tr>\n",
              "      <th>2</th>\n",
              "      <td>0.510062</td>\n",
              "      <td>0.439431</td>\n",
              "      <td>-0.542831</td>\n",
              "      <td>0.931170</td>\n",
              "      <td>Yes</td>\n",
              "      <td>0.550642</td>\n",
              "      <td>1</td>\n",
              "    </tr>\n",
              "    <tr>\n",
              "      <th>3</th>\n",
              "      <td>0.239149</td>\n",
              "      <td>0.463595</td>\n",
              "      <td>-0.744533</td>\n",
              "      <td>0.997584</td>\n",
              "      <td>No</td>\n",
              "      <td>0.019329</td>\n",
              "      <td>1</td>\n",
              "    </tr>\n",
              "    <tr>\n",
              "      <th>4</th>\n",
              "      <td>0.348374</td>\n",
              "      <td>0.464238</td>\n",
              "      <td>-0.599760</td>\n",
              "      <td>0.951383</td>\n",
              "      <td>Yes</td>\n",
              "      <td>0.388940</td>\n",
              "      <td>1</td>\n",
              "    </tr>\n",
              "  </tbody>\n",
              "</table>\n",
              "</div>"
            ],
            "text/plain": [
              "         V1        V2        V3        V4 V4.1        V5  class\n",
              "0  0.445238  0.505075 -0.820383  0.995991  Yes  0.032069      1\n",
              "1  0.498504  0.439431 -0.542831  0.931170   No  0.550642      1\n",
              "2  0.510062  0.439431 -0.542831  0.931170  Yes  0.550642      1\n",
              "3  0.239149  0.463595 -0.744533  0.997584   No  0.019329      1\n",
              "4  0.348374  0.464238 -0.599760  0.951383  Yes  0.388940      1"
            ]
          },
          "metadata": {},
          "execution_count": 3
        }
      ]
    },
    {
      "cell_type": "code",
      "metadata": {
        "colab": {
          "base_uri": "https://localhost:8080/",
          "height": 204
        },
        "id": "LnVLIvSsTUh_",
        "outputId": "b6baf8c6-1197-40d8-9ad7-bb257962d0d7"
      },
      "source": [
        "df.tail()"
      ],
      "id": "LnVLIvSsTUh_",
      "execution_count": 4,
      "outputs": [
        {
          "output_type": "execute_result",
          "data": {
            "text/html": [
              "<div>\n",
              "<style scoped>\n",
              "    .dataframe tbody tr th:only-of-type {\n",
              "        vertical-align: middle;\n",
              "    }\n",
              "\n",
              "    .dataframe tbody tr th {\n",
              "        vertical-align: top;\n",
              "    }\n",
              "\n",
              "    .dataframe thead th {\n",
              "        text-align: right;\n",
              "    }\n",
              "</style>\n",
              "<table border=\"1\" class=\"dataframe\">\n",
              "  <thead>\n",
              "    <tr style=\"text-align: right;\">\n",
              "      <th></th>\n",
              "      <th>V1</th>\n",
              "      <th>V2</th>\n",
              "      <th>V3</th>\n",
              "      <th>V4</th>\n",
              "      <th>V4.1</th>\n",
              "      <th>V5</th>\n",
              "      <th>class</th>\n",
              "    </tr>\n",
              "  </thead>\n",
              "  <tbody>\n",
              "    <tr>\n",
              "      <th>150</th>\n",
              "      <td>2.200000</td>\n",
              "      <td>9.300000</td>\n",
              "      <td>8.800000</td>\n",
              "      <td>1.200000</td>\n",
              "      <td>No</td>\n",
              "      <td>0.513023</td>\n",
              "      <td>3</td>\n",
              "    </tr>\n",
              "    <tr>\n",
              "      <th>151</th>\n",
              "      <td>0.395254</td>\n",
              "      <td>0.529118</td>\n",
              "      <td>-0.499564</td>\n",
              "      <td>0.917122</td>\n",
              "      <td>No</td>\n",
              "      <td>0.513023</td>\n",
              "      <td>3</td>\n",
              "    </tr>\n",
              "    <tr>\n",
              "      <th>152</th>\n",
              "      <td>0.395254</td>\n",
              "      <td>0.529118</td>\n",
              "      <td>-0.499564</td>\n",
              "      <td>0.917122</td>\n",
              "      <td>No</td>\n",
              "      <td>0.513023</td>\n",
              "      <td>3</td>\n",
              "    </tr>\n",
              "    <tr>\n",
              "      <th>153</th>\n",
              "      <td>0.395254</td>\n",
              "      <td>0.529118</td>\n",
              "      <td>-0.499564</td>\n",
              "      <td>0.917122</td>\n",
              "      <td>No</td>\n",
              "      <td>0.513023</td>\n",
              "      <td>3</td>\n",
              "    </tr>\n",
              "    <tr>\n",
              "      <th>154</th>\n",
              "      <td>0.395254</td>\n",
              "      <td>0.529118</td>\n",
              "      <td>-0.499564</td>\n",
              "      <td>0.917122</td>\n",
              "      <td>No</td>\n",
              "      <td>0.513023</td>\n",
              "      <td>3</td>\n",
              "    </tr>\n",
              "  </tbody>\n",
              "</table>\n",
              "</div>"
            ],
            "text/plain": [
              "           V1        V2        V3        V4 V4.1        V5  class\n",
              "150  2.200000  9.300000  8.800000  1.200000   No  0.513023      3\n",
              "151  0.395254  0.529118 -0.499564  0.917122   No  0.513023      3\n",
              "152  0.395254  0.529118 -0.499564  0.917122   No  0.513023      3\n",
              "153  0.395254  0.529118 -0.499564  0.917122   No  0.513023      3\n",
              "154  0.395254  0.529118 -0.499564  0.917122   No  0.513023      3"
            ]
          },
          "metadata": {},
          "execution_count": 4
        }
      ]
    },
    {
      "cell_type": "code",
      "metadata": {
        "colab": {
          "base_uri": "https://localhost:8080/"
        },
        "id": "3KJtKwfxTWNn",
        "outputId": "c2062a95-a98e-41ea-8993-564b95ec4efb"
      },
      "source": [
        "df.info()"
      ],
      "id": "3KJtKwfxTWNn",
      "execution_count": 5,
      "outputs": [
        {
          "output_type": "stream",
          "name": "stdout",
          "text": [
            "<class 'pandas.core.frame.DataFrame'>\n",
            "RangeIndex: 155 entries, 0 to 154\n",
            "Data columns (total 7 columns):\n",
            " #   Column  Non-Null Count  Dtype  \n",
            "---  ------  --------------  -----  \n",
            " 0   V1      155 non-null    float64\n",
            " 1   V2      155 non-null    float64\n",
            " 2   V3      155 non-null    float64\n",
            " 3   V4      155 non-null    float64\n",
            " 4   V4.1    155 non-null    object \n",
            " 5   V5      155 non-null    float64\n",
            " 6   class   155 non-null    int64  \n",
            "dtypes: float64(5), int64(1), object(1)\n",
            "memory usage: 8.6+ KB\n"
          ]
        }
      ]
    },
    {
      "cell_type": "code",
      "metadata": {
        "colab": {
          "base_uri": "https://localhost:8080/",
          "height": 297
        },
        "id": "gUxnMUcyTaBC",
        "outputId": "069089de-f7ba-473a-9862-ffc88e3f63f9"
      },
      "source": [
        "df.describe()"
      ],
      "id": "gUxnMUcyTaBC",
      "execution_count": 6,
      "outputs": [
        {
          "output_type": "execute_result",
          "data": {
            "text/html": [
              "<div>\n",
              "<style scoped>\n",
              "    .dataframe tbody tr th:only-of-type {\n",
              "        vertical-align: middle;\n",
              "    }\n",
              "\n",
              "    .dataframe tbody tr th {\n",
              "        vertical-align: top;\n",
              "    }\n",
              "\n",
              "    .dataframe thead th {\n",
              "        text-align: right;\n",
              "    }\n",
              "</style>\n",
              "<table border=\"1\" class=\"dataframe\">\n",
              "  <thead>\n",
              "    <tr style=\"text-align: right;\">\n",
              "      <th></th>\n",
              "      <th>V1</th>\n",
              "      <th>V2</th>\n",
              "      <th>V3</th>\n",
              "      <th>V4</th>\n",
              "      <th>V5</th>\n",
              "      <th>class</th>\n",
              "    </tr>\n",
              "  </thead>\n",
              "  <tbody>\n",
              "    <tr>\n",
              "      <th>count</th>\n",
              "      <td>155.000000</td>\n",
              "      <td>155.000000</td>\n",
              "      <td>155.000000</td>\n",
              "      <td>155.000000</td>\n",
              "      <td>155.000000</td>\n",
              "      <td>155.000000</td>\n",
              "    </tr>\n",
              "    <tr>\n",
              "      <th>mean</th>\n",
              "      <td>0.350758</td>\n",
              "      <td>0.553388</td>\n",
              "      <td>-0.654627</td>\n",
              "      <td>0.972712</td>\n",
              "      <td>0.228065</td>\n",
              "      <td>1.387097</td>\n",
              "    </tr>\n",
              "    <tr>\n",
              "      <th>std</th>\n",
              "      <td>0.211658</td>\n",
              "      <td>0.709359</td>\n",
              "      <td>0.774883</td>\n",
              "      <td>0.027742</td>\n",
              "      <td>0.159290</td>\n",
              "      <td>0.638455</td>\n",
              "    </tr>\n",
              "    <tr>\n",
              "      <th>min</th>\n",
              "      <td>0.105265</td>\n",
              "      <td>0.415673</td>\n",
              "      <td>-0.892557</td>\n",
              "      <td>0.909939</td>\n",
              "      <td>0.018468</td>\n",
              "      <td>1.000000</td>\n",
              "    </tr>\n",
              "    <tr>\n",
              "      <th>25%</th>\n",
              "      <td>0.239914</td>\n",
              "      <td>0.467779</td>\n",
              "      <td>-0.816754</td>\n",
              "      <td>0.960645</td>\n",
              "      <td>0.121234</td>\n",
              "      <td>1.000000</td>\n",
              "    </tr>\n",
              "    <tr>\n",
              "      <th>50%</th>\n",
              "      <td>0.328511</td>\n",
              "      <td>0.484382</td>\n",
              "      <td>-0.752914</td>\n",
              "      <td>0.979913</td>\n",
              "      <td>0.162336</td>\n",
              "      <td>1.000000</td>\n",
              "    </tr>\n",
              "    <tr>\n",
              "      <th>75%</th>\n",
              "      <td>0.422336</td>\n",
              "      <td>0.513363</td>\n",
              "      <td>-0.621163</td>\n",
              "      <td>0.985168</td>\n",
              "      <td>0.318311</td>\n",
              "      <td>2.000000</td>\n",
              "    </tr>\n",
              "    <tr>\n",
              "      <th>max</th>\n",
              "      <td>2.200000</td>\n",
              "      <td>9.300000</td>\n",
              "      <td>8.800000</td>\n",
              "      <td>1.200000</td>\n",
              "      <td>0.720484</td>\n",
              "      <td>3.000000</td>\n",
              "    </tr>\n",
              "  </tbody>\n",
              "</table>\n",
              "</div>"
            ],
            "text/plain": [
              "               V1          V2          V3          V4          V5       class\n",
              "count  155.000000  155.000000  155.000000  155.000000  155.000000  155.000000\n",
              "mean     0.350758    0.553388   -0.654627    0.972712    0.228065    1.387097\n",
              "std      0.211658    0.709359    0.774883    0.027742    0.159290    0.638455\n",
              "min      0.105265    0.415673   -0.892557    0.909939    0.018468    1.000000\n",
              "25%      0.239914    0.467779   -0.816754    0.960645    0.121234    1.000000\n",
              "50%      0.328511    0.484382   -0.752914    0.979913    0.162336    1.000000\n",
              "75%      0.422336    0.513363   -0.621163    0.985168    0.318311    2.000000\n",
              "max      2.200000    9.300000    8.800000    1.200000    0.720484    3.000000"
            ]
          },
          "metadata": {},
          "execution_count": 6
        }
      ]
    },
    {
      "cell_type": "code",
      "metadata": {
        "colab": {
          "base_uri": "https://localhost:8080/"
        },
        "id": "TIv5tBbrTbkO",
        "outputId": "b206f526-fadf-4c61-c8a3-0d91956e8e31"
      },
      "source": [
        "df.dtypes"
      ],
      "id": "TIv5tBbrTbkO",
      "execution_count": 7,
      "outputs": [
        {
          "output_type": "execute_result",
          "data": {
            "text/plain": [
              "V1       float64\n",
              "V2       float64\n",
              "V3       float64\n",
              "V4       float64\n",
              "V4.1      object\n",
              "V5       float64\n",
              "class      int64\n",
              "dtype: object"
            ]
          },
          "metadata": {},
          "execution_count": 7
        }
      ]
    },
    {
      "cell_type": "code",
      "metadata": {
        "colab": {
          "base_uri": "https://localhost:8080/",
          "height": 351
        },
        "id": "xu3Od5HsT33m",
        "outputId": "05bb7f66-5b1f-4f4e-f23f-1636c06580c8"
      },
      "source": [
        "list_item = []\n",
        "for col in df.columns:\n",
        "    list_item.append([col,                                    # Feature\n",
        "                      df[col].dtype,                          # Data_type\n",
        "                      df[col].isna().sum(),                   # Null_num\n",
        "                      100*df[col].isna().sum()/len(df[col]),  # Null_pct\n",
        "                      df[col].unique(),                       # Unique_num\n",
        "                      df[col].unique()[:4]])                  # Unique_sample\n",
        "desc_df = pd.DataFrame(data=list_item, columns='Feature Data_type Null_num Null_pct Unique_num Unique_sample'.split()) \n",
        "desc_df"
      ],
      "id": "xu3Od5HsT33m",
      "execution_count": 8,
      "outputs": [
        {
          "output_type": "execute_result",
          "data": {
            "text/html": [
              "<div>\n",
              "<style scoped>\n",
              "    .dataframe tbody tr th:only-of-type {\n",
              "        vertical-align: middle;\n",
              "    }\n",
              "\n",
              "    .dataframe tbody tr th {\n",
              "        vertical-align: top;\n",
              "    }\n",
              "\n",
              "    .dataframe thead th {\n",
              "        text-align: right;\n",
              "    }\n",
              "</style>\n",
              "<table border=\"1\" class=\"dataframe\">\n",
              "  <thead>\n",
              "    <tr style=\"text-align: right;\">\n",
              "      <th></th>\n",
              "      <th>Feature</th>\n",
              "      <th>Data_type</th>\n",
              "      <th>Null_num</th>\n",
              "      <th>Null_pct</th>\n",
              "      <th>Unique_num</th>\n",
              "      <th>Unique_sample</th>\n",
              "    </tr>\n",
              "  </thead>\n",
              "  <tbody>\n",
              "    <tr>\n",
              "      <th>0</th>\n",
              "      <td>V1</td>\n",
              "      <td>float64</td>\n",
              "      <td>0</td>\n",
              "      <td>0.0</td>\n",
              "      <td>[0.44523846200000006, 0.498503907, 0.510062189...</td>\n",
              "      <td>[0.44523846200000006, 0.498503907, 0.510062189...</td>\n",
              "    </tr>\n",
              "    <tr>\n",
              "      <th>1</th>\n",
              "      <td>V2</td>\n",
              "      <td>float64</td>\n",
              "      <td>0</td>\n",
              "      <td>0.0</td>\n",
              "      <td>[0.505075484, 0.439430528, 0.463595125, 0.4642...</td>\n",
              "      <td>[0.505075484, 0.439430528, 0.463595125, 0.4642...</td>\n",
              "    </tr>\n",
              "    <tr>\n",
              "      <th>2</th>\n",
              "      <td>V3</td>\n",
              "      <td>float64</td>\n",
              "      <td>0</td>\n",
              "      <td>0.0</td>\n",
              "      <td>[-0.8203833979999999, -0.5428305170000001, -0....</td>\n",
              "      <td>[-0.8203833979999999, -0.5428305170000001, -0....</td>\n",
              "    </tr>\n",
              "    <tr>\n",
              "      <th>3</th>\n",
              "      <td>V4</td>\n",
              "      <td>float64</td>\n",
              "      <td>0</td>\n",
              "      <td>0.0</td>\n",
              "      <td>[0.995991373, 0.9311697940000001, 0.9975838709...</td>\n",
              "      <td>[0.995991373, 0.9311697940000001, 0.9975838709...</td>\n",
              "    </tr>\n",
              "    <tr>\n",
              "      <th>4</th>\n",
              "      <td>V4.1</td>\n",
              "      <td>object</td>\n",
              "      <td>0</td>\n",
              "      <td>0.0</td>\n",
              "      <td>[Yes, No]</td>\n",
              "      <td>[Yes, No]</td>\n",
              "    </tr>\n",
              "    <tr>\n",
              "      <th>5</th>\n",
              "      <td>V5</td>\n",
              "      <td>float64</td>\n",
              "      <td>0</td>\n",
              "      <td>0.0</td>\n",
              "      <td>[0.032069017000000005, 0.55064165, 0.019329032...</td>\n",
              "      <td>[0.032069017000000005, 0.55064165, 0.019329032...</td>\n",
              "    </tr>\n",
              "    <tr>\n",
              "      <th>6</th>\n",
              "      <td>class</td>\n",
              "      <td>int64</td>\n",
              "      <td>0</td>\n",
              "      <td>0.0</td>\n",
              "      <td>[1, 2, 3]</td>\n",
              "      <td>[1, 2, 3]</td>\n",
              "    </tr>\n",
              "  </tbody>\n",
              "</table>\n",
              "</div>"
            ],
            "text/plain": [
              "  Feature  ...                                      Unique_sample\n",
              "0      V1  ...  [0.44523846200000006, 0.498503907, 0.510062189...\n",
              "1      V2  ...  [0.505075484, 0.439430528, 0.463595125, 0.4642...\n",
              "2      V3  ...  [-0.8203833979999999, -0.5428305170000001, -0....\n",
              "3      V4  ...  [0.995991373, 0.9311697940000001, 0.9975838709...\n",
              "4    V4.1  ...                                          [Yes, No]\n",
              "5      V5  ...  [0.032069017000000005, 0.55064165, 0.019329032...\n",
              "6   class  ...                                          [1, 2, 3]\n",
              "\n",
              "[7 rows x 6 columns]"
            ]
          },
          "metadata": {},
          "execution_count": 8
        }
      ]
    },
    {
      "cell_type": "markdown",
      "metadata": {
        "id": "595a6621-72e4-4aa0-a281-2e3634359d37"
      },
      "source": [
        "## **Input Missing Value**"
      ],
      "id": "595a6621-72e4-4aa0-a281-2e3634359d37"
    },
    {
      "cell_type": "markdown",
      "metadata": {
        "id": "Bbz5bkn-U2YP"
      },
      "source": [
        "Cek apakah terdapat nilai kosong atau missing value dari setiap kolom"
      ],
      "id": "Bbz5bkn-U2YP"
    },
    {
      "cell_type": "code",
      "metadata": {
        "id": "273105c2-5937-4814-9253-ca73f225e766",
        "colab": {
          "base_uri": "https://localhost:8080/"
        },
        "outputId": "9599190a-08aa-4acf-c9b5-213c1fc4d9cc"
      },
      "source": [
        "df.isna().sum()"
      ],
      "id": "273105c2-5937-4814-9253-ca73f225e766",
      "execution_count": 9,
      "outputs": [
        {
          "output_type": "execute_result",
          "data": {
            "text/plain": [
              "V1       0\n",
              "V2       0\n",
              "V3       0\n",
              "V4       0\n",
              "V4.1     0\n",
              "V5       0\n",
              "class    0\n",
              "dtype: int64"
            ]
          },
          "metadata": {},
          "execution_count": 9
        }
      ]
    },
    {
      "cell_type": "markdown",
      "metadata": {
        "id": "7xCdH-NxuhWE"
      },
      "source": [
        "*Karena tidak terdapat missing value, maka tahapan ini dilewati*"
      ],
      "id": "7xCdH-NxuhWE"
    },
    {
      "cell_type": "markdown",
      "metadata": {
        "id": "f6c828a6-fea3-45f6-8472-d2bd3ddd3177"
      },
      "source": [
        "## **Handling Categorical Data**\n",
        "Mengubah data kategorikal non angka menjadi angka"
      ],
      "id": "f6c828a6-fea3-45f6-8472-d2bd3ddd3177"
    },
    {
      "cell_type": "code",
      "metadata": {
        "id": "tszXJc_arfIh"
      },
      "source": [
        "from sklearn.compose import ColumnTransformer\n",
        "from sklearn.preprocessing import OneHotEncoder"
      ],
      "id": "tszXJc_arfIh",
      "execution_count": 10,
      "outputs": []
    },
    {
      "cell_type": "markdown",
      "metadata": {
        "id": "3LWt7S0ru5ih"
      },
      "source": [
        "### Menggunakan One Hot Encoder"
      ],
      "id": "3LWt7S0ru5ih"
    },
    {
      "cell_type": "code",
      "metadata": {
        "id": "6XllmAmNq2aP"
      },
      "source": [
        "X = df.iloc[:, :-1]\n",
        "y = df['class']"
      ],
      "id": "6XllmAmNq2aP",
      "execution_count": 11,
      "outputs": []
    },
    {
      "cell_type": "code",
      "metadata": {
        "id": "270ff975-131d-43cf-80d0-c2366cc0e2a7"
      },
      "source": [
        "ct = ColumnTransformer(transformers=[('encoder', OneHotEncoder(), [4])], remainder='passthrough')\n",
        "X_onehot = np.array(ct.fit_transform(X))"
      ],
      "id": "270ff975-131d-43cf-80d0-c2366cc0e2a7",
      "execution_count": 12,
      "outputs": []
    },
    {
      "cell_type": "code",
      "metadata": {
        "colab": {
          "base_uri": "https://localhost:8080/"
        },
        "id": "e4kO1XZGwmwG",
        "outputId": "d27889eb-5a7d-4c1a-e4fc-66cbb9065292"
      },
      "source": [
        "X_onehot"
      ],
      "id": "e4kO1XZGwmwG",
      "execution_count": 13,
      "outputs": [
        {
          "output_type": "execute_result",
          "data": {
            "text/plain": [
              "array([[ 0.        ,  1.        ,  0.44523846, ..., -0.8203834 ,\n",
              "         0.99599137,  0.03206902],\n",
              "       [ 1.        ,  0.        ,  0.49850391, ..., -0.54283052,\n",
              "         0.93116979,  0.55064165],\n",
              "       [ 0.        ,  1.        ,  0.51006219, ..., -0.54283052,\n",
              "         0.93116979,  0.55064165],\n",
              "       ...,\n",
              "       [ 1.        ,  0.        ,  0.39525445, ..., -0.49956389,\n",
              "         0.9171221 ,  0.51302318],\n",
              "       [ 1.        ,  0.        ,  0.39525445, ..., -0.49956389,\n",
              "         0.9171221 ,  0.51302318],\n",
              "       [ 1.        ,  0.        ,  0.39525445, ..., -0.49956389,\n",
              "         0.9171221 ,  0.51302318]])"
            ]
          },
          "metadata": {},
          "execution_count": 13
        }
      ]
    },
    {
      "cell_type": "markdown",
      "metadata": {
        "id": "4nUo5XJovMn8"
      },
      "source": [
        "### Menggunakan Pandas Dummies"
      ],
      "id": "4nUo5XJovMn8"
    },
    {
      "cell_type": "code",
      "metadata": {
        "id": "LwxDiPCrw8Yt"
      },
      "source": [
        "X = df.iloc[:, :-1]\n",
        "y = df['class']"
      ],
      "id": "LwxDiPCrw8Yt",
      "execution_count": 14,
      "outputs": []
    },
    {
      "cell_type": "code",
      "metadata": {
        "id": "aNnPA9EnuswF"
      },
      "source": [
        "X_dummies = pd.get_dummies(X)"
      ],
      "id": "aNnPA9EnuswF",
      "execution_count": 15,
      "outputs": []
    },
    {
      "cell_type": "code",
      "metadata": {
        "colab": {
          "base_uri": "https://localhost:8080/",
          "height": 419
        },
        "id": "Vfgw_W6Zw-kO",
        "outputId": "4642eb6c-60da-4484-d4ae-a5565a8a7d38"
      },
      "source": [
        "X_dummies"
      ],
      "id": "Vfgw_W6Zw-kO",
      "execution_count": 16,
      "outputs": [
        {
          "output_type": "execute_result",
          "data": {
            "text/html": [
              "<div>\n",
              "<style scoped>\n",
              "    .dataframe tbody tr th:only-of-type {\n",
              "        vertical-align: middle;\n",
              "    }\n",
              "\n",
              "    .dataframe tbody tr th {\n",
              "        vertical-align: top;\n",
              "    }\n",
              "\n",
              "    .dataframe thead th {\n",
              "        text-align: right;\n",
              "    }\n",
              "</style>\n",
              "<table border=\"1\" class=\"dataframe\">\n",
              "  <thead>\n",
              "    <tr style=\"text-align: right;\">\n",
              "      <th></th>\n",
              "      <th>V1</th>\n",
              "      <th>V2</th>\n",
              "      <th>V3</th>\n",
              "      <th>V4</th>\n",
              "      <th>V5</th>\n",
              "      <th>V4.1_No</th>\n",
              "      <th>V4.1_Yes</th>\n",
              "    </tr>\n",
              "  </thead>\n",
              "  <tbody>\n",
              "    <tr>\n",
              "      <th>0</th>\n",
              "      <td>0.445238</td>\n",
              "      <td>0.505075</td>\n",
              "      <td>-0.820383</td>\n",
              "      <td>0.995991</td>\n",
              "      <td>0.032069</td>\n",
              "      <td>0</td>\n",
              "      <td>1</td>\n",
              "    </tr>\n",
              "    <tr>\n",
              "      <th>1</th>\n",
              "      <td>0.498504</td>\n",
              "      <td>0.439431</td>\n",
              "      <td>-0.542831</td>\n",
              "      <td>0.931170</td>\n",
              "      <td>0.550642</td>\n",
              "      <td>1</td>\n",
              "      <td>0</td>\n",
              "    </tr>\n",
              "    <tr>\n",
              "      <th>2</th>\n",
              "      <td>0.510062</td>\n",
              "      <td>0.439431</td>\n",
              "      <td>-0.542831</td>\n",
              "      <td>0.931170</td>\n",
              "      <td>0.550642</td>\n",
              "      <td>0</td>\n",
              "      <td>1</td>\n",
              "    </tr>\n",
              "    <tr>\n",
              "      <th>3</th>\n",
              "      <td>0.239149</td>\n",
              "      <td>0.463595</td>\n",
              "      <td>-0.744533</td>\n",
              "      <td>0.997584</td>\n",
              "      <td>0.019329</td>\n",
              "      <td>1</td>\n",
              "      <td>0</td>\n",
              "    </tr>\n",
              "    <tr>\n",
              "      <th>4</th>\n",
              "      <td>0.348374</td>\n",
              "      <td>0.464238</td>\n",
              "      <td>-0.599760</td>\n",
              "      <td>0.951383</td>\n",
              "      <td>0.388940</td>\n",
              "      <td>0</td>\n",
              "      <td>1</td>\n",
              "    </tr>\n",
              "    <tr>\n",
              "      <th>...</th>\n",
              "      <td>...</td>\n",
              "      <td>...</td>\n",
              "      <td>...</td>\n",
              "      <td>...</td>\n",
              "      <td>...</td>\n",
              "      <td>...</td>\n",
              "      <td>...</td>\n",
              "    </tr>\n",
              "    <tr>\n",
              "      <th>150</th>\n",
              "      <td>2.200000</td>\n",
              "      <td>9.300000</td>\n",
              "      <td>8.800000</td>\n",
              "      <td>1.200000</td>\n",
              "      <td>0.513023</td>\n",
              "      <td>1</td>\n",
              "      <td>0</td>\n",
              "    </tr>\n",
              "    <tr>\n",
              "      <th>151</th>\n",
              "      <td>0.395254</td>\n",
              "      <td>0.529118</td>\n",
              "      <td>-0.499564</td>\n",
              "      <td>0.917122</td>\n",
              "      <td>0.513023</td>\n",
              "      <td>1</td>\n",
              "      <td>0</td>\n",
              "    </tr>\n",
              "    <tr>\n",
              "      <th>152</th>\n",
              "      <td>0.395254</td>\n",
              "      <td>0.529118</td>\n",
              "      <td>-0.499564</td>\n",
              "      <td>0.917122</td>\n",
              "      <td>0.513023</td>\n",
              "      <td>1</td>\n",
              "      <td>0</td>\n",
              "    </tr>\n",
              "    <tr>\n",
              "      <th>153</th>\n",
              "      <td>0.395254</td>\n",
              "      <td>0.529118</td>\n",
              "      <td>-0.499564</td>\n",
              "      <td>0.917122</td>\n",
              "      <td>0.513023</td>\n",
              "      <td>1</td>\n",
              "      <td>0</td>\n",
              "    </tr>\n",
              "    <tr>\n",
              "      <th>154</th>\n",
              "      <td>0.395254</td>\n",
              "      <td>0.529118</td>\n",
              "      <td>-0.499564</td>\n",
              "      <td>0.917122</td>\n",
              "      <td>0.513023</td>\n",
              "      <td>1</td>\n",
              "      <td>0</td>\n",
              "    </tr>\n",
              "  </tbody>\n",
              "</table>\n",
              "<p>155 rows × 7 columns</p>\n",
              "</div>"
            ],
            "text/plain": [
              "           V1        V2        V3        V4        V5  V4.1_No  V4.1_Yes\n",
              "0    0.445238  0.505075 -0.820383  0.995991  0.032069        0         1\n",
              "1    0.498504  0.439431 -0.542831  0.931170  0.550642        1         0\n",
              "2    0.510062  0.439431 -0.542831  0.931170  0.550642        0         1\n",
              "3    0.239149  0.463595 -0.744533  0.997584  0.019329        1         0\n",
              "4    0.348374  0.464238 -0.599760  0.951383  0.388940        0         1\n",
              "..        ...       ...       ...       ...       ...      ...       ...\n",
              "150  2.200000  9.300000  8.800000  1.200000  0.513023        1         0\n",
              "151  0.395254  0.529118 -0.499564  0.917122  0.513023        1         0\n",
              "152  0.395254  0.529118 -0.499564  0.917122  0.513023        1         0\n",
              "153  0.395254  0.529118 -0.499564  0.917122  0.513023        1         0\n",
              "154  0.395254  0.529118 -0.499564  0.917122  0.513023        1         0\n",
              "\n",
              "[155 rows x 7 columns]"
            ]
          },
          "metadata": {},
          "execution_count": 16
        }
      ]
    },
    {
      "cell_type": "markdown",
      "metadata": {
        "id": "a9b422ec-4dff-40c9-aab5-a9f4af893e7c"
      },
      "source": [
        "## **Analisis Korelasi Fitur**\n",
        "Menggunakan feature pearson pada library Klib"
      ],
      "id": "a9b422ec-4dff-40c9-aab5-a9f4af893e7c"
    },
    {
      "cell_type": "code",
      "metadata": {
        "colab": {
          "base_uri": "https://localhost:8080/",
          "height": 519
        },
        "id": "1s3mHeFNySG9",
        "outputId": "5fc9931d-b8b3-46e5-d653-3d341b6151f5"
      },
      "source": [
        "# Korelasi pada data yang belum dilakukan categorical encoding\n",
        "klib.corr_plot(X, annot=True, figsize=(8,8))"
      ],
      "id": "1s3mHeFNySG9",
      "execution_count": 17,
      "outputs": [
        {
          "output_type": "execute_result",
          "data": {
            "text/plain": [
              "<matplotlib.axes._subplots.AxesSubplot at 0x7f8aa6fe1e50>"
            ]
          },
          "metadata": {},
          "execution_count": 17
        },
        {
          "output_type": "display_data",
          "data": {
            "image/png": "[encoded data removed]",
            "text/plain": [
              "<Figure size 576x576 with 2 Axes>"
            ]
          },
          "metadata": {
            "needs_background": "light"
          }
        }
      ]
    },
    {
      "cell_type": "code",
      "metadata": {
        "colab": {
          "base_uri": "https://localhost:8080/",
          "height": 519
        },
        "id": "fImWtePXy2dA",
        "outputId": "226bbe0b-c70d-41e1-b707-803d43b114c9"
      },
      "source": [
        "# Korelasi pada data yang telah dilakukan categorical encoding (menggunakan data pandas dummies)\n",
        "klib.corr_plot(X_dummies, annot=True, figsize=(8,8))"
      ],
      "id": "fImWtePXy2dA",
      "execution_count": 18,
      "outputs": [
        {
          "output_type": "execute_result",
          "data": {
            "text/plain": [
              "<matplotlib.axes._subplots.AxesSubplot at 0x7f8a9dc69550>"
            ]
          },
          "metadata": {},
          "execution_count": 18
        },
        {
          "output_type": "display_data",
          "data": {
            "image/png": "[encoded data removed]",
            "text/plain": [
              "<Figure size 576x576 with 2 Axes>"
            ]
          },
          "metadata": {
            "needs_background": "light"
          }
        }
      ]
    },
    {
      "cell_type": "markdown",
      "metadata": {
        "id": "bc9dc763-04fa-4e15-8a91-01522fa8e85b"
      },
      "source": [
        "## **Outlier Detection**\n",
        "Melakukan outlier detection menggunakan algoritma Isolation Forest"
      ],
      "id": "bc9dc763-04fa-4e15-8a91-01522fa8e85b"
    },
    {
      "cell_type": "code",
      "metadata": {
        "id": "b044b9c7-51a1-4e3d-8a93-06af102964af"
      },
      "source": [
        "from sklearn.ensemble import IsolationForest"
      ],
      "id": "b044b9c7-51a1-4e3d-8a93-06af102964af",
      "execution_count": 19,
      "outputs": []
    },
    {
      "cell_type": "markdown",
      "metadata": {
        "id": "ONDffDSs2w4F"
      },
      "source": [
        "Deteksi outlier pada data yang telah di encode dengan one hot encoding"
      ],
      "id": "ONDffDSs2w4F"
    },
    {
      "cell_type": "code",
      "metadata": {
        "id": "zBYS76szy0x-"
      },
      "source": [
        "iso = IsolationForest(contamination=0.1)\n",
        "iso_yhat = iso.fit_predict(X_onehot)"
      ],
      "id": "zBYS76szy0x-",
      "execution_count": 20,
      "outputs": []
    },
    {
      "cell_type": "code",
      "metadata": {
        "id": "zgODz7BWy38c"
      },
      "source": [
        "mask = iso_yhat != -1\n",
        "X_clean, y_clean = X_onehot[mask, :], y[mask]"
      ],
      "id": "zgODz7BWy38c",
      "execution_count": 21,
      "outputs": []
    },
    {
      "cell_type": "code",
      "metadata": {
        "colab": {
          "base_uri": "https://localhost:8080/"
        },
        "id": "3PeV2-zi0D6d",
        "outputId": "c038a0e8-82f3-4a88-f5df-1aedcac285c2"
      },
      "source": [
        "print('Shape sebelum dan sesudah pendeteksian outlier pada data X dan y\\n')\n",
        "print(f'X Before : {X_onehot.shape}')\n",
        "print(f'X After  : {X_clean.shape}\\n')\n",
        "print(f'y Before : {y.shape}')\n",
        "print(f'y After  : {y_clean.shape}')"
      ],
      "id": "3PeV2-zi0D6d",
      "execution_count": 22,
      "outputs": [
        {
          "output_type": "stream",
          "name": "stdout",
          "text": [
            "Shape sebelum dan sesudah pendeteksian outlier pada data X dan y\n",
            "\n",
            "X Before : (155, 7)\n",
            "X After  : (139, 7)\n",
            "\n",
            "y Before : (155,)\n",
            "y After  : (139,)\n"
          ]
        }
      ]
    },
    {
      "cell_type": "code",
      "metadata": {
        "id": "ZRVuojVfpnCE"
      },
      "source": [
        ""
      ],
      "id": "ZRVuojVfpnCE",
      "execution_count": 22,
      "outputs": []
    }
  ]
}