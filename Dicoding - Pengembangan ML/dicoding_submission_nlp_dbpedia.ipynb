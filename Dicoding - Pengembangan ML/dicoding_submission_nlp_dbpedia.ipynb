{
 "cells": [
  {
   "cell_type": "markdown",
   "metadata": {},
   "source": [
    "## Dicoding NLP Submission\n",
    "\n",
    "Dataset used: <a href=\"https://www.kaggle.com/datasets/danofer/dbpedia-classes\">DBPedia</a>  \n",
    "By: Putu Andika Tedja Permana"
   ]
  },
  {
   "cell_type": "code",
   "execution_count": 22,
   "metadata": {
    "id": "N6pLWnEZIrbX"
   },
   "outputs": [
    {
     "name": "stderr",
     "output_type": "stream",
     "text": [
      "[nltk_data] Downloading package stopwords to /root/nltk_data...\n",
      "[nltk_data]   Package stopwords is already up-to-date!\n"
     ]
    },
    {
     "data": {
      "text/plain": [
       "True"
      ]
     },
     "execution_count": 22,
     "metadata": {},
     "output_type": "execute_result"
    }
   ],
   "source": [
    "import pandas as pd\n",
    "import numpy as np\n",
    "import tensorflow as tf\n",
    "import matplotlib.pyplot as plt\n",
    "import re\n",
    "import nltk\n",
    "\n",
    "from sklearn.preprocessing import OneHotEncoder\n",
    "from sklearn.model_selection import train_test_split\n",
    "from tensorflow.keras.preprocessing.text import Tokenizer\n",
    "from tensorflow.keras.preprocessing.sequence import pad_sequences\n",
    "\n",
    "nltk.download('stopwords')"
   ]
  },
  {
   "cell_type": "markdown",
   "metadata": {},
   "source": [
    "### Read Data CSV"
   ]
  },
  {
   "cell_type": "code",
   "execution_count": 2,
   "metadata": {
    "colab": {
     "base_uri": "https://localhost:8080/",
     "height": 424
    },
    "id": "nMciznefI8sB",
    "outputId": "e36bc318-bc79-462b-c1e6-1e62e0cd5e4f"
   },
   "outputs": [
    {
     "data": {
      "text/html": [
       "<div>\n",
       "<style scoped>\n",
       "    .dataframe tbody tr th:only-of-type {\n",
       "        vertical-align: middle;\n",
       "    }\n",
       "\n",
       "    .dataframe tbody tr th {\n",
       "        vertical-align: top;\n",
       "    }\n",
       "\n",
       "    .dataframe thead th {\n",
       "        text-align: right;\n",
       "    }\n",
       "</style>\n",
       "<table border=\"1\" class=\"dataframe\">\n",
       "  <thead>\n",
       "    <tr style=\"text-align: right;\">\n",
       "      <th></th>\n",
       "      <th>text</th>\n",
       "      <th>l1</th>\n",
       "      <th>l2</th>\n",
       "      <th>l3</th>\n",
       "    </tr>\n",
       "  </thead>\n",
       "  <tbody>\n",
       "    <tr>\n",
       "      <th>0</th>\n",
       "      <td>William Alexander Massey (October 7, 1856 – Ma...</td>\n",
       "      <td>Agent</td>\n",
       "      <td>Politician</td>\n",
       "      <td>Senator</td>\n",
       "    </tr>\n",
       "    <tr>\n",
       "      <th>1</th>\n",
       "      <td>Lions is the sixth studio album by American ro...</td>\n",
       "      <td>Work</td>\n",
       "      <td>MusicalWork</td>\n",
       "      <td>Album</td>\n",
       "    </tr>\n",
       "    <tr>\n",
       "      <th>2</th>\n",
       "      <td>Pirqa (Aymara and Quechua for wall, hispaniciz...</td>\n",
       "      <td>Place</td>\n",
       "      <td>NaturalPlace</td>\n",
       "      <td>Mountain</td>\n",
       "    </tr>\n",
       "    <tr>\n",
       "      <th>3</th>\n",
       "      <td>Cancer Prevention Research is a biweekly peer-...</td>\n",
       "      <td>Work</td>\n",
       "      <td>PeriodicalLiterature</td>\n",
       "      <td>AcademicJournal</td>\n",
       "    </tr>\n",
       "    <tr>\n",
       "      <th>4</th>\n",
       "      <td>The Princeton University Chapel is located on ...</td>\n",
       "      <td>Place</td>\n",
       "      <td>Building</td>\n",
       "      <td>HistoricBuilding</td>\n",
       "    </tr>\n",
       "    <tr>\n",
       "      <th>...</th>\n",
       "      <td>...</td>\n",
       "      <td>...</td>\n",
       "      <td>...</td>\n",
       "      <td>...</td>\n",
       "    </tr>\n",
       "    <tr>\n",
       "      <th>240937</th>\n",
       "      <td>Charlie Thompson is a prominent journalist in ...</td>\n",
       "      <td>Agent</td>\n",
       "      <td>Person</td>\n",
       "      <td>Journalist</td>\n",
       "    </tr>\n",
       "    <tr>\n",
       "      <th>240938</th>\n",
       "      <td>The Northerly Stakes is a Perth Racing Group 3...</td>\n",
       "      <td>Event</td>\n",
       "      <td>Race</td>\n",
       "      <td>HorseRace</td>\n",
       "    </tr>\n",
       "    <tr>\n",
       "      <th>240939</th>\n",
       "      <td>HC Empor Rostock is a team handball club from ...</td>\n",
       "      <td>Agent</td>\n",
       "      <td>SportsTeam</td>\n",
       "      <td>HandballTeam</td>\n",
       "    </tr>\n",
       "    <tr>\n",
       "      <th>240940</th>\n",
       "      <td>University of Surabaya (UBAYA) is a university...</td>\n",
       "      <td>Agent</td>\n",
       "      <td>EducationalInstitution</td>\n",
       "      <td>University</td>\n",
       "    </tr>\n",
       "    <tr>\n",
       "      <th>240941</th>\n",
       "      <td>The 1981 Seattle Seahawks season was the team'...</td>\n",
       "      <td>SportsSeason</td>\n",
       "      <td>FootballLeagueSeason</td>\n",
       "      <td>NationalFootballLeagueSeason</td>\n",
       "    </tr>\n",
       "  </tbody>\n",
       "</table>\n",
       "<p>240942 rows × 4 columns</p>\n",
       "</div>"
      ],
      "text/plain": [
       "                                                     text            l1  \\\n",
       "0       William Alexander Massey (October 7, 1856 – Ma...         Agent   \n",
       "1       Lions is the sixth studio album by American ro...          Work   \n",
       "2       Pirqa (Aymara and Quechua for wall, hispaniciz...         Place   \n",
       "3       Cancer Prevention Research is a biweekly peer-...          Work   \n",
       "4       The Princeton University Chapel is located on ...         Place   \n",
       "...                                                   ...           ...   \n",
       "240937  Charlie Thompson is a prominent journalist in ...         Agent   \n",
       "240938  The Northerly Stakes is a Perth Racing Group 3...         Event   \n",
       "240939  HC Empor Rostock is a team handball club from ...         Agent   \n",
       "240940  University of Surabaya (UBAYA) is a university...         Agent   \n",
       "240941  The 1981 Seattle Seahawks season was the team'...  SportsSeason   \n",
       "\n",
       "                            l2                            l3  \n",
       "0                   Politician                       Senator  \n",
       "1                  MusicalWork                         Album  \n",
       "2                 NaturalPlace                      Mountain  \n",
       "3         PeriodicalLiterature               AcademicJournal  \n",
       "4                     Building              HistoricBuilding  \n",
       "...                        ...                           ...  \n",
       "240937                  Person                    Journalist  \n",
       "240938                    Race                     HorseRace  \n",
       "240939              SportsTeam                  HandballTeam  \n",
       "240940  EducationalInstitution                    University  \n",
       "240941    FootballLeagueSeason  NationalFootballLeagueSeason  \n",
       "\n",
       "[240942 rows x 4 columns]"
      ]
     },
     "execution_count": 2,
     "metadata": {},
     "output_type": "execute_result"
    }
   ],
   "source": [
    "df = pd.read_csv('DBPEDIA_train.csv', encoding='utf-8')\n",
    "df"
   ]
  },
  {
   "cell_type": "markdown",
   "metadata": {},
   "source": [
    "### Data Exploratory"
   ]
  },
  {
   "cell_type": "code",
   "execution_count": 3,
   "metadata": {},
   "outputs": [
    {
     "name": "stdout",
     "output_type": "stream",
     "text": [
      "<class 'pandas.core.frame.DataFrame'>\n",
      "RangeIndex: 240942 entries, 0 to 240941\n",
      "Data columns (total 4 columns):\n",
      " #   Column  Non-Null Count   Dtype \n",
      "---  ------  --------------   ----- \n",
      " 0   text    240942 non-null  object\n",
      " 1   l1      240942 non-null  object\n",
      " 2   l2      240942 non-null  object\n",
      " 3   l3      240942 non-null  object\n",
      "dtypes: object(4)\n",
      "memory usage: 7.4+ MB\n"
     ]
    }
   ],
   "source": [
    "df.info()"
   ]
  },
  {
   "cell_type": "code",
   "execution_count": 4,
   "metadata": {
    "colab": {
     "base_uri": "https://localhost:8080/"
    },
    "id": "ZxvVF5VpQY1R",
    "outputId": "7f59195d-6877-419a-fe3c-2e0dfb713057"
   },
   "outputs": [
    {
     "data": {
      "text/plain": [
       "text    object\n",
       "l1      object\n",
       "l2      object\n",
       "l3      object\n",
       "dtype: object"
      ]
     },
     "execution_count": 4,
     "metadata": {},
     "output_type": "execute_result"
    }
   ],
   "source": [
    "df.dtypes"
   ]
  },
  {
   "cell_type": "markdown",
   "metadata": {},
   "source": [
    "### Data Preprocessing"
   ]
  },
  {
   "cell_type": "code",
   "execution_count": 5,
   "metadata": {},
   "outputs": [
    {
     "data": {
      "text/html": [
       "<div>\n",
       "<style scoped>\n",
       "    .dataframe tbody tr th:only-of-type {\n",
       "        vertical-align: middle;\n",
       "    }\n",
       "\n",
       "    .dataframe tbody tr th {\n",
       "        vertical-align: top;\n",
       "    }\n",
       "\n",
       "    .dataframe thead th {\n",
       "        text-align: right;\n",
       "    }\n",
       "</style>\n",
       "<table border=\"1\" class=\"dataframe\">\n",
       "  <thead>\n",
       "    <tr style=\"text-align: right;\">\n",
       "      <th></th>\n",
       "      <th>text</th>\n",
       "      <th>l1</th>\n",
       "    </tr>\n",
       "  </thead>\n",
       "  <tbody>\n",
       "    <tr>\n",
       "      <th>0</th>\n",
       "      <td>William Alexander Massey (October 7, 1856 – Ma...</td>\n",
       "      <td>Agent</td>\n",
       "    </tr>\n",
       "    <tr>\n",
       "      <th>1</th>\n",
       "      <td>Lions is the sixth studio album by American ro...</td>\n",
       "      <td>Work</td>\n",
       "    </tr>\n",
       "    <tr>\n",
       "      <th>2</th>\n",
       "      <td>Pirqa (Aymara and Quechua for wall, hispaniciz...</td>\n",
       "      <td>Place</td>\n",
       "    </tr>\n",
       "    <tr>\n",
       "      <th>3</th>\n",
       "      <td>Cancer Prevention Research is a biweekly peer-...</td>\n",
       "      <td>Work</td>\n",
       "    </tr>\n",
       "    <tr>\n",
       "      <th>4</th>\n",
       "      <td>The Princeton University Chapel is located on ...</td>\n",
       "      <td>Place</td>\n",
       "    </tr>\n",
       "    <tr>\n",
       "      <th>...</th>\n",
       "      <td>...</td>\n",
       "      <td>...</td>\n",
       "    </tr>\n",
       "    <tr>\n",
       "      <th>240937</th>\n",
       "      <td>Charlie Thompson is a prominent journalist in ...</td>\n",
       "      <td>Agent</td>\n",
       "    </tr>\n",
       "    <tr>\n",
       "      <th>240938</th>\n",
       "      <td>The Northerly Stakes is a Perth Racing Group 3...</td>\n",
       "      <td>Event</td>\n",
       "    </tr>\n",
       "    <tr>\n",
       "      <th>240939</th>\n",
       "      <td>HC Empor Rostock is a team handball club from ...</td>\n",
       "      <td>Agent</td>\n",
       "    </tr>\n",
       "    <tr>\n",
       "      <th>240940</th>\n",
       "      <td>University of Surabaya (UBAYA) is a university...</td>\n",
       "      <td>Agent</td>\n",
       "    </tr>\n",
       "    <tr>\n",
       "      <th>240941</th>\n",
       "      <td>The 1981 Seattle Seahawks season was the team'...</td>\n",
       "      <td>SportsSeason</td>\n",
       "    </tr>\n",
       "  </tbody>\n",
       "</table>\n",
       "<p>240942 rows × 2 columns</p>\n",
       "</div>"
      ],
      "text/plain": [
       "                                                     text            l1\n",
       "0       William Alexander Massey (October 7, 1856 – Ma...         Agent\n",
       "1       Lions is the sixth studio album by American ro...          Work\n",
       "2       Pirqa (Aymara and Quechua for wall, hispaniciz...         Place\n",
       "3       Cancer Prevention Research is a biweekly peer-...          Work\n",
       "4       The Princeton University Chapel is located on ...         Place\n",
       "...                                                   ...           ...\n",
       "240937  Charlie Thompson is a prominent journalist in ...         Agent\n",
       "240938  The Northerly Stakes is a Perth Racing Group 3...         Event\n",
       "240939  HC Empor Rostock is a team handball club from ...         Agent\n",
       "240940  University of Surabaya (UBAYA) is a university...         Agent\n",
       "240941  The 1981 Seattle Seahawks season was the team'...  SportsSeason\n",
       "\n",
       "[240942 rows x 2 columns]"
      ]
     },
     "execution_count": 5,
     "metadata": {},
     "output_type": "execute_result"
    }
   ],
   "source": [
    "# We will use the l1 as label, so we can drop the l2 and l3 columns\n",
    "df.drop(['l2', 'l3'], axis=1, inplace=True)\n",
    "df"
   ]
  },
  {
   "cell_type": "code",
   "execution_count": 6,
   "metadata": {
    "colab": {
     "base_uri": "https://localhost:8080/"
    },
    "id": "zCx_Bbz7K0ca",
    "outputId": "c5d04718-7bb4-4647-a5b1-e47a42f18994"
   },
   "outputs": [
    {
     "data": {
      "text/plain": [
       "9"
      ]
     },
     "execution_count": 6,
     "metadata": {},
     "output_type": "execute_result"
    }
   ],
   "source": [
    "# Count how many label or class this data has\n",
    "df['l1'].nunique()"
   ]
  },
  {
   "cell_type": "code",
   "execution_count": 7,
   "metadata": {},
   "outputs": [],
   "source": [
    "replace_by_space_regex = re.compile('[/(){}\\[\\]\\|@,;]')\n",
    "bad_symbols_regex = re.compile('[^0-9a-z #+_]')\n",
    "stopwords = set(nltk.corpus.stopwords.words('english'))\n",
    "\n",
    "def clean_text(text):\n",
    "    \"\"\"\n",
    "        Function to clean text\n",
    "        \n",
    "        text: a string\n",
    "        \n",
    "        return: modified initial string\n",
    "    \"\"\"\n",
    "    text = text.lower()\n",
    "    text = replace_by_space_regex.sub(' ', text)\n",
    "    text = bad_symbols_regex.sub('', text)\n",
    "    text = text.replace('x', '')\n",
    "    text = ' '.join(word for word in text.split() if word not in stopwords) # remove stopwords from text\n",
    "    return text"
   ]
  },
  {
   "cell_type": "code",
   "execution_count": 8,
   "metadata": {},
   "outputs": [],
   "source": [
    "df['text'] = df['text'].apply(clean_text)\n",
    "df['text'] = df['text'].str.replace('\\d+', '', regex=True)"
   ]
  },
  {
   "cell_type": "markdown",
   "metadata": {},
   "source": [
    "#### Label Encoding\n",
    "For label encoding, we will use one hot encoding"
   ]
  },
  {
   "cell_type": "code",
   "execution_count": 9,
   "metadata": {
    "id": "jiKmruCbLVzQ"
   },
   "outputs": [],
   "source": [
    "one_hot = OneHotEncoder(handle_unknown='ignore')"
   ]
  },
  {
   "cell_type": "code",
   "execution_count": 10,
   "metadata": {
    "id": "egclXlgaMNFm"
   },
   "outputs": [],
   "source": [
    "one_hot_df = pd.DataFrame(one_hot.fit_transform(df[['l1']]).toarray())\n",
    "one_hot_df.columns=one_hot.get_feature_names_out()"
   ]
  },
  {
   "cell_type": "code",
   "execution_count": 11,
   "metadata": {
    "colab": {
     "base_uri": "https://localhost:8080/",
     "height": 424
    },
    "id": "o0uf7LO9MTTF",
    "outputId": "e583436c-9c59-48e6-d495-916cc9fd52e9"
   },
   "outputs": [
    {
     "data": {
      "text/html": [
       "<div>\n",
       "<style scoped>\n",
       "    .dataframe tbody tr th:only-of-type {\n",
       "        vertical-align: middle;\n",
       "    }\n",
       "\n",
       "    .dataframe tbody tr th {\n",
       "        vertical-align: top;\n",
       "    }\n",
       "\n",
       "    .dataframe thead th {\n",
       "        text-align: right;\n",
       "    }\n",
       "</style>\n",
       "<table border=\"1\" class=\"dataframe\">\n",
       "  <thead>\n",
       "    <tr style=\"text-align: right;\">\n",
       "      <th></th>\n",
       "      <th>l1_Agent</th>\n",
       "      <th>l1_Device</th>\n",
       "      <th>l1_Event</th>\n",
       "      <th>l1_Place</th>\n",
       "      <th>l1_Species</th>\n",
       "      <th>l1_SportsSeason</th>\n",
       "      <th>l1_TopicalConcept</th>\n",
       "      <th>l1_UnitOfWork</th>\n",
       "      <th>l1_Work</th>\n",
       "    </tr>\n",
       "  </thead>\n",
       "  <tbody>\n",
       "    <tr>\n",
       "      <th>0</th>\n",
       "      <td>1.0</td>\n",
       "      <td>0.0</td>\n",
       "      <td>0.0</td>\n",
       "      <td>0.0</td>\n",
       "      <td>0.0</td>\n",
       "      <td>0.0</td>\n",
       "      <td>0.0</td>\n",
       "      <td>0.0</td>\n",
       "      <td>0.0</td>\n",
       "    </tr>\n",
       "    <tr>\n",
       "      <th>1</th>\n",
       "      <td>0.0</td>\n",
       "      <td>0.0</td>\n",
       "      <td>0.0</td>\n",
       "      <td>0.0</td>\n",
       "      <td>0.0</td>\n",
       "      <td>0.0</td>\n",
       "      <td>0.0</td>\n",
       "      <td>0.0</td>\n",
       "      <td>1.0</td>\n",
       "    </tr>\n",
       "    <tr>\n",
       "      <th>2</th>\n",
       "      <td>0.0</td>\n",
       "      <td>0.0</td>\n",
       "      <td>0.0</td>\n",
       "      <td>1.0</td>\n",
       "      <td>0.0</td>\n",
       "      <td>0.0</td>\n",
       "      <td>0.0</td>\n",
       "      <td>0.0</td>\n",
       "      <td>0.0</td>\n",
       "    </tr>\n",
       "    <tr>\n",
       "      <th>3</th>\n",
       "      <td>0.0</td>\n",
       "      <td>0.0</td>\n",
       "      <td>0.0</td>\n",
       "      <td>0.0</td>\n",
       "      <td>0.0</td>\n",
       "      <td>0.0</td>\n",
       "      <td>0.0</td>\n",
       "      <td>0.0</td>\n",
       "      <td>1.0</td>\n",
       "    </tr>\n",
       "    <tr>\n",
       "      <th>4</th>\n",
       "      <td>0.0</td>\n",
       "      <td>0.0</td>\n",
       "      <td>0.0</td>\n",
       "      <td>1.0</td>\n",
       "      <td>0.0</td>\n",
       "      <td>0.0</td>\n",
       "      <td>0.0</td>\n",
       "      <td>0.0</td>\n",
       "      <td>0.0</td>\n",
       "    </tr>\n",
       "  </tbody>\n",
       "</table>\n",
       "</div>"
      ],
      "text/plain": [
       "   l1_Agent  l1_Device  l1_Event  l1_Place  l1_Species  l1_SportsSeason  \\\n",
       "0       1.0        0.0       0.0       0.0         0.0              0.0   \n",
       "1       0.0        0.0       0.0       0.0         0.0              0.0   \n",
       "2       0.0        0.0       0.0       1.0         0.0              0.0   \n",
       "3       0.0        0.0       0.0       0.0         0.0              0.0   \n",
       "4       0.0        0.0       0.0       1.0         0.0              0.0   \n",
       "\n",
       "   l1_TopicalConcept  l1_UnitOfWork  l1_Work  \n",
       "0                0.0            0.0      0.0  \n",
       "1                0.0            0.0      1.0  \n",
       "2                0.0            0.0      0.0  \n",
       "3                0.0            0.0      1.0  \n",
       "4                0.0            0.0      0.0  "
      ]
     },
     "execution_count": 11,
     "metadata": {},
     "output_type": "execute_result"
    }
   ],
   "source": [
    "one_hot_df.head()"
   ]
  },
  {
   "cell_type": "code",
   "execution_count": 12,
   "metadata": {
    "colab": {
     "base_uri": "https://localhost:8080/",
     "height": 424
    },
    "id": "GzBRAJ6vMUce",
    "outputId": "1817b653-fefb-4c3d-8291-ffa4034698c7"
   },
   "outputs": [
    {
     "data": {
      "text/html": [
       "<div>\n",
       "<style scoped>\n",
       "    .dataframe tbody tr th:only-of-type {\n",
       "        vertical-align: middle;\n",
       "    }\n",
       "\n",
       "    .dataframe tbody tr th {\n",
       "        vertical-align: top;\n",
       "    }\n",
       "\n",
       "    .dataframe thead th {\n",
       "        text-align: right;\n",
       "    }\n",
       "</style>\n",
       "<table border=\"1\" class=\"dataframe\">\n",
       "  <thead>\n",
       "    <tr style=\"text-align: right;\">\n",
       "      <th></th>\n",
       "      <th>text</th>\n",
       "      <th>l1_Agent</th>\n",
       "      <th>l1_Device</th>\n",
       "      <th>l1_Event</th>\n",
       "      <th>l1_Place</th>\n",
       "      <th>l1_Species</th>\n",
       "      <th>l1_SportsSeason</th>\n",
       "      <th>l1_TopicalConcept</th>\n",
       "      <th>l1_UnitOfWork</th>\n",
       "      <th>l1_Work</th>\n",
       "    </tr>\n",
       "  </thead>\n",
       "  <tbody>\n",
       "    <tr>\n",
       "      <th>0</th>\n",
       "      <td>william aleander massey october   march   unit...</td>\n",
       "      <td>1.0</td>\n",
       "      <td>0.0</td>\n",
       "      <td>0.0</td>\n",
       "      <td>0.0</td>\n",
       "      <td>0.0</td>\n",
       "      <td>0.0</td>\n",
       "      <td>0.0</td>\n",
       "      <td>0.0</td>\n",
       "      <td>0.0</td>\n",
       "    </tr>\n",
       "    <tr>\n",
       "      <th>1</th>\n",
       "      <td>lions sith studio album american rock band bla...</td>\n",
       "      <td>0.0</td>\n",
       "      <td>0.0</td>\n",
       "      <td>0.0</td>\n",
       "      <td>0.0</td>\n",
       "      <td>0.0</td>\n",
       "      <td>0.0</td>\n",
       "      <td>0.0</td>\n",
       "      <td>0.0</td>\n",
       "      <td>1.0</td>\n",
       "    </tr>\n",
       "    <tr>\n",
       "      <th>2</th>\n",
       "      <td>pirqa aymara quechua wall hispanicized spellin...</td>\n",
       "      <td>0.0</td>\n",
       "      <td>0.0</td>\n",
       "      <td>0.0</td>\n",
       "      <td>1.0</td>\n",
       "      <td>0.0</td>\n",
       "      <td>0.0</td>\n",
       "      <td>0.0</td>\n",
       "      <td>0.0</td>\n",
       "      <td>0.0</td>\n",
       "    </tr>\n",
       "    <tr>\n",
       "      <th>3</th>\n",
       "      <td>cancer prevention research biweekly peerreview...</td>\n",
       "      <td>0.0</td>\n",
       "      <td>0.0</td>\n",
       "      <td>0.0</td>\n",
       "      <td>0.0</td>\n",
       "      <td>0.0</td>\n",
       "      <td>0.0</td>\n",
       "      <td>0.0</td>\n",
       "      <td>0.0</td>\n",
       "      <td>1.0</td>\n",
       "    </tr>\n",
       "    <tr>\n",
       "      <th>4</th>\n",
       "      <td>princeton university chapel located university...</td>\n",
       "      <td>0.0</td>\n",
       "      <td>0.0</td>\n",
       "      <td>0.0</td>\n",
       "      <td>1.0</td>\n",
       "      <td>0.0</td>\n",
       "      <td>0.0</td>\n",
       "      <td>0.0</td>\n",
       "      <td>0.0</td>\n",
       "      <td>0.0</td>\n",
       "    </tr>\n",
       "  </tbody>\n",
       "</table>\n",
       "</div>"
      ],
      "text/plain": [
       "                                                text  l1_Agent  l1_Device  \\\n",
       "0  william aleander massey october   march   unit...       1.0        0.0   \n",
       "1  lions sith studio album american rock band bla...       0.0        0.0   \n",
       "2  pirqa aymara quechua wall hispanicized spellin...       0.0        0.0   \n",
       "3  cancer prevention research biweekly peerreview...       0.0        0.0   \n",
       "4  princeton university chapel located university...       0.0        0.0   \n",
       "\n",
       "   l1_Event  l1_Place  l1_Species  l1_SportsSeason  l1_TopicalConcept  \\\n",
       "0       0.0       0.0         0.0              0.0                0.0   \n",
       "1       0.0       0.0         0.0              0.0                0.0   \n",
       "2       0.0       1.0         0.0              0.0                0.0   \n",
       "3       0.0       0.0         0.0              0.0                0.0   \n",
       "4       0.0       1.0         0.0              0.0                0.0   \n",
       "\n",
       "   l1_UnitOfWork  l1_Work  \n",
       "0            0.0      0.0  \n",
       "1            0.0      1.0  \n",
       "2            0.0      0.0  \n",
       "3            0.0      1.0  \n",
       "4            0.0      0.0  "
      ]
     },
     "execution_count": 12,
     "metadata": {},
     "output_type": "execute_result"
    }
   ],
   "source": [
    "new_df = df.join(one_hot_df)\n",
    "new_df.drop('l1', axis=1, inplace=True)\n",
    "new_df.head()"
   ]
  },
  {
   "cell_type": "markdown",
   "metadata": {},
   "source": [
    "#### Separate training data and label to X and y"
   ]
  },
  {
   "cell_type": "code",
   "execution_count": 13,
   "metadata": {
    "id": "-em8xREOMeBV"
   },
   "outputs": [],
   "source": [
    "X = new_df['text'].values\n",
    "y = new_df.drop('text', axis=1).values"
   ]
  },
  {
   "cell_type": "code",
   "execution_count": 14,
   "metadata": {
    "colab": {
     "base_uri": "https://localhost:8080/"
    },
    "id": "YFjTOGq-O9tF",
    "outputId": "56ec65af-8ecf-448c-f2e2-af2d6008956a"
   },
   "outputs": [
    {
     "data": {
      "text/plain": [
       "'william aleander massey october   march   united states senator nevada born trumbull county ohio moved parents edgar county illinois  attended common schools union christian college merom indiana indiana asbury university de pauw university greencastle indiana studied law admitted bar  commencing practice sullivan indiana moved san diego california  nevada  prospected mined later took practice law elko nevada massey member nevada assembly   district attorney   justice nevada supreme court   resigned moved reno nevada resumed practice law appointed republican united states senate fill vacancy caused death george nion governor tasker oddie massey served senate july   january   defeated election remainder nions term democrat key pittman senate chairman committee mines mining time senate resumed practice law reno died train near litchfield nevada march  interment mountain view cemetery reno'"
      ]
     },
     "execution_count": 14,
     "metadata": {},
     "output_type": "execute_result"
    }
   ],
   "source": [
    "# Example training data\n",
    "X[0]"
   ]
  },
  {
   "cell_type": "code",
   "execution_count": 15,
   "metadata": {
    "colab": {
     "base_uri": "https://localhost:8080/"
    },
    "id": "my0WRSfGPUbN",
    "outputId": "d597d83f-0edc-42d6-aaaf-e5fc7921ee2b"
   },
   "outputs": [
    {
     "data": {
      "text/plain": [
       "array([[1., 0., 0., ..., 0., 0., 0.],\n",
       "       [0., 0., 0., ..., 0., 0., 1.],\n",
       "       [0., 0., 0., ..., 0., 0., 0.],\n",
       "       ...,\n",
       "       [1., 0., 0., ..., 0., 0., 0.],\n",
       "       [1., 0., 0., ..., 0., 0., 0.],\n",
       "       [0., 0., 0., ..., 0., 0., 0.]])"
      ]
     },
     "execution_count": 15,
     "metadata": {},
     "output_type": "execute_result"
    }
   ],
   "source": [
    "# Example label\n",
    "y"
   ]
  },
  {
   "cell_type": "markdown",
   "metadata": {},
   "source": [
    "#### Train Test Split"
   ]
  },
  {
   "cell_type": "code",
   "execution_count": 16,
   "metadata": {
    "id": "g1Dl_ZRmPVXV"
   },
   "outputs": [],
   "source": [
    "X_train, X_test, y_train, y_test = train_test_split(X, y, test_size=0.2)"
   ]
  },
  {
   "cell_type": "markdown",
   "metadata": {},
   "source": [
    "#### Initialize Tokenizer and Sequences"
   ]
  },
  {
   "cell_type": "code",
   "execution_count": 17,
   "metadata": {
    "id": "LtJVbfV9PkrS"
   },
   "outputs": [],
   "source": [
    "tokenizer = Tokenizer(num_words=1000, oov_token='x')\n",
    "tokenizer.fit_on_texts(X_train)\n",
    " \n",
    "training_sequence = tokenizer.texts_to_sequences(X_train)\n",
    "test_sequence = tokenizer.texts_to_sequences(X_test)\n",
    " \n",
    "padded_training = pad_sequences(training_sequence, maxlen=100, padding='post') \n",
    "padded_test = pad_sequences(test_sequence, maxlen=100, padding='post')"
   ]
  },
  {
   "cell_type": "markdown",
   "metadata": {},
   "source": [
    "### Modelling"
   ]
  },
  {
   "cell_type": "code",
   "execution_count": 18,
   "metadata": {
    "id": "m3yLYFHtP7Di"
   },
   "outputs": [
    {
     "name": "stdout",
     "output_type": "stream",
     "text": [
      "Model: \"sequential\"\n",
      "_________________________________________________________________\n",
      " Layer (type)                Output Shape              Param #   \n",
      "=================================================================\n",
      " embedding (Embedding)       (None, None, 256)         256000    \n",
      "                                                                 \n",
      " spatial_dropout1d (SpatialD  (None, None, 256)        0         \n",
      " ropout1D)                                                       \n",
      "                                                                 \n",
      " lstm (LSTM)                 (None, 128)               197120    \n",
      "                                                                 \n",
      " dense (Dense)               (None, 64)                8256      \n",
      "                                                                 \n",
      " dropout (Dropout)           (None, 64)                0         \n",
      "                                                                 \n",
      " dense_1 (Dense)             (None, 9)                 585       \n",
      "                                                                 \n",
      "=================================================================\n",
      "Total params: 461,961\n",
      "Trainable params: 461,961\n",
      "Non-trainable params: 0\n",
      "_________________________________________________________________\n"
     ]
    }
   ],
   "source": [
    "model = tf.keras.Sequential([\n",
    "    tf.keras.layers.Embedding(input_dim=1000, output_dim=256),\n",
    "    tf.keras.layers.SpatialDropout1D(0.2),\n",
    "    tf.keras.layers.LSTM(128),\n",
    "    tf.keras.layers.Dense(64, activation='relu'),\n",
    "    tf.keras.layers.Dropout(.2),\n",
    "    tf.keras.layers.Dense(9, activation='softmax')\n",
    "])\n",
    "model.compile(loss='categorical_crossentropy', optimizer='adam', metrics=['accuracy'])\n",
    "model.summary()"
   ]
  },
  {
   "cell_type": "markdown",
   "metadata": {},
   "source": [
    "#### Define Callbacks"
   ]
  },
  {
   "cell_type": "code",
   "execution_count": 19,
   "metadata": {},
   "outputs": [],
   "source": [
    "callbacks = [tf.keras.callbacks.EarlyStopping(monitor='val_loss',patience=2, min_delta=0.0001),\n",
    "             tf.keras.callbacks.ReduceLROnPlateau(monitor='val_accuracy', patience=2, verbose=1, factor=0.5, min_lr=0.00001)]"
   ]
  },
  {
   "cell_type": "markdown",
   "metadata": {},
   "source": [
    "### Training"
   ]
  },
  {
   "cell_type": "code",
   "execution_count": 20,
   "metadata": {
    "colab": {
     "base_uri": "https://localhost:8080/"
    },
    "id": "xE0z1a7hRSRX",
    "outputId": "33f435ed-e4ac-45dc-f84d-91ef909cc6a2"
   },
   "outputs": [
    {
     "name": "stdout",
     "output_type": "stream",
     "text": [
      "Epoch 1/10\n",
      "6024/6024 [==============================] - 92s 15ms/step - loss: 0.6700 - accuracy: 0.7877 - val_loss: 0.1813 - val_accuracy: 0.9419 - lr: 0.0010\n",
      "Epoch 2/10\n",
      "6024/6024 [==============================] - 91s 15ms/step - loss: 0.1603 - accuracy: 0.9496 - val_loss: 0.1295 - val_accuracy: 0.9569 - lr: 0.0010\n",
      "Epoch 3/10\n",
      "6024/6024 [==============================] - 90s 15ms/step - loss: 0.1258 - accuracy: 0.9590 - val_loss: 0.1243 - val_accuracy: 0.9595 - lr: 0.0010\n",
      "Epoch 4/10\n",
      "6024/6024 [==============================] - 91s 15ms/step - loss: 0.1086 - accuracy: 0.9641 - val_loss: 0.1169 - val_accuracy: 0.9613 - lr: 0.0010\n",
      "Epoch 5/10\n",
      "6024/6024 [==============================] - 92s 15ms/step - loss: 0.0970 - accuracy: 0.9676 - val_loss: 0.1158 - val_accuracy: 0.9625 - lr: 0.0010\n",
      "Epoch 6/10\n",
      "6024/6024 [==============================] - 92s 15ms/step - loss: 0.0870 - accuracy: 0.9704 - val_loss: 0.1205 - val_accuracy: 0.9622 - lr: 0.0010\n",
      "Epoch 7/10\n",
      "6024/6024 [==============================] - 90s 15ms/step - loss: 0.0792 - accuracy: 0.9728 - val_loss: 0.1177 - val_accuracy: 0.9629 - lr: 0.0010\n"
     ]
    }
   ],
   "source": [
    "num_epochs = 10\n",
    "history = model.fit(padded_training, y_train, epochs=num_epochs, \n",
    "                    validation_data=(padded_test, y_test), callbacks=callbacks, verbose=1)"
   ]
  },
  {
   "cell_type": "markdown",
   "metadata": {},
   "source": [
    "### Plotting"
   ]
  },
  {
   "cell_type": "code",
   "execution_count": 23,
   "metadata": {
    "id": "ZpiJBhzXRd33"
   },
   "outputs": [
    {
     "data": {
      "image/png": "[encoded data removed]",
      "text/plain": [
       "<Figure size 432x288 with 1 Axes>"
      ]
     },
     "metadata": {
      "needs_background": "light"
     },
     "output_type": "display_data"
    }
   ],
   "source": [
    "# summarize history for accuracy\n",
    "plt.plot(history.history['accuracy'])\n",
    "plt.plot(history.history['val_accuracy'])\n",
    "plt.title('Model Accuracy')\n",
    "plt.ylabel('accuracy')\n",
    "plt.xlabel('epoch')\n",
    "plt.legend(['train', 'val'], loc='upper left')\n",
    "plt.show()"
   ]
  },
  {
   "cell_type": "code",
   "execution_count": 24,
   "metadata": {},
   "outputs": [
    {
     "data": {
      "image/png": "[encoded data removed]",
      "text/plain": [
       "<Figure size 432x288 with 1 Axes>"
      ]
     },
     "metadata": {
      "needs_background": "light"
     },
     "output_type": "display_data"
    }
   ],
   "source": [
    "# summarize history for loss\n",
    "plt.plot(history.history['loss'])\n",
    "plt.plot(history.history['val_loss'])\n",
    "plt.title('Model Loss')\n",
    "plt.ylabel('loss')\n",
    "plt.xlabel('epoch')\n",
    "plt.legend(['train', 'val'], loc='upper left')\n",
    "plt.show()"
   ]
  },
  {
   "cell_type": "code",
   "execution_count": null,
   "metadata": {},
   "outputs": [],
   "source": []
  }
 ],
 "metadata": {
  "colab": {
   "collapsed_sections": [],
   "provenance": []
  },
  "kernelspec": {
   "display_name": "Python 3 (ipykernel)",
   "language": "python",
   "name": "python3"
  },
  "language_info": {
   "codemirror_mode": {
    "name": "ipython",
    "version": 3
   },
   "file_extension": ".py",
   "mimetype": "text/x-python",
   "name": "python",
   "nbconvert_exporter": "python",
   "pygments_lexer": "ipython3",
   "version": "3.9.13"
  }
 },
 "nbformat": 4,
 "nbformat_minor": 4
}
