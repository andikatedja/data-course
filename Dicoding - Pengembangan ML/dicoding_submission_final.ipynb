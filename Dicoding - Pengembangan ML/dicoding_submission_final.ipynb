{
  "cells": [
    {
      "cell_type": "markdown",
      "source": [
        "# Dicoding Final Submission\n",
        "## Image Classification Model Deployment\n",
        "\n",
        "Dataset used: <a href=\"https://www.kaggle.com/datasets/zarkonium/synthetic-image-dataset-cats-dogs-bikes-cars\">Synthetic Image Dataset (Cats, Dogs, Bikes, Cars)</a>  \n",
        "By: Putu Andika Tedja Permana"
      ],
      "metadata": {
        "id": "fd0ZZnuiX6QG"
      },
      "id": "fd0ZZnuiX6QG"
    },
    {
      "cell_type": "code",
      "execution_count": null,
      "id": "62e0ccb9-ac6d-4689-9306-fa67a421be1e",
      "metadata": {
        "id": "62e0ccb9-ac6d-4689-9306-fa67a421be1e"
      },
      "outputs": [],
      "source": [
        "import tensorflow as tf\n",
        "from tensorflow.keras.preprocessing.image import ImageDataGenerator\n",
        "import matplotlib.pyplot as plt\n",
        "from tensorflow.keras.models import Sequential\n",
        "from tensorflow.keras.layers import Conv2D, MaxPooling2D, Dropout, Flatten, Dense, Activation, BatchNormalization, GlobalAveragePooling2D\n",
        "from tensorflow.keras.callbacks import ReduceLROnPlateau"
      ]
    },
    {
      "cell_type": "markdown",
      "source": [
        "## Data Preprocessing"
      ],
      "metadata": {
        "id": "YorI_jzcYuiX"
      },
      "id": "YorI_jzcYuiX"
    },
    {
      "cell_type": "code",
      "execution_count": null,
      "id": "fe422164-05c1-44f7-b96b-a3e277c7253e",
      "metadata": {
        "id": "fe422164-05c1-44f7-b96b-a3e277c7253e"
      },
      "outputs": [],
      "source": [
        "Image_Width = 224\n",
        "Image_Height = 224\n",
        "Image_Size = (Image_Width,Image_Height)\n",
        "Image_Channels = 3\n",
        "batch_size = 50"
      ]
    },
    {
      "cell_type": "code",
      "execution_count": null,
      "id": "6aabf219-7114-481f-9d99-5ea9bb50476f",
      "metadata": {
        "id": "6aabf219-7114-481f-9d99-5ea9bb50476f",
        "outputId": "c4d93c25-f4f8-468d-c321-c0528af32565"
      },
      "outputs": [
        {
          "name": "stdout",
          "output_type": "stream",
          "text": [
            "Found 20000 images belonging to 4 classes.\n",
            "Found 5000 images belonging to 4 classes.\n"
          ]
        }
      ],
      "source": [
        "# Make train and validation data generator, with validation split = 0.2\n",
        "train_datagen = ImageDataGenerator(rotation_range=10,\n",
        "                                   rescale=1./255,\n",
        "                                   shear_range=0.1,\n",
        "                                   zoom_range=0.1,\n",
        "                                   horizontal_flip=True,\n",
        "                                   width_shift_range=0.1,\n",
        "                                   height_shift_range=0.1,\n",
        "                                   validation_split=0.2)\n",
        "\n",
        "train_generator = train_datagen.flow_from_directory(directory='synthetic-image-dataset/',\n",
        "                                                    target_size=Image_Size,\n",
        "                                                    class_mode='categorical',\n",
        "                                                    batch_size=batch_size,\n",
        "                                                    subset='training',\n",
        "                                                    shuffle=True)\n",
        "\n",
        "validation_datagen = ImageDataGenerator(rescale=1./255)\n",
        "\n",
        "validation_generator = train_datagen.flow_from_directory(directory='synthetic-image-dataset/',\n",
        "                                                    target_size=Image_Size,\n",
        "                                                    class_mode='categorical',\n",
        "                                                    batch_size=batch_size,\n",
        "                                                    subset='validation',\n",
        "                                                    shuffle=True)"
      ]
    },
    {
      "cell_type": "markdown",
      "source": [
        "## Modelling"
      ],
      "metadata": {
        "id": "MsBJA_3FY0lA"
      },
      "id": "MsBJA_3FY0lA"
    },
    {
      "cell_type": "code",
      "execution_count": null,
      "id": "04e92911-8c71-4ec3-a551-200b156341c6",
      "metadata": {
        "id": "04e92911-8c71-4ec3-a551-200b156341c6",
        "outputId": "fdf3e1dc-5767-4123-a8e0-b627f05f00f9"
      },
      "outputs": [
        {
          "name": "stdout",
          "output_type": "stream",
          "text": [
            "Model: \"sequential\"\n",
            "_________________________________________________________________\n",
            " Layer (type)                Output Shape              Param #   \n",
            "=================================================================\n",
            " conv2d (Conv2D)             (None, 224, 224, 32)      896       \n",
            "                                                                 \n",
            " max_pooling2d (MaxPooling2D  (None, 112, 112, 32)     0         \n",
            " )                                                               \n",
            "                                                                 \n",
            " conv2d_1 (Conv2D)           (None, 112, 112, 64)      18496     \n",
            "                                                                 \n",
            " max_pooling2d_1 (MaxPooling  (None, 56, 56, 64)       0         \n",
            " 2D)                                                             \n",
            "                                                                 \n",
            " conv2d_2 (Conv2D)           (None, 56, 56, 128)       73856     \n",
            "                                                                 \n",
            " max_pooling2d_2 (MaxPooling  (None, 28, 28, 128)      0         \n",
            " 2D)                                                             \n",
            "                                                                 \n",
            " conv2d_3 (Conv2D)           (None, 28, 28, 256)       295168    \n",
            "                                                                 \n",
            " max_pooling2d_3 (MaxPooling  (None, 14, 14, 256)      0         \n",
            " 2D)                                                             \n",
            "                                                                 \n",
            " flatten (Flatten)           (None, 50176)             0         \n",
            "                                                                 \n",
            " dense (Dense)               (None, 256)               12845312  \n",
            "                                                                 \n",
            " dropout (Dropout)           (None, 256)               0         \n",
            "                                                                 \n",
            " dense_1 (Dense)             (None, 128)               32896     \n",
            "                                                                 \n",
            " dropout_1 (Dropout)         (None, 128)               0         \n",
            "                                                                 \n",
            " dense_2 (Dense)             (None, 64)                8256      \n",
            "                                                                 \n",
            " dropout_2 (Dropout)         (None, 64)                0         \n",
            "                                                                 \n",
            " dense_3 (Dense)             (None, 4)                 260       \n",
            "                                                                 \n",
            "=================================================================\n",
            "Total params: 13,275,140\n",
            "Trainable params: 13,275,140\n",
            "Non-trainable params: 0\n",
            "_________________________________________________________________\n"
          ]
        }
      ],
      "source": [
        "model = Sequential()\n",
        "\n",
        "model.add(Conv2D(32, (3,3), activation='relu', input_shape=(Image_Width, Image_Height, Image_Channels), padding='same'))\n",
        "model.add(MaxPooling2D())\n",
        "\n",
        "model.add(Conv2D(64, (3,3), activation='relu', padding='same'))\n",
        "model.add(MaxPooling2D())\n",
        "\n",
        "model.add(Conv2D(128, (3,3), activation='relu', padding='same'))\n",
        "model.add(MaxPooling2D())\n",
        "\n",
        "model.add(Conv2D(256, (3,3), activation='relu', padding='same'))\n",
        "model.add(MaxPooling2D())\n",
        "\n",
        "model.add(Flatten())\n",
        "model.add(Dense(256, activation='relu'))\n",
        "model.add(Dropout(0.2))\n",
        "model.add(Dense(128, activation='relu'))\n",
        "model.add(Dropout(0.2))\n",
        "model.add(Dense(64, activation='relu'))\n",
        "model.add(Dropout(0.2))\n",
        "model.add(Dense(4, activation='softmax'))\n",
        "\n",
        "model.summary()"
      ]
    },
    {
      "cell_type": "code",
      "execution_count": null,
      "id": "acbed96a-a937-420a-bb9b-fbbf54bde032",
      "metadata": {
        "id": "acbed96a-a937-420a-bb9b-fbbf54bde032"
      },
      "outputs": [],
      "source": [
        "model.compile(loss='categorical_crossentropy', optimizer='adam', metrics=['accuracy'])"
      ]
    },
    {
      "cell_type": "markdown",
      "source": [
        "#### Define Callbacks"
      ],
      "metadata": {
        "id": "o6_jX6vlZWFx"
      },
      "id": "o6_jX6vlZWFx"
    },
    {
      "cell_type": "code",
      "execution_count": null,
      "id": "aba3050b-769e-4e3d-a84c-673095f0f66d",
      "metadata": {
        "id": "aba3050b-769e-4e3d-a84c-673095f0f66d"
      },
      "outputs": [],
      "source": [
        "# Create custom early stopper where minimum accuracy and validation accuracy is 92%\n",
        "class CustomEarlyStopper(tf.keras.callbacks.Callback):\n",
        "    def __init__(self, min_accuracy=0.9):\n",
        "        self.min_accuracy = min_accuracy\n",
        "    \n",
        "    def on_epoch_end(self, epoch, logs={}):\n",
        "        if logs.get('accuracy') > self.min_accuracy and logs.get('val_accuracy') > self.min_accuracy:\n",
        "            print(f'\\nAccuracy reached above {self.min_accuracy}!')\n",
        "            self.model.stop_training = True"
      ]
    },
    {
      "cell_type": "code",
      "execution_count": null,
      "id": "8586936c-1802-4552-99d6-6d72764f6461",
      "metadata": {
        "id": "8586936c-1802-4552-99d6-6d72764f6461"
      },
      "outputs": [],
      "source": [
        "earlystop = CustomEarlyStopper(min_accuracy=0.92)\n",
        "learning_rate_reduction = ReduceLROnPlateau(monitor='val_accuracy',\n",
        "                                            verbose=1,\n",
        "                                            factor=0.5,\n",
        "                                            min_lr=0.00001)\n",
        "                                           \n",
        "callbacks = [earlystop, learning_rate_reduction]"
      ]
    },
    {
      "cell_type": "markdown",
      "source": [
        "## Training"
      ],
      "metadata": {
        "id": "ldB2QnDOY52d"
      },
      "id": "ldB2QnDOY52d"
    },
    {
      "cell_type": "code",
      "execution_count": null,
      "id": "dd63acb5-bc9e-44f2-8c02-65df1dbae204",
      "metadata": {
        "scrolled": true,
        "tags": [],
        "id": "dd63acb5-bc9e-44f2-8c02-65df1dbae204",
        "outputId": "343fb6a6-fd36-4607-fc1d-4c03844827dd"
      },
      "outputs": [
        {
          "name": "stdout",
          "output_type": "stream",
          "text": [
            "Epoch 1/30\n",
            "400/400 [==============================] - 421s 1s/step - loss: 0.7721 - accuracy: 0.6102 - val_loss: 0.4445 - val_accuracy: 0.8028 - lr: 0.0010\n",
            "Epoch 2/30\n",
            "400/400 [==============================] - 354s 884ms/step - loss: 0.4504 - accuracy: 0.8094 - val_loss: 0.3742 - val_accuracy: 0.8400 - lr: 0.0010\n",
            "Epoch 3/30\n",
            "400/400 [==============================] - 341s 851ms/step - loss: 0.3599 - accuracy: 0.8532 - val_loss: 0.3299 - val_accuracy: 0.8596 - lr: 0.0010\n",
            "Epoch 4/30\n",
            "400/400 [==============================] - 336s 840ms/step - loss: 0.3305 - accuracy: 0.8652 - val_loss: 0.3017 - val_accuracy: 0.8790 - lr: 0.0010\n",
            "Epoch 5/30\n",
            "400/400 [==============================] - 343s 857ms/step - loss: 0.2932 - accuracy: 0.8823 - val_loss: 0.2672 - val_accuracy: 0.8918 - lr: 0.0010\n",
            "Epoch 6/30\n",
            "400/400 [==============================] - 350s 874ms/step - loss: 0.2704 - accuracy: 0.8932 - val_loss: 0.2519 - val_accuracy: 0.8956 - lr: 0.0010\n",
            "Epoch 7/30\n",
            "400/400 [==============================] - 346s 866ms/step - loss: 0.2355 - accuracy: 0.9072 - val_loss: 0.3158 - val_accuracy: 0.8750 - lr: 0.0010\n",
            "Epoch 8/30\n",
            "400/400 [==============================] - 342s 855ms/step - loss: 0.2316 - accuracy: 0.9088 - val_loss: 0.2094 - val_accuracy: 0.9132 - lr: 0.0010\n",
            "Epoch 9/30\n",
            "400/400 [==============================] - 336s 840ms/step - loss: 0.2205 - accuracy: 0.9150 - val_loss: 0.2117 - val_accuracy: 0.9176 - lr: 0.0010\n",
            "Epoch 10/30\n",
            "400/400 [==============================] - 341s 852ms/step - loss: 0.1970 - accuracy: 0.9227 - val_loss: 0.2010 - val_accuracy: 0.9192 - lr: 0.0010\n",
            "Epoch 11/30\n",
            "400/400 [==============================] - 351s 878ms/step - loss: 0.1862 - accuracy: 0.9263 - val_loss: 0.2581 - val_accuracy: 0.9112 - lr: 0.0010\n",
            "Epoch 12/30\n",
            "400/400 [==============================] - ETA: 0s - loss: 0.1809 - accuracy: 0.9294\n",
            "Accuracy reached above 0.92!\n",
            "400/400 [==============================] - 339s 848ms/step - loss: 0.1809 - accuracy: 0.9294 - val_loss: 0.1885 - val_accuracy: 0.9284 - lr: 0.0010\n"
          ]
        }
      ],
      "source": [
        "epochs = 30\n",
        "history = model.fit(train_generator,\n",
        "                    epochs=epochs,\n",
        "                    validation_data=validation_generator,\n",
        "                    validation_steps=5000//batch_size,\n",
        "                    steps_per_epoch=20000//batch_size,\n",
        "                    callbacks=callbacks)"
      ]
    },
    {
      "cell_type": "markdown",
      "source": [
        "#### Save model with saved model format"
      ],
      "metadata": {
        "id": "exlj2dDKb1Jh"
      },
      "id": "exlj2dDKb1Jh"
    },
    {
      "cell_type": "code",
      "execution_count": null,
      "id": "d231d4fc-44f5-4742-b016-fc5dddc1cac9",
      "metadata": {
        "id": "d231d4fc-44f5-4742-b016-fc5dddc1cac9",
        "outputId": "bdc09612-2e08-4782-ccac-f5a64f26f7fb"
      },
      "outputs": [
        {
          "name": "stderr",
          "output_type": "stream",
          "text": [
            "WARNING:absl:Found untraced functions such as _jit_compiled_convolution_op, _jit_compiled_convolution_op, _jit_compiled_convolution_op, _jit_compiled_convolution_op while saving (showing 4 of 4). These functions will not be directly callable after loading.\n"
          ]
        },
        {
          "name": "stdout",
          "output_type": "stream",
          "text": [
            "INFO:tensorflow:Assets written to: saved_model/model/assets\n"
          ]
        },
        {
          "name": "stderr",
          "output_type": "stream",
          "text": [
            "INFO:tensorflow:Assets written to: saved_model/model/assets\n"
          ]
        }
      ],
      "source": [
        "model.save('saved_model/model')"
      ]
    },
    {
      "cell_type": "markdown",
      "source": [
        "## Plotting"
      ],
      "metadata": {
        "id": "0Qx46e4VY9N7"
      },
      "id": "0Qx46e4VY9N7"
    },
    {
      "cell_type": "code",
      "execution_count": null,
      "id": "42e6abb4-2b9e-47cf-b590-8ce8541f8b51",
      "metadata": {
        "id": "42e6abb4-2b9e-47cf-b590-8ce8541f8b51",
        "outputId": "3786471b-eda9-4008-bee7-6959a3e50bee"
      },
      "outputs": [
        {
          "data": {
            "image/png": "[encoded data removed]",
            "text/plain": [
              "<Figure size 432x288 with 1 Axes>"
            ]
          },
          "metadata": {
            "needs_background": "light"
          },
          "output_type": "display_data"
        }
      ],
      "source": [
        "# summarize history for accuracy\n",
        "plt.plot(history.history['accuracy'])\n",
        "plt.plot(history.history['val_accuracy'])\n",
        "plt.title('Model Accuracy')\n",
        "plt.ylabel('accuracy')\n",
        "plt.xlabel('epoch')\n",
        "plt.legend(['train', 'val'], loc='upper left')\n",
        "plt.show()"
      ]
    },
    {
      "cell_type": "code",
      "execution_count": null,
      "id": "9beb4a42-d1b6-481b-916f-3ec98cf69350",
      "metadata": {
        "id": "9beb4a42-d1b6-481b-916f-3ec98cf69350",
        "outputId": "b3019f74-abca-4a1b-ed73-2396ce6d602d"
      },
      "outputs": [
        {
          "data": {
            "image/png": "[encoded data removed]",
            "text/plain": [
              "<Figure size 432x288 with 1 Axes>"
            ]
          },
          "metadata": {
            "needs_background": "light"
          },
          "output_type": "display_data"
        }
      ],
      "source": [
        "# summarize history for loss\n",
        "plt.plot(history.history['loss'])\n",
        "plt.plot(history.history['val_loss'])\n",
        "plt.title('Model Loss')\n",
        "plt.ylabel('loss')\n",
        "plt.xlabel('epoch')\n",
        "plt.legend(['train', 'val'], loc='upper left')\n",
        "plt.show()"
      ]
    },
    {
      "cell_type": "markdown",
      "source": [
        "## Convert to TF-Lite"
      ],
      "metadata": {
        "id": "TQZczYE8Y_WM"
      },
      "id": "TQZczYE8Y_WM"
    },
    {
      "cell_type": "code",
      "execution_count": null,
      "id": "efa3690c-6adf-4bb4-953b-5a8de77e6e30",
      "metadata": {
        "id": "efa3690c-6adf-4bb4-953b-5a8de77e6e30",
        "outputId": "277290e9-d65f-4689-a42a-19b3901b23cc"
      },
      "outputs": [
        {
          "name": "stderr",
          "output_type": "stream",
          "text": [
            "2022-09-28 09:57:36.841921: W tensorflow/compiler/mlir/lite/python/tf_tfl_flatbuffer_helpers.cc:362] Ignored output_format.\n",
            "2022-09-28 09:57:36.841980: W tensorflow/compiler/mlir/lite/python/tf_tfl_flatbuffer_helpers.cc:365] Ignored drop_control_dependency.\n"
          ]
        }
      ],
      "source": [
        "converter = tf.lite.TFLiteConverter.from_saved_model('saved_model/model')\n",
        "tflite_model = converter.convert()\n",
        " \n",
        "with tf.io.gfile.GFile('synthetic_image_model.tflite', 'wb') as f:\n",
        "    f.write(tflite_model)"
      ]
    },
    {
      "cell_type": "code",
      "execution_count": null,
      "id": "e3b60740-ffd2-41ee-99c9-24670afd2466",
      "metadata": {
        "id": "e3b60740-ffd2-41ee-99c9-24670afd2466"
      },
      "outputs": [],
      "source": []
    }
  ],
  "metadata": {
    "kernelspec": {
      "display_name": "Python 3 (ipykernel)",
      "language": "python",
      "name": "python3"
    },
    "language_info": {
      "codemirror_mode": {
        "name": "ipython",
        "version": 3
      },
      "file_extension": ".py",
      "mimetype": "text/x-python",
      "name": "python",
      "nbconvert_exporter": "python",
      "pygments_lexer": "ipython3",
      "version": "3.9.13"
    },
    "colab": {
      "provenance": [],
      "collapsed_sections": []
    }
  },
  "nbformat": 4,
  "nbformat_minor": 5
}