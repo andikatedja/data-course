{
  "nbformat": 4,
  "nbformat_minor": 0,
  "metadata": {
    "colab": {
      "provenance": [],
      "collapsed_sections": []
    },
    "kernelspec": {
      "name": "python3",
      "display_name": "Python 3"
    },
    "language_info": {
      "name": "python"
    },
    "accelerator": "GPU"
  },
  "cells": [
    {
      "cell_type": "markdown",
      "source": [
        "# Dicoding Time Series Submission\n",
        "\n",
        "Dataset used: <a href=\"https://www.kaggle.com/datasets/shaneysze/new-york-city-daily-temperature-18692021\">New York City Daily Temperature From 1869 to 2021</a>  \n",
        "By: Putu Andika Tedja Permana"
      ],
      "metadata": {
        "id": "OWw1UlLjJjSK"
      }
    },
    {
      "cell_type": "code",
      "execution_count": 1,
      "metadata": {
        "id": "fGURUOsNzdLu"
      },
      "outputs": [],
      "source": [
        "import numpy as np\n",
        "import pandas as pd\n",
        "import matplotlib.pyplot as plt\n",
        "import tensorflow as tf\n",
        "\n",
        "from tensorflow.keras.layers import Dense, LSTM\n",
        "from sklearn.preprocessing import MinMaxScaler\n",
        "from sklearn.model_selection import train_test_split\n",
        "from tensorflow.keras.preprocessing.sequence import TimeseriesGenerator"
      ]
    },
    {
      "cell_type": "markdown",
      "source": [
        "## Read Data CSV"
      ],
      "metadata": {
        "id": "5YKXtV1eJ8oc"
      }
    },
    {
      "cell_type": "code",
      "source": [
        "df = pd.read_csv('/content/nyc_temp_1869_2021.csv')\n",
        "df.head()"
      ],
      "metadata": {
        "colab": {
          "base_uri": "https://localhost:8080/",
          "height": 206
        },
        "id": "1J669Nmnz-IP",
        "outputId": "75263c02-0dcb-4fdf-b924-75ea13d5b4e6"
      },
      "execution_count": 2,
      "outputs": [
        {
          "output_type": "execute_result",
          "data": {
            "text/plain": [
              "   Unnamed: 0  MM/DD/YYYY  YEAR  MONTH  DAY  TMAX  TMIN\n",
              "0           0  1869-01-01  1869      1    1 -17.0 -72.0\n",
              "1           1  1869-01-02  1869      1    2 -28.0 -61.0\n",
              "2           2  1869-01-03  1869      1    3  17.0 -28.0\n",
              "3           3  1869-01-04  1869      1    4  28.0  11.0\n",
              "4           4  1869-01-05  1869      1    5  61.0  28.0"
            ],
            "text/html": [
              "\n",
              "  <div id=\"df-a2a235b8-4ff0-4a4d-bc92-6ae3f111c729\">\n",
              "    <div class=\"colab-df-container\">\n",
              "      <div>\n",
              "<style scoped>\n",
              "    .dataframe tbody tr th:only-of-type {\n",
              "        vertical-align: middle;\n",
              "    }\n",
              "\n",
              "    .dataframe tbody tr th {\n",
              "        vertical-align: top;\n",
              "    }\n",
              "\n",
              "    .dataframe thead th {\n",
              "        text-align: right;\n",
              "    }\n",
              "</style>\n",
              "<table border=\"1\" class=\"dataframe\">\n",
              "  <thead>\n",
              "    <tr style=\"text-align: right;\">\n",
              "      <th></th>\n",
              "      <th>Unnamed: 0</th>\n",
              "      <th>MM/DD/YYYY</th>\n",
              "      <th>YEAR</th>\n",
              "      <th>MONTH</th>\n",
              "      <th>DAY</th>\n",
              "      <th>TMAX</th>\n",
              "      <th>TMIN</th>\n",
              "    </tr>\n",
              "  </thead>\n",
              "  <tbody>\n",
              "    <tr>\n",
              "      <th>0</th>\n",
              "      <td>0</td>\n",
              "      <td>1869-01-01</td>\n",
              "      <td>1869</td>\n",
              "      <td>1</td>\n",
              "      <td>1</td>\n",
              "      <td>-17.0</td>\n",
              "      <td>-72.0</td>\n",
              "    </tr>\n",
              "    <tr>\n",
              "      <th>1</th>\n",
              "      <td>1</td>\n",
              "      <td>1869-01-02</td>\n",
              "      <td>1869</td>\n",
              "      <td>1</td>\n",
              "      <td>2</td>\n",
              "      <td>-28.0</td>\n",
              "      <td>-61.0</td>\n",
              "    </tr>\n",
              "    <tr>\n",
              "      <th>2</th>\n",
              "      <td>2</td>\n",
              "      <td>1869-01-03</td>\n",
              "      <td>1869</td>\n",
              "      <td>1</td>\n",
              "      <td>3</td>\n",
              "      <td>17.0</td>\n",
              "      <td>-28.0</td>\n",
              "    </tr>\n",
              "    <tr>\n",
              "      <th>3</th>\n",
              "      <td>3</td>\n",
              "      <td>1869-01-04</td>\n",
              "      <td>1869</td>\n",
              "      <td>1</td>\n",
              "      <td>4</td>\n",
              "      <td>28.0</td>\n",
              "      <td>11.0</td>\n",
              "    </tr>\n",
              "    <tr>\n",
              "      <th>4</th>\n",
              "      <td>4</td>\n",
              "      <td>1869-01-05</td>\n",
              "      <td>1869</td>\n",
              "      <td>1</td>\n",
              "      <td>5</td>\n",
              "      <td>61.0</td>\n",
              "      <td>28.0</td>\n",
              "    </tr>\n",
              "  </tbody>\n",
              "</table>\n",
              "</div>\n",
              "      <button class=\"colab-df-convert\" onclick=\"convertToInteractive('df-a2a235b8-4ff0-4a4d-bc92-6ae3f111c729')\"\n",
              "              title=\"Convert this dataframe to an interactive table.\"\n",
              "              style=\"display:none;\">\n",
              "        \n",
              "  <svg xmlns=\"http://www.w3.org/2000/svg\" height=\"24px\"viewBox=\"0 0 24 24\"\n",
              "       width=\"24px\">\n",
              "    <path d=\"M0 0h24v24H0V0z\" fill=\"none\"/>\n",
              "    <path d=\"M18.56 5.44l.94 2.06.94-2.06 2.06-.94-2.06-.94-.94-2.06-.94 2.06-2.06.94zm-11 1L8.5 8.5l.94-2.06 2.06-.94-2.06-.94L8.5 2.5l-.94 2.06-2.06.94zm10 10l.94 2.06.94-2.06 2.06-.94-2.06-.94-.94-2.06-.94 2.06-2.06.94z\"/><path d=\"M17.41 7.96l-1.37-1.37c-.4-.4-.92-.59-1.43-.59-.52 0-1.04.2-1.43.59L10.3 9.45l-7.72 7.72c-.78.78-.78 2.05 0 2.83L4 21.41c.39.39.9.59 1.41.59.51 0 1.02-.2 1.41-.59l7.78-7.78 2.81-2.81c.8-.78.8-2.07 0-2.86zM5.41 20L4 18.59l7.72-7.72 1.47 1.35L5.41 20z\"/>\n",
              "  </svg>\n",
              "      </button>\n",
              "      \n",
              "  <style>\n",
              "    .colab-df-container {\n",
              "      display:flex;\n",
              "      flex-wrap:wrap;\n",
              "      gap: 12px;\n",
              "    }\n",
              "\n",
              "    .colab-df-convert {\n",
              "      background-color: #E8F0FE;\n",
              "      border: none;\n",
              "      border-radius: 50%;\n",
              "      cursor: pointer;\n",
              "      display: none;\n",
              "      fill: #1967D2;\n",
              "      height: 32px;\n",
              "      padding: 0 0 0 0;\n",
              "      width: 32px;\n",
              "    }\n",
              "\n",
              "    .colab-df-convert:hover {\n",
              "      background-color: #E2EBFA;\n",
              "      box-shadow: 0px 1px 2px rgba(60, 64, 67, 0.3), 0px 1px 3px 1px rgba(60, 64, 67, 0.15);\n",
              "      fill: #174EA6;\n",
              "    }\n",
              "\n",
              "    [theme=dark] .colab-df-convert {\n",
              "      background-color: #3B4455;\n",
              "      fill: #D2E3FC;\n",
              "    }\n",
              "\n",
              "    [theme=dark] .colab-df-convert:hover {\n",
              "      background-color: #434B5C;\n",
              "      box-shadow: 0px 1px 3px 1px rgba(0, 0, 0, 0.15);\n",
              "      filter: drop-shadow(0px 1px 2px rgba(0, 0, 0, 0.3));\n",
              "      fill: #FFFFFF;\n",
              "    }\n",
              "  </style>\n",
              "\n",
              "      <script>\n",
              "        const buttonEl =\n",
              "          document.querySelector('#df-a2a235b8-4ff0-4a4d-bc92-6ae3f111c729 button.colab-df-convert');\n",
              "        buttonEl.style.display =\n",
              "          google.colab.kernel.accessAllowed ? 'block' : 'none';\n",
              "\n",
              "        async function convertToInteractive(key) {\n",
              "          const element = document.querySelector('#df-a2a235b8-4ff0-4a4d-bc92-6ae3f111c729');\n",
              "          const dataTable =\n",
              "            await google.colab.kernel.invokeFunction('convertToInteractive',\n",
              "                                                     [key], {});\n",
              "          if (!dataTable) return;\n",
              "\n",
              "          const docLinkHtml = 'Like what you see? Visit the ' +\n",
              "            '<a target=\"_blank\" href=https://colab.research.google.com/notebooks/data_table.ipynb>data table notebook</a>'\n",
              "            + ' to learn more about interactive tables.';\n",
              "          element.innerHTML = '';\n",
              "          dataTable['output_type'] = 'display_data';\n",
              "          await google.colab.output.renderOutput(dataTable, element);\n",
              "          const docLink = document.createElement('div');\n",
              "          docLink.innerHTML = docLinkHtml;\n",
              "          element.appendChild(docLink);\n",
              "        }\n",
              "      </script>\n",
              "    </div>\n",
              "  </div>\n",
              "  "
            ]
          },
          "metadata": {},
          "execution_count": 2
        }
      ]
    },
    {
      "cell_type": "markdown",
      "source": [
        "## Data Exploratory"
      ],
      "metadata": {
        "id": "EaXvMV_sKBJj"
      }
    },
    {
      "cell_type": "code",
      "source": [
        "df.info()"
      ],
      "metadata": {
        "colab": {
          "base_uri": "https://localhost:8080/"
        },
        "id": "OAaW5c2xKDwx",
        "outputId": "962f6df9-7064-41bd-f43f-673dab3485b4"
      },
      "execution_count": 3,
      "outputs": [
        {
          "output_type": "stream",
          "name": "stdout",
          "text": [
            "<class 'pandas.core.frame.DataFrame'>\n",
            "RangeIndex: 55634 entries, 0 to 55633\n",
            "Data columns (total 7 columns):\n",
            " #   Column      Non-Null Count  Dtype  \n",
            "---  ------      --------------  -----  \n",
            " 0   Unnamed: 0  55634 non-null  int64  \n",
            " 1   MM/DD/YYYY  55634 non-null  object \n",
            " 2   YEAR        55634 non-null  int64  \n",
            " 3   MONTH       55634 non-null  int64  \n",
            " 4   DAY         55634 non-null  int64  \n",
            " 5   TMAX        55634 non-null  float64\n",
            " 6   TMIN        55634 non-null  float64\n",
            "dtypes: float64(2), int64(4), object(1)\n",
            "memory usage: 3.0+ MB\n"
          ]
        }
      ]
    },
    {
      "cell_type": "code",
      "source": [
        "# Check missing values\n",
        "df.isna().sum()"
      ],
      "metadata": {
        "colab": {
          "base_uri": "https://localhost:8080/"
        },
        "id": "1nBk4RP90Bom",
        "outputId": "27bfe78b-2771-44d1-8f44-c25761d7b2a7"
      },
      "execution_count": 4,
      "outputs": [
        {
          "output_type": "execute_result",
          "data": {
            "text/plain": [
              "Unnamed: 0    0\n",
              "MM/DD/YYYY    0\n",
              "YEAR          0\n",
              "MONTH         0\n",
              "DAY           0\n",
              "TMAX          0\n",
              "TMIN          0\n",
              "dtype: int64"
            ]
          },
          "metadata": {},
          "execution_count": 4
        }
      ]
    },
    {
      "cell_type": "markdown",
      "source": [
        "## Data Preprocessing"
      ],
      "metadata": {
        "id": "t6VwNKo6KSty"
      }
    },
    {
      "cell_type": "markdown",
      "source": [
        "Divide Temperature by 10  \n",
        "Based on dataset description on kaggle, the temperature is in tenths of degrees C scale, so we need to divide it with 10."
      ],
      "metadata": {
        "id": "wJl3avm0Kxug"
      }
    },
    {
      "cell_type": "code",
      "source": [
        "df['TMAX'] /= 10\n",
        "df['TMIN'] /= 10"
      ],
      "metadata": {
        "id": "B2Hbu5j5085b"
      },
      "execution_count": 5,
      "outputs": []
    },
    {
      "cell_type": "markdown",
      "source": [
        "Make new columns name MEAN and set value with result of mean TMAX and TMIN"
      ],
      "metadata": {
        "id": "XZkyqPy1LbLo"
      }
    },
    {
      "cell_type": "code",
      "source": [
        "df['MEAN'] = df[['TMAX', 'TMIN']].astype(float).mean(axis=1)\n",
        "\n",
        "# Convert to datetime\n",
        "df['MM/DD/YYYY'] = pd.to_datetime(df['MM/DD/YYYY'])"
      ],
      "metadata": {
        "id": "FZXo7QUHKiEx"
      },
      "execution_count": 6,
      "outputs": []
    },
    {
      "cell_type": "code",
      "source": [
        "# Drop unused columns\n",
        "new_df = df.drop(columns=['Unnamed: 0', 'YEAR', 'MONTH', 'DAY', 'TMAX', 'TMIN'])\n",
        "\n",
        "# Rename column to date\n",
        "new_df = new_df.rename(columns={'MM/DD/YYYY': 'DATE'})"
      ],
      "metadata": {
        "id": "giptLOzi6eL2"
      },
      "execution_count": 7,
      "outputs": []
    },
    {
      "cell_type": "code",
      "source": [
        "new_df.head()"
      ],
      "metadata": {
        "colab": {
          "base_uri": "https://localhost:8080/",
          "height": 206
        },
        "id": "Dl_8zs1o6dpM",
        "outputId": "1d60c1ac-c611-4003-f905-03ffc8eefb00"
      },
      "execution_count": 8,
      "outputs": [
        {
          "output_type": "execute_result",
          "data": {
            "text/plain": [
              "        DATE  MEAN\n",
              "0 1869-01-01 -4.45\n",
              "1 1869-01-02 -4.45\n",
              "2 1869-01-03 -0.55\n",
              "3 1869-01-04  1.95\n",
              "4 1869-01-05  4.45"
            ],
            "text/html": [
              "\n",
              "  <div id=\"df-d008a5d4-0af8-48a6-b707-7ef37c8462ef\">\n",
              "    <div class=\"colab-df-container\">\n",
              "      <div>\n",
              "<style scoped>\n",
              "    .dataframe tbody tr th:only-of-type {\n",
              "        vertical-align: middle;\n",
              "    }\n",
              "\n",
              "    .dataframe tbody tr th {\n",
              "        vertical-align: top;\n",
              "    }\n",
              "\n",
              "    .dataframe thead th {\n",
              "        text-align: right;\n",
              "    }\n",
              "</style>\n",
              "<table border=\"1\" class=\"dataframe\">\n",
              "  <thead>\n",
              "    <tr style=\"text-align: right;\">\n",
              "      <th></th>\n",
              "      <th>DATE</th>\n",
              "      <th>MEAN</th>\n",
              "    </tr>\n",
              "  </thead>\n",
              "  <tbody>\n",
              "    <tr>\n",
              "      <th>0</th>\n",
              "      <td>1869-01-01</td>\n",
              "      <td>-4.45</td>\n",
              "    </tr>\n",
              "    <tr>\n",
              "      <th>1</th>\n",
              "      <td>1869-01-02</td>\n",
              "      <td>-4.45</td>\n",
              "    </tr>\n",
              "    <tr>\n",
              "      <th>2</th>\n",
              "      <td>1869-01-03</td>\n",
              "      <td>-0.55</td>\n",
              "    </tr>\n",
              "    <tr>\n",
              "      <th>3</th>\n",
              "      <td>1869-01-04</td>\n",
              "      <td>1.95</td>\n",
              "    </tr>\n",
              "    <tr>\n",
              "      <th>4</th>\n",
              "      <td>1869-01-05</td>\n",
              "      <td>4.45</td>\n",
              "    </tr>\n",
              "  </tbody>\n",
              "</table>\n",
              "</div>\n",
              "      <button class=\"colab-df-convert\" onclick=\"convertToInteractive('df-d008a5d4-0af8-48a6-b707-7ef37c8462ef')\"\n",
              "              title=\"Convert this dataframe to an interactive table.\"\n",
              "              style=\"display:none;\">\n",
              "        \n",
              "  <svg xmlns=\"http://www.w3.org/2000/svg\" height=\"24px\"viewBox=\"0 0 24 24\"\n",
              "       width=\"24px\">\n",
              "    <path d=\"M0 0h24v24H0V0z\" fill=\"none\"/>\n",
              "    <path d=\"M18.56 5.44l.94 2.06.94-2.06 2.06-.94-2.06-.94-.94-2.06-.94 2.06-2.06.94zm-11 1L8.5 8.5l.94-2.06 2.06-.94-2.06-.94L8.5 2.5l-.94 2.06-2.06.94zm10 10l.94 2.06.94-2.06 2.06-.94-2.06-.94-.94-2.06-.94 2.06-2.06.94z\"/><path d=\"M17.41 7.96l-1.37-1.37c-.4-.4-.92-.59-1.43-.59-.52 0-1.04.2-1.43.59L10.3 9.45l-7.72 7.72c-.78.78-.78 2.05 0 2.83L4 21.41c.39.39.9.59 1.41.59.51 0 1.02-.2 1.41-.59l7.78-7.78 2.81-2.81c.8-.78.8-2.07 0-2.86zM5.41 20L4 18.59l7.72-7.72 1.47 1.35L5.41 20z\"/>\n",
              "  </svg>\n",
              "      </button>\n",
              "      \n",
              "  <style>\n",
              "    .colab-df-container {\n",
              "      display:flex;\n",
              "      flex-wrap:wrap;\n",
              "      gap: 12px;\n",
              "    }\n",
              "\n",
              "    .colab-df-convert {\n",
              "      background-color: #E8F0FE;\n",
              "      border: none;\n",
              "      border-radius: 50%;\n",
              "      cursor: pointer;\n",
              "      display: none;\n",
              "      fill: #1967D2;\n",
              "      height: 32px;\n",
              "      padding: 0 0 0 0;\n",
              "      width: 32px;\n",
              "    }\n",
              "\n",
              "    .colab-df-convert:hover {\n",
              "      background-color: #E2EBFA;\n",
              "      box-shadow: 0px 1px 2px rgba(60, 64, 67, 0.3), 0px 1px 3px 1px rgba(60, 64, 67, 0.15);\n",
              "      fill: #174EA6;\n",
              "    }\n",
              "\n",
              "    [theme=dark] .colab-df-convert {\n",
              "      background-color: #3B4455;\n",
              "      fill: #D2E3FC;\n",
              "    }\n",
              "\n",
              "    [theme=dark] .colab-df-convert:hover {\n",
              "      background-color: #434B5C;\n",
              "      box-shadow: 0px 1px 3px 1px rgba(0, 0, 0, 0.15);\n",
              "      filter: drop-shadow(0px 1px 2px rgba(0, 0, 0, 0.3));\n",
              "      fill: #FFFFFF;\n",
              "    }\n",
              "  </style>\n",
              "\n",
              "      <script>\n",
              "        const buttonEl =\n",
              "          document.querySelector('#df-d008a5d4-0af8-48a6-b707-7ef37c8462ef button.colab-df-convert');\n",
              "        buttonEl.style.display =\n",
              "          google.colab.kernel.accessAllowed ? 'block' : 'none';\n",
              "\n",
              "        async function convertToInteractive(key) {\n",
              "          const element = document.querySelector('#df-d008a5d4-0af8-48a6-b707-7ef37c8462ef');\n",
              "          const dataTable =\n",
              "            await google.colab.kernel.invokeFunction('convertToInteractive',\n",
              "                                                     [key], {});\n",
              "          if (!dataTable) return;\n",
              "\n",
              "          const docLinkHtml = 'Like what you see? Visit the ' +\n",
              "            '<a target=\"_blank\" href=https://colab.research.google.com/notebooks/data_table.ipynb>data table notebook</a>'\n",
              "            + ' to learn more about interactive tables.';\n",
              "          element.innerHTML = '';\n",
              "          dataTable['output_type'] = 'display_data';\n",
              "          await google.colab.output.renderOutput(dataTable, element);\n",
              "          const docLink = document.createElement('div');\n",
              "          docLink.innerHTML = docLinkHtml;\n",
              "          element.appendChild(docLink);\n",
              "        }\n",
              "      </script>\n",
              "    </div>\n",
              "  </div>\n",
              "  "
            ]
          },
          "metadata": {},
          "execution_count": 8
        }
      ]
    },
    {
      "cell_type": "markdown",
      "source": [
        "#### Plot Temperature Average Data"
      ],
      "metadata": {
        "id": "FCZPENQ0MJfU"
      }
    },
    {
      "cell_type": "code",
      "source": [
        "dates = new_df['DATE'].values\n",
        "temp  = new_df['MEAN'].values\n",
        "\n",
        "plt.figure(figsize=(15,5))\n",
        "plt.xticks([], [])\n",
        "plt.plot(dates, temp)\n",
        "plt.title('Temperature average', fontsize=20);"
      ],
      "metadata": {
        "colab": {
          "base_uri": "https://localhost:8080/",
          "height": 327
        },
        "id": "8EzP4uBi1ZBR",
        "outputId": "9c7d61ec-7b08-49f3-a0a4-12c5b3393b4a"
      },
      "execution_count": 9,
      "outputs": [
        {
          "output_type": "display_data",
          "data": {
            "text/plain": [
              "<Figure size 1080x360 with 1 Axes>"
            ],
            "image/png": "[encoded data removed]"
          },
          "metadata": {
            "needs_background": "light"
          }
        }
      ]
    },
    {
      "cell_type": "markdown",
      "source": [
        "#### Scale Data\n",
        "Scale data with MinMaxScaler"
      ],
      "metadata": {
        "id": "ZvFn7et5MXXE"
      }
    },
    {
      "cell_type": "code",
      "source": [
        "scaler = MinMaxScaler()\n",
        "temp_scaled = scaler.fit_transform(temp.reshape(-1, 1))"
      ],
      "metadata": {
        "id": "udT0oS3M7eNB"
      },
      "execution_count": 10,
      "outputs": []
    },
    {
      "cell_type": "markdown",
      "source": [
        "#### Set Threshold MAE with 10%"
      ],
      "metadata": {
        "id": "BPuyMJm_Mf0V"
      }
    },
    {
      "cell_type": "code",
      "source": [
        "threshold_mae = (temp_scaled.max() - temp_scaled.min()) * 10/100"
      ],
      "metadata": {
        "id": "vjrnl14lB_0_"
      },
      "execution_count": 11,
      "outputs": []
    },
    {
      "cell_type": "markdown",
      "source": [
        "### Train Test Split"
      ],
      "metadata": {
        "id": "uZW7T6pGMUGw"
      }
    },
    {
      "cell_type": "code",
      "source": [
        "X_train, X_test, y_train, y_test = train_test_split(dates, temp_scaled, test_size=0.2, shuffle=False)"
      ],
      "metadata": {
        "id": "ejIp8HVH77It"
      },
      "execution_count": 12,
      "outputs": []
    },
    {
      "cell_type": "markdown",
      "source": [
        "### Prepare Training and Testing Data"
      ],
      "metadata": {
        "id": "rMxbPNi6MywW"
      }
    },
    {
      "cell_type": "code",
      "source": [
        "length = 20\n",
        "train_gen = TimeseriesGenerator(y_train, y_train, length=length, batch_size=20)\n",
        "test_gen = TimeseriesGenerator(y_test, y_test, length=length, batch_size=1)"
      ],
      "metadata": {
        "id": "zf6z9Lqq8M_H"
      },
      "execution_count": 13,
      "outputs": []
    },
    {
      "cell_type": "markdown",
      "source": [
        "## Modelling"
      ],
      "metadata": {
        "id": "2HqVdyqUM4Nv"
      }
    },
    {
      "cell_type": "code",
      "source": [
        "model = tf.keras.models.Sequential([\n",
        "  tf.keras.layers.LSTM(16, return_sequences=True, input_shape=(length, 1)),\n",
        "  tf.keras.layers.Dense(8, activation='relu'),\n",
        "  tf.keras.layers.Dense(1),\n",
        "])\n",
        "model.summary()"
      ],
      "metadata": {
        "colab": {
          "base_uri": "https://localhost:8080/"
        },
        "id": "yFygjInC3J92",
        "outputId": "c6bde0ca-b9a9-4edd-e628-be9aa0b094d9"
      },
      "execution_count": 14,
      "outputs": [
        {
          "output_type": "stream",
          "name": "stdout",
          "text": [
            "Model: \"sequential\"\n",
            "_________________________________________________________________\n",
            " Layer (type)                Output Shape              Param #   \n",
            "=================================================================\n",
            " lstm (LSTM)                 (None, 20, 16)            1152      \n",
            "                                                                 \n",
            " dense (Dense)               (None, 20, 8)             136       \n",
            "                                                                 \n",
            " dense_1 (Dense)             (None, 20, 1)             9         \n",
            "                                                                 \n",
            "=================================================================\n",
            "Total params: 1,297\n",
            "Trainable params: 1,297\n",
            "Non-trainable params: 0\n",
            "_________________________________________________________________\n"
          ]
        }
      ]
    },
    {
      "cell_type": "markdown",
      "source": [
        "#### Make Custom Callback"
      ],
      "metadata": {
        "id": "PBP-WqW5NAGt"
      }
    },
    {
      "cell_type": "code",
      "source": [
        "class CustomEarlyStopper(tf.keras.callbacks.Callback):\n",
        "    def __init__(self, min_mae=.1):\n",
        "        self.min_mae = min_mae\n",
        "    \n",
        "    def on_epoch_end(self, epoch, logs={}):\n",
        "        if logs.get('mae') < self.min_mae:\n",
        "            print(f'\\nMAE reached below {self.min_mae}!')\n",
        "            self.model.stop_training = True\n",
        "\n",
        "callbacks = [CustomEarlyStopper(min_mae=threshold_mae)]"
      ],
      "metadata": {
        "id": "SD8YCPCf3Maj"
      },
      "execution_count": 15,
      "outputs": []
    },
    {
      "cell_type": "markdown",
      "source": [
        "#### Define Optimizer and Compile Model"
      ],
      "metadata": {
        "id": "N2AEUPaUNaXt"
      }
    },
    {
      "cell_type": "code",
      "source": [
        "optimizer = tf.keras.optimizers.SGD(learning_rate=1.0000e-04, momentum=0.9)\n",
        "\n",
        "model.compile(loss=tf.keras.losses.Huber(),\n",
        "              optimizer=optimizer,\n",
        "              metrics=['mae'])"
      ],
      "metadata": {
        "id": "ll-7ecsy3NHU"
      },
      "execution_count": 16,
      "outputs": []
    },
    {
      "cell_type": "markdown",
      "source": [
        "## Training"
      ],
      "metadata": {
        "id": "LGB5JnAQNSFx"
      }
    },
    {
      "cell_type": "code",
      "source": [
        "history = model.fit(train_gen, epochs=100, callbacks=callbacks, validation_data=test_gen, verbose=1)"
      ],
      "metadata": {
        "colab": {
          "base_uri": "https://localhost:8080/"
        },
        "id": "hZbe4GRj3Qy8",
        "outputId": "83f950a0-ae16-4c6b-f702-9f91f6db2c80"
      },
      "execution_count": 17,
      "outputs": [
        {
          "output_type": "stream",
          "name": "stdout",
          "text": [
            "Epoch 1/100\n",
            "2225/2225 [==============================] - 53s 20ms/step - loss: 0.0203 - mae: 0.1555 - val_loss: 0.0114 - val_mae: 0.1217\n",
            "Epoch 2/100\n",
            "2225/2225 [==============================] - 41s 18ms/step - loss: 0.0113 - mae: 0.1215 - val_loss: 0.0105 - val_mae: 0.1162\n",
            "Epoch 3/100\n",
            "2225/2225 [==============================] - 41s 19ms/step - loss: 0.0104 - mae: 0.1161 - val_loss: 0.0096 - val_mae: 0.1112\n",
            "Epoch 4/100\n",
            "2225/2225 [==============================] - 40s 18ms/step - loss: 0.0096 - mae: 0.1110 - val_loss: 0.0090 - val_mae: 0.1073\n",
            "Epoch 5/100\n",
            "2225/2225 [==============================] - 40s 18ms/step - loss: 0.0089 - mae: 0.1062 - val_loss: 0.0083 - val_mae: 0.1022\n",
            "Epoch 6/100\n",
            "2225/2225 [==============================] - 40s 18ms/step - loss: 0.0082 - mae: 0.1017 - val_loss: 0.0077 - val_mae: 0.0981\n",
            "Epoch 7/100\n",
            "2223/2225 [============================>.] - ETA: 0s - loss: 0.0076 - mae: 0.0975\n",
            "MAE reached below 0.09999999999999998!\n",
            "2225/2225 [==============================] - 40s 18ms/step - loss: 0.0076 - mae: 0.0975 - val_loss: 0.0072 - val_mae: 0.0943\n"
          ]
        }
      ]
    },
    {
      "cell_type": "markdown",
      "source": [
        "## Plotting"
      ],
      "metadata": {
        "id": "mOJFOG4gNQMp"
      }
    },
    {
      "cell_type": "code",
      "source": [
        "# summarize history for loss\n",
        "plt.plot(history.history['loss'])\n",
        "plt.plot(history.history['val_loss'])\n",
        "plt.title('Model Loss')\n",
        "plt.ylabel('loss')\n",
        "plt.xlabel('epoch')\n",
        "plt.legend(['train', 'val'], loc='upper left')\n",
        "plt.show()"
      ],
      "metadata": {
        "colab": {
          "base_uri": "https://localhost:8080/",
          "height": 295
        },
        "id": "7EpvCaMI3S18",
        "outputId": "3dcdeebd-cb37-4e6a-9917-73bda04616fd"
      },
      "execution_count": 18,
      "outputs": [
        {
          "output_type": "display_data",
          "data": {
            "text/plain": [
              "<Figure size 432x288 with 1 Axes>"
            ],
            "image/png": "[encoded data removed]"
          },
          "metadata": {
            "needs_background": "light"
          }
        }
      ]
    },
    {
      "cell_type": "code",
      "source": [
        "# summarize history for mae\n",
        "plt.plot(history.history['mae'])\n",
        "plt.plot(history.history['val_mae'])\n",
        "plt.title('Model MAE')\n",
        "plt.ylabel('mae')\n",
        "plt.xlabel('epoch')\n",
        "plt.legend(['train', 'val'], loc='upper left')\n",
        "plt.show()"
      ],
      "metadata": {
        "colab": {
          "base_uri": "https://localhost:8080/",
          "height": 295
        },
        "id": "9JY23OQQ_yZP",
        "outputId": "f433ef82-796f-4efb-d73f-98f34323bd6d"
      },
      "execution_count": 19,
      "outputs": [
        {
          "output_type": "display_data",
          "data": {
            "text/plain": [
              "<Figure size 432x288 with 1 Axes>"
            ],
            "image/png": "[encoded data removed]"
          },
          "metadata": {
            "needs_background": "light"
          }
        }
      ]
    }
  ]
}